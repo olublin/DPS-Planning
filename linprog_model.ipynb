{
 "cells": [
  {
   "cell_type": "code",
   "execution_count": 21,
   "id": "4e57b662-b419-4ec3-becd-5d865b963e46",
   "metadata": {},
   "outputs": [
    {
     "name": "stdout",
     "output_type": "stream",
     "text": [
      "Collecting pulp\n",
      "  Downloading pulp-3.2.1-py3-none-any.whl.metadata (6.9 kB)\n",
      "Downloading pulp-3.2.1-py3-none-any.whl (16.4 MB)\n",
      "   ---------------------------------------- 0.0/16.4 MB ? eta -:--:--\n",
      "   -------- ------------------------------- 3.4/16.4 MB 25.2 MB/s eta 0:00:01\n",
      "   ----------------------------- ---------- 12.1/16.4 MB 31.5 MB/s eta 0:00:01\n",
      "   ---------------------------------------- 16.4/16.4 MB 28.7 MB/s eta 0:00:00\n",
      "Installing collected packages: pulp\n",
      "Successfully installed pulp-3.2.1\n"
     ]
    }
   ],
   "source": [
    "import pandas as pd\n",
    "import geopandas as gpd\n",
    "import numpy as np\n",
    "import matplotlib.pyplot as plt\n",
    "!pip install pulp"
   ]
  },
  {
   "cell_type": "code",
   "execution_count": 23,
   "id": "3206a09d-4345-42f3-afc7-aef72ed0edd3",
   "metadata": {},
   "outputs": [],
   "source": [
    "import pulp\n",
    "#we will use pulp for the optimization"
   ]
  },
  {
   "cell_type": "code",
   "execution_count": 3,
   "id": "f4fc1701-5b6e-454a-9e1e-749cbbba5981",
   "metadata": {},
   "outputs": [
    {
     "data": {
      "text/html": [
       "<div>\n",
       "<style scoped>\n",
       "    .dataframe tbody tr th:only-of-type {\n",
       "        vertical-align: middle;\n",
       "    }\n",
       "\n",
       "    .dataframe tbody tr th {\n",
       "        vertical-align: top;\n",
       "    }\n",
       "\n",
       "    .dataframe thead th {\n",
       "        text-align: right;\n",
       "    }\n",
       "</style>\n",
       "<table border=\"1\" class=\"dataframe\">\n",
       "  <thead>\n",
       "    <tr style=\"text-align: right;\">\n",
       "      <th></th>\n",
       "      <th>pu_2324_84</th>\n",
       "      <th>student_gen</th>\n",
       "      <th>basez</th>\n",
       "      <th>final_proj</th>\n",
       "      <th>geometry</th>\n",
       "    </tr>\n",
       "  </thead>\n",
       "  <tbody>\n",
       "    <tr>\n",
       "      <th>0</th>\n",
       "      <td>1</td>\n",
       "      <td>0</td>\n",
       "      <td>0.0</td>\n",
       "      <td>0.0</td>\n",
       "      <td>MULTIPOLYGON (((-78.823 36.194, -78.823 36.192...</td>\n",
       "    </tr>\n",
       "    <tr>\n",
       "      <th>1</th>\n",
       "      <td>2</td>\n",
       "      <td>0</td>\n",
       "      <td>4.0</td>\n",
       "      <td>4.0</td>\n",
       "      <td>MULTIPOLYGON (((-78.862 36.052, -78.859 36.05,...</td>\n",
       "    </tr>\n",
       "    <tr>\n",
       "      <th>2</th>\n",
       "      <td>3</td>\n",
       "      <td>0</td>\n",
       "      <td>2.0</td>\n",
       "      <td>2.0</td>\n",
       "      <td>MULTIPOLYGON (((-78.794 35.944, -78.794 35.944...</td>\n",
       "    </tr>\n",
       "    <tr>\n",
       "      <th>3</th>\n",
       "      <td>4</td>\n",
       "      <td>0</td>\n",
       "      <td>1.0</td>\n",
       "      <td>1.0</td>\n",
       "      <td>MULTIPOLYGON (((-78.987 35.887, -78.986 35.887...</td>\n",
       "    </tr>\n",
       "    <tr>\n",
       "      <th>4</th>\n",
       "      <td>5</td>\n",
       "      <td>0</td>\n",
       "      <td>6.0</td>\n",
       "      <td>6.0</td>\n",
       "      <td>MULTIPOLYGON (((-78.754 36.031, -78.743 36.025...</td>\n",
       "    </tr>\n",
       "  </tbody>\n",
       "</table>\n",
       "</div>"
      ],
      "text/plain": [
       "   pu_2324_84  student_gen  basez  final_proj  \\\n",
       "0           1            0    0.0         0.0   \n",
       "1           2            0    4.0         4.0   \n",
       "2           3            0    2.0         2.0   \n",
       "3           4            0    1.0         1.0   \n",
       "4           5            0    6.0         6.0   \n",
       "\n",
       "                                            geometry  \n",
       "0  MULTIPOLYGON (((-78.823 36.194, -78.823 36.192...  \n",
       "1  MULTIPOLYGON (((-78.862 36.052, -78.859 36.05,...  \n",
       "2  MULTIPOLYGON (((-78.794 35.944, -78.794 35.944...  \n",
       "3  MULTIPOLYGON (((-78.987 35.887, -78.986 35.887...  \n",
       "4  MULTIPOLYGON (((-78.754 36.031, -78.743 36.025...  "
      ]
     },
     "execution_count": 3,
     "metadata": {},
     "output_type": "execute_result"
    }
   ],
   "source": [
    "stu_proj = gpd.read_file(r'C:\\\\Users\\\\olubl\\\\OneDrive\\\\College\\\\Data+\\\\DPS-Planning\\\\pu_with_proj.geojson')\n",
    "stu_proj.head()"
   ]
  },
  {
   "cell_type": "code",
   "execution_count": 5,
   "id": "0e1f5924-99f0-4237-a019-10cb8eefef08",
   "metadata": {},
   "outputs": [],
   "source": [
    "stu_proj = stu_proj.to_crs(epsg = 3857)\n",
    "stu_proj['centroid'] = stu_proj['geometry'].centroid"
   ]
  },
  {
   "cell_type": "code",
   "execution_count": 14,
   "id": "758e7593-4d83-449f-89be-59fe3620cb5f",
   "metadata": {},
   "outputs": [],
   "source": [
    "dps_base = gpd.read_file(r'C:\\\\Users\\\\olubl\\\\OneDrive\\\\College\\\\Data+\\\\DPS-Planning\\\\dps_base_2324.geojson')\n",
    "dps_base = dps_base.to_crs(epsg = 3857)\n",
    "base_hs = {'Jordan High School','Riverside High School','Northern High School','Hillside High School','Southern High School'}\n",
    "dps_base_hs = dps_base[dps_base['name'].isin(base_hs)]"
   ]
  },
  {
   "cell_type": "code",
   "execution_count": null,
   "id": "07178ed4-14dd-4ae7-82db-5ed23a4f3004",
   "metadata": {},
   "outputs": [],
   "source": [
    "#D is the 848x6 distance matrix\n",
    "#X is the 848x6 student assignment decision matrix\n",
    "\n",
    "#c in R^6 is the school capacity vector\n",
    "#v in R^848 is the planning unit student count vector \n",
    "\n",
    "#Minimize tr(DX^T)\n",
    "#subject to:\n",
    "    #sum of ith row of X = vi\n",
    "    #sum of jth column of X <= cj"
   ]
  },
  {
   "cell_type": "code",
   "execution_count": 25,
   "id": "78b0b6ab-7d35-4c53-85e6-5ea620c53aa2",
   "metadata": {},
   "outputs": [],
   "source": [
    "#calculate the distance matrix for existing high schools\n",
    "pu_centroids = stu_proj['centroid']\n",
    "distance_matrix = pd.DataFrame([])\n"
   ]
  },
  {
   "cell_type": "code",
   "execution_count": null,
   "id": "f7917aef-2e9d-440d-8b70-0f3d04370ad4",
   "metadata": {},
   "outputs": [],
   "source": [
    "#calculate the distance matrix for candidate locations\n"
   ]
  }
 ],
 "metadata": {
  "kernelspec": {
   "display_name": "Python [conda env:spatialdata]",
   "language": "python",
   "name": "conda-env-spatialdata-py"
  },
  "language_info": {
   "codemirror_mode": {
    "name": "ipython",
    "version": 3
   },
   "file_extension": ".py",
   "mimetype": "text/x-python",
   "name": "python",
   "nbconvert_exporter": "python",
   "pygments_lexer": "ipython3",
   "version": "3.12.7"
  }
 },
 "nbformat": 4,
 "nbformat_minor": 5
}
