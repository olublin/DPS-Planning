{
 "cells": [
  {
   "cell_type": "code",
   "execution_count": 2,
   "id": "ab4a5583-d187-4680-a1c1-441ab885e5f0",
   "metadata": {},
   "outputs": [],
   "source": [
    "import numpy as np\n",
    "import pandas as pd\n",
    "import geopandas as gpd"
   ]
  },
  {
   "cell_type": "code",
   "execution_count": 28,
   "id": "25e43375-e7cb-4bea-aeea-56b4fadf304c",
   "metadata": {},
   "outputs": [],
   "source": [
    "# read data from Data+_2025/data/enrollment_projections/sgr_table_region_2324_20240710.xlsx in Google Drive\n",
    "sgr_data = pd.read_excel('/Users/leahwallihan/Durham_school_planning/sgr_htype_region.xlsx')"
   ]
  },
  {
   "cell_type": "code",
   "execution_count": 20,
   "id": "6a0b1a29-3428-42e7-8a4f-b23d57142ba2",
   "metadata": {},
   "outputs": [],
   "source": [
    "# remove null values and shorten to only use relevant columns\n",
    "sgr_data = sgr_data.dropna()\n",
    "sgr_data.rename(columns={'sgr_dps_2324_all.1': 'sgr_dps_avg_k12'}) # because there might be a typo in the file?\n",
    "sgr_data = sgr_data[['housing_type','region','sgr_dps_avg_k12']]\n",
    "sgr_data['sgr_dps_avg_k12'] = sgr_data['sgr_dps_avg_k12'].round(4)"
   ]
  },
  {
   "cell_type": "code",
   "execution_count": 38,
   "id": "3001cbdd-c67f-4da6-820b-f10fcbac25fb",
   "metadata": {},
   "outputs": [],
   "source": [
    "# read in shapefile to get geometries for HS regions from Data+_2025/QGIS/DPS shapefiles from layers\n",
    "regions = gpd.read_file(r'/Users/leahwallihan/Durham_school_planning/geospatial files/HS_regions')[['region', 'geometry']]"
   ]
  },
  {
   "cell_type": "code",
   "execution_count": 34,
   "id": "105f9545-7bc2-4529-a10e-e11a593a7482",
   "metadata": {},
   "outputs": [
    {
     "data": {
      "text/plain": [
       "Index(['OBJECTID', 'fid_1', 'region', 'mont', 'ib', 'yr1', 'yr2', 'dli',\n",
       "       'online_es', 'mont_id', 'ib_id', 'yr_id', 'yr2_id', 'dli_id',\n",
       "       'online_es_', 'yr_ms', 'mont_ms1', 'mont_ms2', 'ib_ms', 'dli_ms',\n",
       "       'arts_ms', 'online_ms', 'yr_ms_id', 'mont_ms1_i', 'mont_ms2_i',\n",
       "       'ib_ms_id', 'dli_ms_id', 'arts_ms_id', 'online_ms_', 'stem_hs', 'ib_hs',\n",
       "       'arts_hs', 'ec1_hs', 'ec2_hs', 'ec3_hs', 'ec4_hs', 'online_hs',\n",
       "       'stem_hs_id', 'ib_hs_id', 'arts_hs_id', 'ec1_hs_id', 'ec2_hs_id',\n",
       "       'ec3_hs_id', 'ec4_hs_id', 'online_hs_', 'Shape_Leng', 'Shape_Area',\n",
       "       'geometry'],\n",
       "      dtype='object')"
      ]
     },
     "execution_count": 34,
     "metadata": {},
     "output_type": "execute_result"
    }
   ],
   "source": []
  },
  {
   "cell_type": "code",
   "execution_count": 40,
   "id": "c13de98f-1e3a-4250-8e81-fc112879f19f",
   "metadata": {},
   "outputs": [
    {
     "data": {
      "text/html": [
       "<div>\n",
       "<style scoped>\n",
       "    .dataframe tbody tr th:only-of-type {\n",
       "        vertical-align: middle;\n",
       "    }\n",
       "\n",
       "    .dataframe tbody tr th {\n",
       "        vertical-align: top;\n",
       "    }\n",
       "\n",
       "    .dataframe thead th {\n",
       "        text-align: right;\n",
       "    }\n",
       "</style>\n",
       "<table border=\"1\" class=\"dataframe\">\n",
       "  <thead>\n",
       "    <tr style=\"text-align: right;\">\n",
       "      <th></th>\n",
       "      <th>region</th>\n",
       "      <th>geometry</th>\n",
       "    </tr>\n",
       "  </thead>\n",
       "  <tbody>\n",
       "    <tr>\n",
       "      <th>0</th>\n",
       "      <td>Central</td>\n",
       "      <td>POLYGON ((2033813.235 831343.793, 2034345.112 ...</td>\n",
       "    </tr>\n",
       "    <tr>\n",
       "      <th>1</th>\n",
       "      <td>East</td>\n",
       "      <td>POLYGON ((2076824.784 827577.02, 2076829.527 8...</td>\n",
       "    </tr>\n",
       "    <tr>\n",
       "      <th>2</th>\n",
       "      <td>North</td>\n",
       "      <td>POLYGON ((2057650.162 851182.236, 2057445.451 ...</td>\n",
       "    </tr>\n",
       "    <tr>\n",
       "      <th>3</th>\n",
       "      <td>Southeast</td>\n",
       "      <td>POLYGON ((2039564.628 806881.697, 2039758.538 ...</td>\n",
       "    </tr>\n",
       "    <tr>\n",
       "      <th>4</th>\n",
       "      <td>Southwest</td>\n",
       "      <td>POLYGON ((2010158.969 831111.207, 2010977.529 ...</td>\n",
       "    </tr>\n",
       "  </tbody>\n",
       "</table>\n",
       "</div>"
      ],
      "text/plain": [
       "      region                                           geometry\n",
       "0    Central  POLYGON ((2033813.235 831343.793, 2034345.112 ...\n",
       "1       East  POLYGON ((2076824.784 827577.02, 2076829.527 8...\n",
       "2      North  POLYGON ((2057650.162 851182.236, 2057445.451 ...\n",
       "3  Southeast  POLYGON ((2039564.628 806881.697, 2039758.538 ...\n",
       "4  Southwest  POLYGON ((2010158.969 831111.207, 2010977.529 ..."
      ]
     },
     "execution_count": 40,
     "metadata": {},
     "output_type": "execute_result"
    }
   ],
   "source": [
    "regions.head()"
   ]
  },
  {
   "cell_type": "code",
   "execution_count": null,
   "id": "2ae2e573-76f1-4c3f-9cc0-467cf3d4b91e",
   "metadata": {},
   "outputs": [],
   "source": []
  }
 ],
 "metadata": {
  "kernelspec": {
   "display_name": "Python [conda env:spatialdata]",
   "language": "python",
   "name": "conda-env-spatialdata-py"
  },
  "language_info": {
   "codemirror_mode": {
    "name": "ipython",
    "version": 3
   },
   "file_extension": ".py",
   "mimetype": "text/x-python",
   "name": "python",
   "nbconvert_exporter": "python",
   "pygments_lexer": "ipython3",
   "version": "3.12.7"
  }
 },
 "nbformat": 4,
 "nbformat_minor": 5
}
