{
 "cells": [
  {
   "cell_type": "code",
   "execution_count": 3,
   "id": "ab4a5583-d187-4680-a1c1-441ab885e5f0",
   "metadata": {},
   "outputs": [],
   "source": [
    "import numpy as np\n",
    "import pandas as pd\n",
    "import geopandas as gpd\n",
    "import matplotlib.pyplot as plt"
   ]
  },
  {
   "cell_type": "code",
   "execution_count": 14,
   "id": "25e43375-e7cb-4bea-aeea-56b4fadf304c",
   "metadata": {},
   "outputs": [],
   "source": [
    "# read data from Data+_2025/data/enrollment_projections/sgr_table_region_2324_20240710.xlsx in Google Drive\n",
    "sgr_data = pd.read_excel(r'/Users/leahwallihan/Durham_school_planning/sgr_htype_region.xlsx')"
   ]
  },
  {
   "cell_type": "code",
   "execution_count": 16,
   "id": "4526c28d",
   "metadata": {},
   "outputs": [],
   "source": [
    "# remove null values and shorten to only use relevant columns\n",
    "sgr_data = sgr_data.dropna()\n",
    "sgr_data.rename(columns={'sgr_dps_2324_all.1': 'sgr_dps_avg_k12'}, inplace=True) # because there might be a typo in the file?\n",
    "sgr_data = sgr_data[['housing_type','region','sgr_dps_avg_k12']]\n",
    "sgr_data['sgr_dps_avg_k12'] = sgr_data['sgr_dps_avg_k12'].round(4)\n",
    "sgr_data.set_index(['region', 'housing_type'], inplace=True)"
   ]
  },
  {
   "cell_type": "code",
   "execution_count": 18,
   "id": "c13de98f-1e3a-4250-8e81-fc112879f19f",
   "metadata": {},
   "outputs": [],
   "source": [
    "# read in shapefile to get geometries for HS regions from Data+_2025/QGIS/DPS shapefiles from layers in Google Drive\n",
    "regions = gpd.read_file(r'/Users/leahwallihan/Durham_school_planning/geospatial files/HS_regions')[['region', 'geometry']]\n",
    "regions = regions.to_crs('EPSG:4326')\n",
    "#read in geojson with residential developments\n",
    "res_dev = gpd.read_file(r'/Users/leahwallihan/Durham_school_planning/DPS-Planning/GIS_files/resdev_cases.geojson')\n",
    "res_dev = res_dev.to_crs('EPSG:4326')"
   ]
  },
  {
   "cell_type": "code",
   "execution_count": 20,
   "id": "06b3a132-de08-4dcf-b061-644d2319c0f0",
   "metadata": {},
   "outputs": [],
   "source": [
    "# function to count number of students in each row\n",
    "def count_students(row): \n",
    "        \n",
    "    htype_map = {\n",
    "        'sf_detached': 'sf_detach',\n",
    "        'sf_attached': 'sf_attach',\n",
    "        'duplex/triplex': 'du_tri',\n",
    "        'multifamily': 'mf_apt',\n",
    "        'condo': 'condo'\n",
    "    }\n",
    "\n",
    "    region = row['region']\n",
    "\n",
    "    total = 0\n",
    "    for col_name, sgr_col in htype_map.items():\n",
    "        count = row.get(col_name, 0)\n",
    "\n",
    "        try:\n",
    "            multiplier = sgr_data.loc[(region, sgr_col), 'sgr_dps_avg_k12']\n",
    "        except KeyError:\n",
    "            multiplier = 0\n",
    "\n",
    "        total += count * multiplier\n",
    "\n",
    "    return total"
   ]
  },
  {
   "cell_type": "code",
   "execution_count": 22,
   "id": "c56ef292",
   "metadata": {},
   "outputs": [],
   "source": [
    "res_dev['student_gen'] = res_dev.apply(count_students, axis=1)"
   ]
  },
  {
   "cell_type": "code",
   "execution_count": 24,
   "id": "0cd83953",
   "metadata": {},
   "outputs": [],
   "source": [
    "# gets counts for each region\n",
    "region_gen = res_dev.groupby('region')['student_gen'].sum()\n",
    "regions.set_index('region', inplace=True)\n",
    "regions['student_gen'] = region_gen"
   ]
  },
  {
   "cell_type": "code",
   "execution_count": null,
   "id": "388a15c1",
   "metadata": {},
   "outputs": [],
   "source": [
    "#regions.to_file('region_gen.geojson', driver='GeoJSON')"
   ]
  },
  {
   "cell_type": "code",
   "execution_count": null,
   "id": "19c436aa",
   "metadata": {},
   "outputs": [],
   "source": [
    "#res_dev.to_file('resdev_with_stu_proj.geojson', driver='GeoJSON')"
   ]
  },
  {
   "cell_type": "code",
   "execution_count": 26,
   "id": "2032c959",
   "metadata": {},
   "outputs": [
    {
     "data": {
      "image/png": "[encoded data removed]",
      "text/plain": [
       "<Figure size 640x480 with 1 Axes>"
      ]
     },
     "metadata": {},
     "output_type": "display_data"
    }
   ],
   "source": [
    "#res_dev[\"student_gen\"].max()\n",
    "\n",
    "res_dev[\"student_gen\"].plot.hist(bins=20, edgecolor='black')\n",
    "\n",
    "plt.xlabel(\"Student_gen\")\n",
    "plt.ylabel(\"Frequency\")\n",
    "plt.title(\"Distribution of student_gen values\")\n",
    "plt.grid(True)\n",
    "\n",
    "plt.show()"
   ]
  },
  {
   "cell_type": "code",
   "execution_count": 28,
   "id": "ed835da9-543d-4176-8840-2b99ff685326",
   "metadata": {},
   "outputs": [],
   "source": [
    "# read in planning unit shapefile \n",
    "pu = gpd.read_file('/Users/leahwallihan/Durham_school_planning/geospatial files/pu_shape.geojson')"
   ]
  },
  {
   "cell_type": "code",
   "execution_count": null,
   "id": "50443e4d-1494-496a-8f33-d1d9982cc759",
   "metadata": {},
   "outputs": [],
   "source": []
  }
 ],
 "metadata": {
  "kernelspec": {
   "display_name": "Python [conda env:spatialdata]",
   "language": "python",
   "name": "conda-env-spatialdata-py"
  },
  "language_info": {
   "codemirror_mode": {
    "name": "ipython",
    "version": 3
   },
   "file_extension": ".py",
   "mimetype": "text/x-python",
   "name": "python",
   "nbconvert_exporter": "python",
   "pygments_lexer": "ipython3",
   "version": "3.12.7"
  }
 },
 "nbformat": 4,
 "nbformat_minor": 5
}
