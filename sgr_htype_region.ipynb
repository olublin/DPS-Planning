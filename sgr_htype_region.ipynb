{
 "cells": [
  {
   "cell_type": "code",
   "execution_count": 2,
   "id": "ab4a5583-d187-4680-a1c1-441ab885e5f0",
   "metadata": {},
   "outputs": [],
   "source": [
    "import numpy as np\n",
    "import pandas as pd\n",
    "import geopandas as gpd"
   ]
  },
  {
   "cell_type": "code",
   "execution_count": 3,
   "id": "25e43375-e7cb-4bea-aeea-56b4fadf304c",
   "metadata": {},
   "outputs": [],
   "source": [
    "# read data from Data+_2025/data/enrollment_projections/sgr_table_region_2324_20240710.xlsx in Google Drive\n",
    "sgr_data = pd.read_excel('/Users/leahwallihan/Durham_school_planning/sgr_htype_region.xlsx')"
   ]
  },
  {
   "cell_type": "code",
   "execution_count": 4,
   "id": "6a0b1a29-3428-42e7-8a4f-b23d57142ba2",
   "metadata": {},
   "outputs": [],
   "source": [
    "# remove null values and shorten to only use relevant columns\n",
    "sgr_data = sgr_data.dropna()\n",
    "sgr_data.rename(columns={'sgr_dps_2324_all.1': 'sgr_dps_avg_k12'}, inplace=True) # because there might be a typo in the file?\n",
    "sgr_data = sgr_data[['housing_type','region','sgr_dps_avg_k12']]\n",
    "sgr_data['sgr_dps_avg_k12'] = sgr_data['sgr_dps_avg_k12'].round(4)\n",
    "sgr_data.set_index(['region', 'housing_type'], inplace=True)"
   ]
  },
  {
   "cell_type": "code",
   "execution_count": 5,
   "id": "3001cbdd-c67f-4da6-820b-f10fcbac25fb",
   "metadata": {},
   "outputs": [],
   "source": [
    "# read in shapefile to get geometries for HS regions from Data+_2025/QGIS/DPS shapefiles from layers in Google Drive\n",
    "regions = gpd.read_file(r'/Users/leahwallihan/Durham_school_planning/geospatial files/HS_regions')[['region', 'geometry']]\n",
    "regions = regions.to_crs('EPSG:4326')\n",
    "#read in geojson with residential developments\n",
    "res_dev = gpd.read_file(r'/Users/leahwallihan/Durham_school_planning/DPS-Planning/GIS_files/resdev_cases.geojson')\n",
    "res_dev = res_dev.to_crs('EPSG:4326')"
   ]
  },
  {
   "cell_type": "code",
   "execution_count": 6,
   "id": "4a1adcab-160e-4a5e-a4a5-6fd450eeee2e",
   "metadata": {},
   "outputs": [],
   "source": [
    "# let's define a function that will count up number of students generated for each data point\n",
    "def count_students(row):\n",
    "        \n",
    "    htype_map = {\n",
    "        'sf_detached': 'sf_detach',\n",
    "        'sf_attached': 'sf_attach',\n",
    "        'duplex/triplex': 'du_tri',\n",
    "        'multifamily': 'mf_apt',\n",
    "        'condo': 'condo'\n",
    "    }\n",
    "\n",
    "    region = row['region']\n",
    "\n",
    "    total = 0\n",
    "    for col_name, sgr_col in htype_map.items(): # col_name is the housing type columns in the residential developments data\n",
    "        count = row.get(col_name, 0)\n",
    "\n",
    "        try:\n",
    "            multiplier = sgr_data.loc[(region, sgr_col), 'sgr_dps_avg_k12']\n",
    "        except KeyError:\n",
    "            multiplier = 0\n",
    "\n",
    "        total += count * multiplier\n",
    "\n",
    "    return total"
   ]
  },
  {
   "cell_type": "code",
   "execution_count": 7,
   "id": "105f9545-7bc2-4529-a10e-e11a593a7482",
   "metadata": {},
   "outputs": [],
   "source": [
    "# generate student counts for each data point\n",
    "res_dev['student_gen'] = res_dev.apply(count_students, axis=1)"
   ]
  },
  {
   "cell_type": "code",
   "execution_count": 8,
   "id": "aff229a6-191e-4f41-96a6-9d5277c819b2",
   "metadata": {},
   "outputs": [],
   "source": [
    "# read census tract shape file\n",
    "census_shape = gpd.read_file('/Users/leahwallihan/Durham_school_planning/geospatial files/nc_censustract_shape')\n",
    "census_shape = census_shape[census_shape['COUNTYFP'] == '063'] # only Durham tracts\n",
    "census_shape = census_shape.to_crs('EPSG:4326')"
   ]
  },
  {
   "cell_type": "code",
   "execution_count": 9,
   "id": "d5c2e97a-ca76-43e7-8135-10a62d8c493d",
   "metadata": {},
   "outputs": [],
   "source": [
    "# assign a census tract to each data point\n",
    "res_dev_tract = res_dev.copy()\n",
    "\n",
    "for i,geometry in enumerate(census_shape['geometry']):\n",
    "    \n",
    "    in_geometry = geometry.contains(res_dev['geometry'])\n",
    "    census_tract = census_shape.iloc[i]['TRACTCE']\n",
    "\n",
    "    res_dev_tract.loc[in_geometry, 'tract'] = census_tract"
   ]
  },
  {
   "cell_type": "code",
   "execution_count": 10,
   "id": "28f6fc12-c234-43c8-8d2c-ee46eea78b0e",
   "metadata": {},
   "outputs": [],
   "source": [
    "# add student_gen as a column to census tract file\n",
    "tract_gen = res_dev_tract.groupby('tract')['student_gen'].sum()\n",
    "census_shape.set_index('TRACTCE', inplace=True)\n",
    "census_shape['student_gen'] = tract_gen\n",
    "census_shape['student_gen'] = census_shape['student_gen'].fillna(0)"
   ]
  },
  {
   "cell_type": "code",
   "execution_count": 11,
   "id": "f7f36fe3-db4e-4061-9ad3-e26aca2e20a0",
   "metadata": {},
   "outputs": [],
   "source": [
    "# add student_gen column to regions shape file\n",
    "region_gen = res_dev.groupby('region')['student_gen'].sum()\n",
    "regions.set_index('region', inplace=True)\n",
    "regions['student_gen'] = region_gen"
   ]
  },
  {
   "cell_type": "code",
   "execution_count": 12,
   "id": "7d1a2a44-63d1-46df-9f8e-a5d4673f509a",
   "metadata": {},
   "outputs": [],
   "source": [
    "census_shape.to_file('census_gen.geojson', driver='GeoJSON')"
   ]
  },
  {
   "cell_type": "code",
   "execution_count": 13,
   "id": "f68ba0ce-7849-4728-97f1-885ef6bc8976",
   "metadata": {},
   "outputs": [],
   "source": [
    "# regions.to_file('region_gen.geojson', driver='GeoJSON')"
   ]
  },
  {
   "cell_type": "code",
   "execution_count": 14,
   "id": "18499d23-3962-45ab-bd40-bac63bc3fce8",
   "metadata": {},
   "outputs": [],
   "source": [
    "# res_dev.to_file('resdev_student_gen.geojson', driver='GeoJSON')"
   ]
  },
  {
   "cell_type": "code",
   "execution_count": null,
   "id": "bc5365e4-919f-47f4-8359-1ec240b80b4d",
   "metadata": {},
   "outputs": [],
   "source": []
  }
 ],
 "metadata": {
  "kernelspec": {
   "display_name": "Python [conda env:spatialdata]",
   "language": "python",
   "name": "conda-env-spatialdata-py"
  },
  "language_info": {
   "codemirror_mode": {
    "name": "ipython",
    "version": 3
   },
   "file_extension": ".py",
   "mimetype": "text/x-python",
   "name": "python",
   "nbconvert_exporter": "python",
   "pygments_lexer": "ipython3",
   "version": "3.12.7"
  }
 },
 "nbformat": 4,
 "nbformat_minor": 5
}
