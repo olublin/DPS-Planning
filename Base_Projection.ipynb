{
 "cells": [
  {
   "cell_type": "code",
   "execution_count": 27,
   "id": "01690476-0ef2-4941-8f6a-e0848664e740",
   "metadata": {},
   "outputs": [],
   "source": [
    "import pandas as pd\n",
    "import geopandas as gpd\n",
    "import numpy as np\n",
    "import matplotlib.pyplot as plt\n",
    "import os\n",
    "import cartopy\n",
    "from shapely.geometry import point\n",
    "import math"
   ]
  },
  {
   "cell_type": "code",
   "execution_count": 28,
   "id": "1dbe99e6-2c0b-469a-b16a-3d829bcb4d01",
   "metadata": {},
   "outputs": [
    {
     "data": {
      "text/plain": [
       "'/Users/leahwallihan/Durham_school_planning/DPS-Planning'"
      ]
     },
     "execution_count": 28,
     "metadata": {},
     "output_type": "execute_result"
    }
   ],
   "source": [
    "os.getcwd()"
   ]
  },
  {
   "cell_type": "code",
   "execution_count": 29,
   "id": "393d46b0-0fc3-46b2-95a3-90a5230f3ace",
   "metadata": {},
   "outputs": [
    {
     "ename": "FileNotFoundError",
     "evalue": "[Errno 2] No such file or directory: 'C:\\\\\\\\Users\\\\\\\\olubl\\\\\\\\OneDrive\\\\\\\\College\\\\\\\\Data+\\\\\\\\DPS-Planning\\\\\\\\marketshare_output_pu_2324_848_gr_2021_2425_long.csv'",
     "output_type": "error",
     "traceback": [
      "\u001b[0;31m---------------------------------------------------------------------------\u001b[0m",
      "\u001b[0;31mFileNotFoundError\u001b[0m                         Traceback (most recent call last)",
      "Cell \u001b[0;32mIn[29], line 2\u001b[0m\n\u001b[1;32m      1\u001b[0m \u001b[38;5;66;03m#loading in the current enrollment for only the 2024-25 school year\u001b[39;00m\n\u001b[0;32m----> 2\u001b[0m current_enrollment \u001b[38;5;241m=\u001b[39m pd\u001b[38;5;241m.\u001b[39mread_csv(\u001b[38;5;124mr\u001b[39m\u001b[38;5;124m'\u001b[39m\u001b[38;5;124mC:\u001b[39m\u001b[38;5;130;01m\\\\\u001b[39;00m\u001b[38;5;124mUsers\u001b[39m\u001b[38;5;130;01m\\\\\u001b[39;00m\u001b[38;5;124molubl\u001b[39m\u001b[38;5;130;01m\\\\\u001b[39;00m\u001b[38;5;124mOneDrive\u001b[39m\u001b[38;5;130;01m\\\\\u001b[39;00m\u001b[38;5;124mCollege\u001b[39m\u001b[38;5;130;01m\\\\\u001b[39;00m\u001b[38;5;124mData+\u001b[39m\u001b[38;5;130;01m\\\\\u001b[39;00m\u001b[38;5;124mDPS-Planning\u001b[39m\u001b[38;5;130;01m\\\\\u001b[39;00m\u001b[38;5;124mmarketshare_output_pu_2324_848_gr_2021_2425_long.csv\u001b[39m\u001b[38;5;124m'\u001b[39m)\n\u001b[1;32m      3\u001b[0m \u001b[38;5;66;03m#current_enrollment_2024 = current_enrollment[current_enrollment['year_str']=='2024-2025']\u001b[39;00m\n\u001b[1;32m      5\u001b[0m current_enrollment \u001b[38;5;241m=\u001b[39m current_enrollment\u001b[38;5;241m.\u001b[39mrename(columns \u001b[38;5;241m=\u001b[39m {\u001b[38;5;124m'\u001b[39m\u001b[38;5;124mpu_2324_848\u001b[39m\u001b[38;5;124m'\u001b[39m:\u001b[38;5;124m'\u001b[39m\u001b[38;5;124mpu_2324_84\u001b[39m\u001b[38;5;124m'\u001b[39m})\n",
      "File \u001b[0;32m/opt/anaconda3/envs/spatialdata/lib/python3.12/site-packages/pandas/io/parsers/readers.py:1026\u001b[0m, in \u001b[0;36mread_csv\u001b[0;34m(filepath_or_buffer, sep, delimiter, header, names, index_col, usecols, dtype, engine, converters, true_values, false_values, skipinitialspace, skiprows, skipfooter, nrows, na_values, keep_default_na, na_filter, verbose, skip_blank_lines, parse_dates, infer_datetime_format, keep_date_col, date_parser, date_format, dayfirst, cache_dates, iterator, chunksize, compression, thousands, decimal, lineterminator, quotechar, quoting, doublequote, escapechar, comment, encoding, encoding_errors, dialect, on_bad_lines, delim_whitespace, low_memory, memory_map, float_precision, storage_options, dtype_backend)\u001b[0m\n\u001b[1;32m   1013\u001b[0m kwds_defaults \u001b[38;5;241m=\u001b[39m _refine_defaults_read(\n\u001b[1;32m   1014\u001b[0m     dialect,\n\u001b[1;32m   1015\u001b[0m     delimiter,\n\u001b[0;32m   (...)\u001b[0m\n\u001b[1;32m   1022\u001b[0m     dtype_backend\u001b[38;5;241m=\u001b[39mdtype_backend,\n\u001b[1;32m   1023\u001b[0m )\n\u001b[1;32m   1024\u001b[0m kwds\u001b[38;5;241m.\u001b[39mupdate(kwds_defaults)\n\u001b[0;32m-> 1026\u001b[0m \u001b[38;5;28;01mreturn\u001b[39;00m _read(filepath_or_buffer, kwds)\n",
      "File \u001b[0;32m/opt/anaconda3/envs/spatialdata/lib/python3.12/site-packages/pandas/io/parsers/readers.py:620\u001b[0m, in \u001b[0;36m_read\u001b[0;34m(filepath_or_buffer, kwds)\u001b[0m\n\u001b[1;32m    617\u001b[0m _validate_names(kwds\u001b[38;5;241m.\u001b[39mget(\u001b[38;5;124m\"\u001b[39m\u001b[38;5;124mnames\u001b[39m\u001b[38;5;124m\"\u001b[39m, \u001b[38;5;28;01mNone\u001b[39;00m))\n\u001b[1;32m    619\u001b[0m \u001b[38;5;66;03m# Create the parser.\u001b[39;00m\n\u001b[0;32m--> 620\u001b[0m parser \u001b[38;5;241m=\u001b[39m TextFileReader(filepath_or_buffer, \u001b[38;5;241m*\u001b[39m\u001b[38;5;241m*\u001b[39mkwds)\n\u001b[1;32m    622\u001b[0m \u001b[38;5;28;01mif\u001b[39;00m chunksize \u001b[38;5;129;01mor\u001b[39;00m iterator:\n\u001b[1;32m    623\u001b[0m     \u001b[38;5;28;01mreturn\u001b[39;00m parser\n",
      "File \u001b[0;32m/opt/anaconda3/envs/spatialdata/lib/python3.12/site-packages/pandas/io/parsers/readers.py:1620\u001b[0m, in \u001b[0;36mTextFileReader.__init__\u001b[0;34m(self, f, engine, **kwds)\u001b[0m\n\u001b[1;32m   1617\u001b[0m     \u001b[38;5;28mself\u001b[39m\u001b[38;5;241m.\u001b[39moptions[\u001b[38;5;124m\"\u001b[39m\u001b[38;5;124mhas_index_names\u001b[39m\u001b[38;5;124m\"\u001b[39m] \u001b[38;5;241m=\u001b[39m kwds[\u001b[38;5;124m\"\u001b[39m\u001b[38;5;124mhas_index_names\u001b[39m\u001b[38;5;124m\"\u001b[39m]\n\u001b[1;32m   1619\u001b[0m \u001b[38;5;28mself\u001b[39m\u001b[38;5;241m.\u001b[39mhandles: IOHandles \u001b[38;5;241m|\u001b[39m \u001b[38;5;28;01mNone\u001b[39;00m \u001b[38;5;241m=\u001b[39m \u001b[38;5;28;01mNone\u001b[39;00m\n\u001b[0;32m-> 1620\u001b[0m \u001b[38;5;28mself\u001b[39m\u001b[38;5;241m.\u001b[39m_engine \u001b[38;5;241m=\u001b[39m \u001b[38;5;28mself\u001b[39m\u001b[38;5;241m.\u001b[39m_make_engine(f, \u001b[38;5;28mself\u001b[39m\u001b[38;5;241m.\u001b[39mengine)\n",
      "File \u001b[0;32m/opt/anaconda3/envs/spatialdata/lib/python3.12/site-packages/pandas/io/parsers/readers.py:1880\u001b[0m, in \u001b[0;36mTextFileReader._make_engine\u001b[0;34m(self, f, engine)\u001b[0m\n\u001b[1;32m   1878\u001b[0m     \u001b[38;5;28;01mif\u001b[39;00m \u001b[38;5;124m\"\u001b[39m\u001b[38;5;124mb\u001b[39m\u001b[38;5;124m\"\u001b[39m \u001b[38;5;129;01mnot\u001b[39;00m \u001b[38;5;129;01min\u001b[39;00m mode:\n\u001b[1;32m   1879\u001b[0m         mode \u001b[38;5;241m+\u001b[39m\u001b[38;5;241m=\u001b[39m \u001b[38;5;124m\"\u001b[39m\u001b[38;5;124mb\u001b[39m\u001b[38;5;124m\"\u001b[39m\n\u001b[0;32m-> 1880\u001b[0m \u001b[38;5;28mself\u001b[39m\u001b[38;5;241m.\u001b[39mhandles \u001b[38;5;241m=\u001b[39m get_handle(\n\u001b[1;32m   1881\u001b[0m     f,\n\u001b[1;32m   1882\u001b[0m     mode,\n\u001b[1;32m   1883\u001b[0m     encoding\u001b[38;5;241m=\u001b[39m\u001b[38;5;28mself\u001b[39m\u001b[38;5;241m.\u001b[39moptions\u001b[38;5;241m.\u001b[39mget(\u001b[38;5;124m\"\u001b[39m\u001b[38;5;124mencoding\u001b[39m\u001b[38;5;124m\"\u001b[39m, \u001b[38;5;28;01mNone\u001b[39;00m),\n\u001b[1;32m   1884\u001b[0m     compression\u001b[38;5;241m=\u001b[39m\u001b[38;5;28mself\u001b[39m\u001b[38;5;241m.\u001b[39moptions\u001b[38;5;241m.\u001b[39mget(\u001b[38;5;124m\"\u001b[39m\u001b[38;5;124mcompression\u001b[39m\u001b[38;5;124m\"\u001b[39m, \u001b[38;5;28;01mNone\u001b[39;00m),\n\u001b[1;32m   1885\u001b[0m     memory_map\u001b[38;5;241m=\u001b[39m\u001b[38;5;28mself\u001b[39m\u001b[38;5;241m.\u001b[39moptions\u001b[38;5;241m.\u001b[39mget(\u001b[38;5;124m\"\u001b[39m\u001b[38;5;124mmemory_map\u001b[39m\u001b[38;5;124m\"\u001b[39m, \u001b[38;5;28;01mFalse\u001b[39;00m),\n\u001b[1;32m   1886\u001b[0m     is_text\u001b[38;5;241m=\u001b[39mis_text,\n\u001b[1;32m   1887\u001b[0m     errors\u001b[38;5;241m=\u001b[39m\u001b[38;5;28mself\u001b[39m\u001b[38;5;241m.\u001b[39moptions\u001b[38;5;241m.\u001b[39mget(\u001b[38;5;124m\"\u001b[39m\u001b[38;5;124mencoding_errors\u001b[39m\u001b[38;5;124m\"\u001b[39m, \u001b[38;5;124m\"\u001b[39m\u001b[38;5;124mstrict\u001b[39m\u001b[38;5;124m\"\u001b[39m),\n\u001b[1;32m   1888\u001b[0m     storage_options\u001b[38;5;241m=\u001b[39m\u001b[38;5;28mself\u001b[39m\u001b[38;5;241m.\u001b[39moptions\u001b[38;5;241m.\u001b[39mget(\u001b[38;5;124m\"\u001b[39m\u001b[38;5;124mstorage_options\u001b[39m\u001b[38;5;124m\"\u001b[39m, \u001b[38;5;28;01mNone\u001b[39;00m),\n\u001b[1;32m   1889\u001b[0m )\n\u001b[1;32m   1890\u001b[0m \u001b[38;5;28;01massert\u001b[39;00m \u001b[38;5;28mself\u001b[39m\u001b[38;5;241m.\u001b[39mhandles \u001b[38;5;129;01mis\u001b[39;00m \u001b[38;5;129;01mnot\u001b[39;00m \u001b[38;5;28;01mNone\u001b[39;00m\n\u001b[1;32m   1891\u001b[0m f \u001b[38;5;241m=\u001b[39m \u001b[38;5;28mself\u001b[39m\u001b[38;5;241m.\u001b[39mhandles\u001b[38;5;241m.\u001b[39mhandle\n",
      "File \u001b[0;32m/opt/anaconda3/envs/spatialdata/lib/python3.12/site-packages/pandas/io/common.py:873\u001b[0m, in \u001b[0;36mget_handle\u001b[0;34m(path_or_buf, mode, encoding, compression, memory_map, is_text, errors, storage_options)\u001b[0m\n\u001b[1;32m    868\u001b[0m \u001b[38;5;28;01melif\u001b[39;00m \u001b[38;5;28misinstance\u001b[39m(handle, \u001b[38;5;28mstr\u001b[39m):\n\u001b[1;32m    869\u001b[0m     \u001b[38;5;66;03m# Check whether the filename is to be opened in binary mode.\u001b[39;00m\n\u001b[1;32m    870\u001b[0m     \u001b[38;5;66;03m# Binary mode does not support 'encoding' and 'newline'.\u001b[39;00m\n\u001b[1;32m    871\u001b[0m     \u001b[38;5;28;01mif\u001b[39;00m ioargs\u001b[38;5;241m.\u001b[39mencoding \u001b[38;5;129;01mand\u001b[39;00m \u001b[38;5;124m\"\u001b[39m\u001b[38;5;124mb\u001b[39m\u001b[38;5;124m\"\u001b[39m \u001b[38;5;129;01mnot\u001b[39;00m \u001b[38;5;129;01min\u001b[39;00m ioargs\u001b[38;5;241m.\u001b[39mmode:\n\u001b[1;32m    872\u001b[0m         \u001b[38;5;66;03m# Encoding\u001b[39;00m\n\u001b[0;32m--> 873\u001b[0m         handle \u001b[38;5;241m=\u001b[39m \u001b[38;5;28mopen\u001b[39m(\n\u001b[1;32m    874\u001b[0m             handle,\n\u001b[1;32m    875\u001b[0m             ioargs\u001b[38;5;241m.\u001b[39mmode,\n\u001b[1;32m    876\u001b[0m             encoding\u001b[38;5;241m=\u001b[39mioargs\u001b[38;5;241m.\u001b[39mencoding,\n\u001b[1;32m    877\u001b[0m             errors\u001b[38;5;241m=\u001b[39merrors,\n\u001b[1;32m    878\u001b[0m             newline\u001b[38;5;241m=\u001b[39m\u001b[38;5;124m\"\u001b[39m\u001b[38;5;124m\"\u001b[39m,\n\u001b[1;32m    879\u001b[0m         )\n\u001b[1;32m    880\u001b[0m     \u001b[38;5;28;01melse\u001b[39;00m:\n\u001b[1;32m    881\u001b[0m         \u001b[38;5;66;03m# Binary mode\u001b[39;00m\n\u001b[1;32m    882\u001b[0m         handle \u001b[38;5;241m=\u001b[39m \u001b[38;5;28mopen\u001b[39m(handle, ioargs\u001b[38;5;241m.\u001b[39mmode)\n",
      "\u001b[0;31mFileNotFoundError\u001b[0m: [Errno 2] No such file or directory: 'C:\\\\\\\\Users\\\\\\\\olubl\\\\\\\\OneDrive\\\\\\\\College\\\\\\\\Data+\\\\\\\\DPS-Planning\\\\\\\\marketshare_output_pu_2324_848_gr_2021_2425_long.csv'"
     ]
    }
   ],
   "source": [
    "#loading in the current enrollment for only the 2024-25 school year\n",
    "current_enrollment = pd.read_csv(r'C:\\\\Users\\\\olubl\\\\OneDrive\\\\College\\\\Data+\\\\DPS-Planning\\\\marketshare_output_pu_2324_848_gr_2021_2425_long.csv')\n",
    "#current_enrollment_2024 = current_enrollment[current_enrollment['year_str']=='2024-2025']\n",
    "\n",
    "current_enrollment = current_enrollment.rename(columns = {'pu_2324_848':'pu_2324_84'})\n",
    "current_enrollment = current_enrollment[['pu_2324_84','grade','fall_year','count','basez']].fillna(0)\n",
    "current_enrollment"
   ]
  },
  {
   "cell_type": "code",
   "execution_count": null,
   "id": "9937465e-3325-4376-b224-f7034e26ca0d",
   "metadata": {},
   "outputs": [],
   "source": [
    "current_hs = current_enrollment[current_enrollment['grade'].isin([9,10,11,12])&current_enrollment['fall_year'].isin([2021,2022,2023])]\n",
    "current_ms = current_enrollment[current_enrollment['grade'].isin([6,7,8])&current_enrollment['fall_year'].isin([2021,2022,2023])]\n",
    "#average out counts over years 2021-2023\n",
    "averaged_hs = current_hs.groupby(['pu_2324_84','grade'],as_index=False).mean()\n",
    "averaged_ms = current_ms.groupby(['pu_2324_84','grade'],as_index=False).mean()\n",
    "\n",
    "averaged_hs = averaged_hs.groupby(['pu_2324_84'],as_index=False).sum().drop(columns=['grade','fall_year'])\n",
    "averaged_ms = averaged_ms.groupby(['pu_2324_84'],as_index=False).sum().drop(columns=['grade','fall_year'])\n",
    "\n",
    "averaged_hs[['count', 'basez']] = averaged_hs[['count', 'basez']].map(lambda x: int(x))\n",
    "averaged_ms[['count', 'basez']] = averaged_ms[['count', 'basez']].map(lambda x: int(x))\n",
    "\n",
    "all_pus = pd.DataFrame({'pu_2324_84': range(1,852)})\n",
    "hs_full = all_pus.merge(averaged_hs, on='pu_2324_84',how='left').fillna(0)\n",
    "ms_full = all_pus.merge(averaged_ms, on='pu_2324_84',how='left').fillna(0)\n"
   ]
  },
  {
   "cell_type": "code",
   "execution_count": null,
   "id": "eeb989ed-7c18-4da5-aaf5-485281aeec1d",
   "metadata": {},
   "outputs": [],
   "source": [
    "#now we want to only show the 5th, 6th, 7th, and 8th grade - the grades that will be in high school in 2028-29\n",
    "mask = current_enrollment['grade'].isin([9,10,11,12])\n",
    "hs_2028 = current_enrollment[mask]\n",
    "hs_2028 = hs_2028[['pu_2324_84','count','basez','lottery']]"
   ]
  },
  {
   "cell_type": "code",
   "execution_count": null,
   "id": "7454daa4-c99d-45f4-8713-43789d26565f",
   "metadata": {
    "scrolled": true
   },
   "outputs": [],
   "source": [
    "#merging identical rows to get student counts by block and grade\n",
    "columns_to_group = ['pu_2324_84']\n",
    "hs_2028 = hs_2028.groupby(columns_to_group,as_index=False).sum() #as_index=False preserves the columns we are grouping by\n",
    "\n",
    "#the planning units with zero enrollment are missing, so we must fill them with zeros\n",
    "all_pus = pd.DataFrame({'pu_2324_84': range(1,852)})\n",
    "hs_2028_full = all_pus.merge(hs_2028, on='pu_2324_84',how='left').fillna(0)\n",
    "hs_2028_full"
   ]
  },
  {
   "cell_type": "code",
   "execution_count": null,
   "id": "e9768a09-548a-430f-b326-65c874b117b1",
   "metadata": {
    "scrolled": true
   },
   "outputs": [],
   "source": [
    "#read in the planning units\n",
    "dps_pu = gpd.read_file(r'C:\\\\Users\\\\olubl\\\\OneDrive\\\\College\\\\Data+\\\\DPS-Planning\\\\GIS_Files\\\\pu_2324_SPLIT.geojson').rename(columns={'pu_2324_848':'pu_2324_84'})\n",
    "dps_pu = dps_pu.to_crs(epsg = 3857).sort_values(by='pu_2324_84')\n",
    "dps_pu"
   ]
  },
  {
   "cell_type": "code",
   "execution_count": null,
   "id": "98cb41d4-b0db-4be8-ab9f-9db31ad949a7",
   "metadata": {},
   "outputs": [],
   "source": [
    "#read in the school locations\n",
    "dps_base = gpd.read_file(r'C:\\\\Users\\\\olubl\\\\OneDrive\\\\College\\\\Data+\\\\DPS-Planning\\\\dps_base_2324.geojson')\n",
    "dps_base = dps_base.to_crs(epsg = 3857)\n",
    "base_hs = {'Jordan High School','Riverside High School','Northern High School','Hillside High School','Southern High School'}\n",
    "dps_base_hs = dps_base[dps_base['name'].isin(base_hs)]\n",
    "dps_base_hs"
   ]
  },
  {
   "cell_type": "code",
   "execution_count": null,
   "id": "a26b24bb-edf3-493c-89e6-29dfdf72cec9",
   "metadata": {},
   "outputs": [],
   "source": [
    "fig,ax = plt.subplots(figsize=(6,8))\n",
    "\n",
    "dps_pu.plot(\n",
    "    column = 'Region',\n",
    "    legend = True,\n",
    "    cmap = 'viridis',\n",
    "    ax = ax\n",
    ")\n",
    "dps_base_hs.plot(ax=plt.gca(),zorder = 1, color = 'white')\n",
    "\n",
    "\n",
    "ax.set_xticks([])\n",
    "ax.set_yticks([])\n",
    "\n",
    "\n",
    "plt.title('DPS Planning Units by Base HS')\n",
    "plt.show()"
   ]
  },
  {
   "cell_type": "code",
   "execution_count": null,
   "id": "d24a99b6-cae7-4c42-b0b5-a89155bac452",
   "metadata": {},
   "outputs": [],
   "source": [
    "hs_2028_geo = dps_pu.merge(hs_2028_full, on = 'pu_2324_84')[['pu_2324_84','X','Y','Region','Shape_Area','geometry','count','basez','lottery']]\n",
    "#merge the student counts with the geometries\n",
    "hs_2028_geo['centroid'] = hs_2028_geo['geometry'].centroid\n",
    "hs_2028_geo\n",
    "#now we have the student counts and geometries for each planning unit"
   ]
  },
  {
   "cell_type": "code",
   "execution_count": null,
   "id": "79d8d413-79b6-496e-a891-11f9e50769ca",
   "metadata": {},
   "outputs": [],
   "source": [
    "fig,ax = plt.subplots(figsize = (5,7))\n",
    "\n",
    "hs_2028_geo.plot(\n",
    "    column = 'basez',\n",
    "    cmap = 'coolwarm',\n",
    "    ax = ax,\n",
    "    legend = True\n",
    ")"
   ]
  },
  {
   "cell_type": "code",
   "execution_count": null,
   "id": "1a409aae-9c7b-4856-bfca-c33328faf2b8",
   "metadata": {},
   "outputs": [],
   "source": [
    "#goal counts:\n",
    "#Southern: 1700, Hillside: 1700, Northern: 1700, Riverside: 1700, Jordan: 2000"
   ]
  },
  {
   "cell_type": "code",
   "execution_count": null,
   "id": "38e60354-8919-4538-85ef-889dc704e8cb",
   "metadata": {},
   "outputs": [],
   "source": [
    "dps_base_hs = dps_base_hs[['name','geometry']]\n",
    "dps_base_hs.loc[5,'name']='New High School'\n",
    "dps_base_hs = dps_base_hs.reset_index()"
   ]
  },
  {
   "cell_type": "code",
   "execution_count": null,
   "id": "734e5e34-35bb-41fc-864c-da8413c46ff2",
   "metadata": {},
   "outputs": [],
   "source": [
    "def score_candidate(candidate):\n",
    "    school_names = ['Southern High School','Hillside High School','Northern High School','Riverside High School','Jordan High School','New High School']\n",
    "    capacities = [1600,1810,1540,1540,1535,1600]\n",
    "\n",
    "    counts = pd.DataFrame({'school':school_names,\n",
    "                           'capacity':capacities,\n",
    "                           'count':[0,0,0,0,0,0],\n",
    "                           'coefficient':[1,1,1,1,1,1]\n",
    "                            })                               #initialize counts dataframe\n",
    "\n",
    "    \n",
    "    candidate_geom = candidate['geometry']\n",
    "    dps_base_hs.loc[5,'geometry']=candidate_geom.centroid\n",
    "    \n",
    "\n",
    "    for i in range(20):                                      #iterative boundary assignment (running 10x)\n",
    "        assignments = []\n",
    "        for pu in hs_2028_geo.itertuples(index=False):                   \n",
    "            centroid = pu.geometry.centroid\n",
    "            pu_scores = []\n",
    "            for j in range(6):                               #5 existing schools and 1 new\n",
    "                dist = centroid.distance(dps_base_hs.loc[j,'geometry'])\n",
    "                score = dist * counts.loc[j,'coefficient']\n",
    "                pu_scores.append(score)\n",
    "            assign = school_names[pu_scores.index(min(pu_scores))]\n",
    "            assignments.append(assign)                        #collect hs assignments based on min distance score\n",
    "        hs_2028_geo['assign'] = assignments\n",
    "\n",
    "        for i,school in enumerate(school_names):\n",
    "            assigned_students = hs_2028_geo.loc[hs_2028_geo['assign'] == school, 'count'].sum()\n",
    "            counts.loc[i, 'count'] = assigned_students                    #sum up counts for all high schools and update coefficients\n",
    "        counts['coefficient'] *= (counts['count']/counts['capacity'])**0.3\n",
    "\n",
    "    objective=hs_2028_geo.merge(dps_base_hs,left_on='assign',right_on='name',how='left')\n",
    "    objective['distance']=objective['geometry_x'].distance(objective['geometry_y'])\n",
    "    objective_score = (objective['count']*objective['distance']).sum()\n",
    "\n",
    "    return objective_score,counts\n",
    "\n",
    "    "
   ]
  },
  {
   "cell_type": "code",
   "execution_count": null,
   "id": "65dadaad-71cd-44e8-954e-b5df3017aed7",
   "metadata": {},
   "outputs": [],
   "source": [
    "candidate = dps_pu.loc[515]"
   ]
  },
  {
   "cell_type": "code",
   "execution_count": null,
   "id": "5cfb5770-c30b-482b-b783-2382193f1ce2",
   "metadata": {},
   "outputs": [],
   "source": [
    "score_candidate(candidate)"
   ]
  },
  {
   "cell_type": "code",
   "execution_count": null,
   "id": "7518fcec-a819-48b1-9dc5-445941a63d2d",
   "metadata": {},
   "outputs": [],
   "source": [
    "fig,ax = plt.subplots(figsize = (7,9))\n",
    "\n",
    "hs_2028_geo.plot(\n",
    "    column='assign',\n",
    "    ax = ax,\n",
    "    cmap = 'viridis',\n",
    "    legend = True\n",
    ")\n",
    "dps_base_hs.plot(ax=plt.gca(), color = 'white')"
   ]
  },
  {
   "cell_type": "code",
   "execution_count": null,
   "id": "0c298dee-4ad7-4508-a891-38449c2d24c6",
   "metadata": {},
   "outputs": [],
   "source": [
    "hs_full_geo = dps_pu.merge(hs_full,on='pu_2324_84',how='left')[['pu_2324_84','X','Y','Region','Shape_Area','geometry','count','basez']]\n",
    "ms_full_geo = dps_pu.merge(ms_full,on='pu_2324_84',how='left')[['pu_2324_84','X','Y','Region','Shape_Area','geometry','count','basez']]"
   ]
  },
  {
   "cell_type": "code",
   "execution_count": null,
   "id": "9a355864-efac-467a-b55a-81b904d6a653",
   "metadata": {},
   "outputs": [],
   "source": [
    "hs_full_geo.to_file('hs_full_geo.geojson')\n",
    "ms_full_geo.to_file('ms_full_geo.geojson')"
   ]
  }
 ],
 "metadata": {
  "kernelspec": {
   "display_name": "Python [conda env:spatialdata]",
   "language": "python",
   "name": "conda-env-spatialdata-py"
  },
  "language_info": {
   "codemirror_mode": {
    "name": "ipython",
    "version": 3
   },
   "file_extension": ".py",
   "mimetype": "text/x-python",
   "name": "python",
   "nbconvert_exporter": "python",
   "pygments_lexer": "ipython3",
   "version": "3.12.7"
  }
 },
 "nbformat": 4,
 "nbformat_minor": 5
}
