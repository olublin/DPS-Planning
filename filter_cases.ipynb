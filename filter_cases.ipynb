{
 "cells": [
  {
   "cell_type": "code",
   "execution_count": 25,
   "id": "b54634cd-a3ff-4e48-a05b-b2276e2a45de",
   "metadata": {},
   "outputs": [],
   "source": [
    "import pandas as pd\n",
    "import geopandas as gpd\n",
    "import numpy as np\n",
    "import re"
   ]
  },
  {
   "cell_type": "code",
   "execution_count": 27,
   "id": "5512615c-6cdf-4be4-a9ab-32b461bf6125",
   "metadata": {
    "scrolled": true
   },
   "outputs": [],
   "source": [
    "# read in csv file\n",
    "all_cases = gpd.read_file('/Users/leahwallihan/Durham_school_planning/Res_Development')"
   ]
  },
  {
   "cell_type": "code",
   "execution_count": 31,
   "id": "eaed1b1e-8d41-44d7-a466-f0bc24b1b15f",
   "metadata": {},
   "outputs": [],
   "source": [
    "# types = A_TYPE codes we want to keep\n",
    "types = ['PL_MINSP', 'PL_SSP_SM', 'PL_SSM_SM2', 'PL_CPAA', 'PL_MINPP', 'PL_MAJSP', 'PL_MAJSUP', 'PL_PPA', 'PL_MAJPP'] \n",
    "# filter that only keeps cases of specified types\n",
    "filter_cases_type = all_cases[all_cases['A_TYPE'].isin(types)]"
   ]
  },
  {
   "cell_type": "code",
   "execution_count": 33,
   "id": "9d9f56d3-2892-49f2-b479-45434b8ea655",
   "metadata": {},
   "outputs": [],
   "source": [
    "# status = A_STATUS codes we want to keep\n",
    "status = all_cases['A_STATUS'].unique()\n",
    "status = status[~np.isin(status, ['WITH', 'VOID','DEN','DISAP','EXP'])]\n",
    "# filter that only keeps cases of specified status\n",
    "filter_cases_status = filter_cases_type[filter_cases_type['A_STATUS'].isin(status)]"
   ]
  },
  {
   "cell_type": "code",
   "execution_count": 35,
   "id": "3681fa83-0a8f-4518-9976-9ce0ac928903",
   "metadata": {},
   "outputs": [],
   "source": [
    "keywords = ['home', 'family', 'residen', 'mixed', 'mized', 'duplex', 'apartment', ' housing', 'condo', 'dwelling', 'tenant', 'affordable', 'units', 'townhouse']\n",
    "pattern = '|'.join(keywords)\n",
    "filtered1 = filter_cases_status[filter_cases_status['A_DESCRIPT'].str.contains(pattern, case=False, na=False)]\n",
    "\n",
    "#use not pattern to avoid these words\n",
    "keywords_avoid = ['addition','expand','storage', 'zoning', 'grading']\n",
    "pattern_avoid = '|'.join(keywords_avoid)\n",
    "filtered2 = filtered1[~filtered1['A_DESCRIPT'].str.contains(pattern_avoid, case=False, na=False)]"
   ]
  },
  {
   "cell_type": "code",
   "execution_count": 39,
   "id": "10655c17-7596-43b2-97a4-43df164ddc83",
   "metadata": {},
   "outputs": [
    {
     "name": "stderr",
     "output_type": "stream",
     "text": [
      "/opt/anaconda3/envs/spatialdata/lib/python3.12/site-packages/geopandas/geodataframe.py:1819: SettingWithCopyWarning: \n",
      "A value is trying to be set on a copy of a slice from a DataFrame.\n",
      "Try using .loc[row_indexer,col_indexer] = value instead\n",
      "\n",
      "See the caveats in the documentation: https://pandas.pydata.org/pandas-docs/stable/user_guide/indexing.html#returning-a-view-versus-a-copy\n",
      "  super().__setitem__(key, value)\n"
     ]
    }
   ],
   "source": [
    "#filter for all status dates after 2020\n",
    "filtered2['A_STATUS_D'] = pd.to_datetime(filtered2['A_STATUS_D'])\n",
    "filtered3 = filtered2[filtered2['A_STATUS_D'].dt.year>=2020]\n",
    "# filtered3"
   ]
  },
  {
   "cell_type": "code",
   "execution_count": null,
   "id": "9bebad30-c500-455f-9d39-fb8692a9b5bc",
   "metadata": {},
   "outputs": [],
   "source": [
    "# function to extract unit quantity from description\n",
    "def extract_units(description):\n",
    "    description = re.sub(pattern=r'(\\d+|\\d{1,3}(,\\d{3}))(\\s+[A-Za-z-]+){0,2}?\\s*(SF|square feet|sq. ft.|sqft)', \n",
    "                         repl='', string=description, flags=re.IGNORECASE) # remove square footage descriptors\n",
    "\n",
    "    match_pattern = r'(\\d{1,3})(?:\\s+[A-Za-z-]+){0,2}?\\s+(units?|lots?|homes?|houses?|townhomes?|townhouses?|town homes?|town houses?|apartments?|duplex(?:es)?)'\n",
    "    matches = re.findall(match_pattern, description, flags=re.IGNORECASE) # match residence types with their quantity\n",
    "\n",
    "    return matches # returns a list of tuples in format (quantity, residence type)"
   ]
  }
 ],
 "metadata": {
  "kernelspec": {
   "display_name": "Python [conda env:spatialdata]",
   "language": "python",
   "name": "conda-env-spatialdata-py"
  },
  "language_info": {
   "codemirror_mode": {
    "name": "ipython",
    "version": 3
   },
   "file_extension": ".py",
   "mimetype": "text/x-python",
   "name": "python",
   "nbconvert_exporter": "python",
   "pygments_lexer": "ipython3",
   "version": "3.12.7"
  }
 },
 "nbformat": 4,
 "nbformat_minor": 5
}
