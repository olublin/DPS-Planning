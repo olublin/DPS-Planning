{
 "cells": [
  {
   "cell_type": "code",
   "execution_count": 22,
   "id": "e21cde68-aed1-4423-be94-30fa8024e548",
   "metadata": {},
   "outputs": [],
   "source": [
    "import pandas as pd\n",
    "import numpy as np\n",
    "import geopandas as gpd\n",
    "import matplotlib.pyplot as plt\n",
    "from scipy.stats import binom"
   ]
  },
  {
   "cell_type": "code",
   "execution_count": 23,
   "id": "6ffbc688-ca5d-4cff-bf81-92cb0feb65c2",
   "metadata": {},
   "outputs": [
    {
     "data": {
      "text/plain": [
       "array(['Central', 'East', 'North', 'Southeast', 'Southwest'], dtype=object)"
      ]
     },
     "execution_count": 23,
     "metadata": {},
     "output_type": "execute_result"
    }
   ],
   "source": [
    "sgr_data = pd.read_csv(r'C:/Users/olubl/OneDrive/College/Data+/DPS-Planning/sgr_htype_reg.csv')\n",
    "sgr_data = sgr_data.dropna()\n",
    "sgr_data = sgr_data[['housing_type','region','du_est_final','sgr_dps_avg_k12']]\n",
    "sgr_data['sgr_dps_avg_k12'] = sgr_data['sgr_dps_avg_k12'].round(4)\n",
    "sgr_data['region'].unique()"
   ]
  },
  {
   "cell_type": "code",
   "execution_count": 24,
   "id": "053ed131-74fe-4e20-acb8-623fe33f1a7b",
   "metadata": {},
   "outputs": [
    {
     "data": {
      "text/plain": [
       "array(['Riverside', 'Southern School of Energy and Sustainability',\n",
       "       'Northern', 'Jordan', 'Hillside'], dtype=object)"
      ]
     },
     "execution_count": 24,
     "metadata": {},
     "output_type": "execute_result"
    }
   ],
   "source": [
    "#read in shapefile to get geometries for regions\n",
    "regions=gpd.read_file(r'C:/Users/olubl/OneDrive/College/Data+/DPS-Planning/DPS_Regions.zip')\n",
    "regions=regions[['ShortName','geometry']]\n",
    "regions.columns=['region','geometry']\n",
    "regions['region'].unique()"
   ]
  },
  {
   "cell_type": "code",
   "execution_count": 25,
   "id": "86b8b1ac-85a6-423d-aff9-b39d150493e3",
   "metadata": {},
   "outputs": [
    {
     "data": {
      "text/html": [
       "<div>\n",
       "<style scoped>\n",
       "    .dataframe tbody tr th:only-of-type {\n",
       "        vertical-align: middle;\n",
       "    }\n",
       "\n",
       "    .dataframe tbody tr th {\n",
       "        vertical-align: top;\n",
       "    }\n",
       "\n",
       "    .dataframe thead th {\n",
       "        text-align: right;\n",
       "    }\n",
       "</style>\n",
       "<table border=\"1\" class=\"dataframe\">\n",
       "  <thead>\n",
       "    <tr style=\"text-align: right;\">\n",
       "      <th></th>\n",
       "      <th>region</th>\n",
       "      <th>geometry</th>\n",
       "    </tr>\n",
       "  </thead>\n",
       "  <tbody>\n",
       "    <tr>\n",
       "      <th>0</th>\n",
       "      <td>Central</td>\n",
       "      <td>POLYGON ((-8.78e+06 4.3e+06, -8.78e+06 4.3e+06...</td>\n",
       "    </tr>\n",
       "    <tr>\n",
       "      <th>1</th>\n",
       "      <td>East</td>\n",
       "      <td>POLYGON ((-8.77e+06 4.3e+06, -8.77e+06 4.3e+06...</td>\n",
       "    </tr>\n",
       "    <tr>\n",
       "      <th>2</th>\n",
       "      <td>North</td>\n",
       "      <td>POLYGON ((-8.79e+06 4.33e+06, -8.78e+06 4.33e+...</td>\n",
       "    </tr>\n",
       "    <tr>\n",
       "      <th>3</th>\n",
       "      <td>Southwest</td>\n",
       "      <td>POLYGON ((-8.79e+06 4.3e+06, -8.79e+06 4.3e+06...</td>\n",
       "    </tr>\n",
       "    <tr>\n",
       "      <th>4</th>\n",
       "      <td>Southeast</td>\n",
       "      <td>POLYGON ((-8.78e+06 4.3e+06, -8.78e+06 4.3e+06...</td>\n",
       "    </tr>\n",
       "  </tbody>\n",
       "</table>\n",
       "</div>"
      ],
      "text/plain": [
       "      region                                           geometry\n",
       "0    Central  POLYGON ((-8.78e+06 4.3e+06, -8.78e+06 4.3e+06...\n",
       "1       East  POLYGON ((-8.77e+06 4.3e+06, -8.77e+06 4.3e+06...\n",
       "2      North  POLYGON ((-8.79e+06 4.33e+06, -8.78e+06 4.33e+...\n",
       "3  Southwest  POLYGON ((-8.79e+06 4.3e+06, -8.79e+06 4.3e+06...\n",
       "4  Southeast  POLYGON ((-8.78e+06 4.3e+06, -8.78e+06 4.3e+06..."
      ]
     },
     "execution_count": 25,
     "metadata": {},
     "output_type": "execute_result"
    }
   ],
   "source": [
    "#rename schools to regions in order to merge dfs\n",
    "regions['region'] = regions['region'].replace({\n",
    "    'Jordan': 'Southwest',\n",
    "    'Southern School of Energy and Sustainability': 'East',\n",
    "    'Northern': 'North',\n",
    "    'Riverside': 'Central',\n",
    "    'Hillside': 'Southeast'\n",
    "})\n",
    "regions"
   ]
  },
  {
   "cell_type": "code",
   "execution_count": 26,
   "id": "25423186-aa11-40e1-be7a-227913fce840",
   "metadata": {},
   "outputs": [],
   "source": [
    "sgr_data = sgr_data.merge(regions, on='region')"
   ]
  },
  {
   "cell_type": "code",
   "execution_count": 27,
   "id": "a581addd-8a8d-494b-8e5e-8b02175b7db3",
   "metadata": {},
   "outputs": [],
   "source": [
    "#use dictionaries to break down dataframe by region/housing type\n",
    "sgr_reg = {\n",
    "    reg:sgr_data[sgr_data['region']==reg]\n",
    "    for reg in sgr_data['region'].unique()\n",
    "}\n",
    "sgr_housing_type = {\n",
    "    parcel:sgr_data[sgr_data['housing_type']==parcel]\n",
    "    for parcel in sgr_data['housing_type'].unique()\n",
    "}"
   ]
  },
  {
   "cell_type": "code",
   "execution_count": 28,
   "id": "86c06070-5b9c-4ea4-9e1d-6e48e38bb55b",
   "metadata": {},
   "outputs": [
    {
     "data": {
      "text/html": [
       "<div>\n",
       "<style scoped>\n",
       "    .dataframe tbody tr th:only-of-type {\n",
       "        vertical-align: middle;\n",
       "    }\n",
       "\n",
       "    .dataframe tbody tr th {\n",
       "        vertical-align: top;\n",
       "    }\n",
       "\n",
       "    .dataframe thead th {\n",
       "        text-align: right;\n",
       "    }\n",
       "</style>\n",
       "<table border=\"1\" class=\"dataframe\">\n",
       "  <thead>\n",
       "    <tr style=\"text-align: right;\">\n",
       "      <th></th>\n",
       "      <th>housing_type</th>\n",
       "      <th>region</th>\n",
       "      <th>du_est_final</th>\n",
       "      <th>sgr_dps_avg_k12</th>\n",
       "      <th>geometry</th>\n",
       "    </tr>\n",
       "  </thead>\n",
       "  <tbody>\n",
       "    <tr>\n",
       "      <th>7</th>\n",
       "      <td>sf_detach</td>\n",
       "      <td>Central</td>\n",
       "      <td>8977</td>\n",
       "      <td>0.2622</td>\n",
       "      <td>POLYGON ((-8.78e+06 4.3e+06, -8.78e+06 4.3e+06...</td>\n",
       "    </tr>\n",
       "    <tr>\n",
       "      <th>16</th>\n",
       "      <td>sf_detach</td>\n",
       "      <td>East</td>\n",
       "      <td>18892</td>\n",
       "      <td>0.2184</td>\n",
       "      <td>POLYGON ((-8.77e+06 4.3e+06, -8.77e+06 4.3e+06...</td>\n",
       "    </tr>\n",
       "    <tr>\n",
       "      <th>25</th>\n",
       "      <td>sf_detach</td>\n",
       "      <td>North</td>\n",
       "      <td>19970</td>\n",
       "      <td>0.2687</td>\n",
       "      <td>POLYGON ((-8.79e+06 4.33e+06, -8.78e+06 4.33e+...</td>\n",
       "    </tr>\n",
       "    <tr>\n",
       "      <th>34</th>\n",
       "      <td>sf_detach</td>\n",
       "      <td>Southeast</td>\n",
       "      <td>12906</td>\n",
       "      <td>0.2150</td>\n",
       "      <td>POLYGON ((-8.78e+06 4.3e+06, -8.78e+06 4.3e+06...</td>\n",
       "    </tr>\n",
       "    <tr>\n",
       "      <th>43</th>\n",
       "      <td>sf_detach</td>\n",
       "      <td>Southwest</td>\n",
       "      <td>18061</td>\n",
       "      <td>0.2364</td>\n",
       "      <td>POLYGON ((-8.79e+06 4.3e+06, -8.79e+06 4.3e+06...</td>\n",
       "    </tr>\n",
       "  </tbody>\n",
       "</table>\n",
       "</div>"
      ],
      "text/plain": [
       "   housing_type     region  du_est_final  sgr_dps_avg_k12  \\\n",
       "7     sf_detach    Central          8977           0.2622   \n",
       "16    sf_detach       East         18892           0.2184   \n",
       "25    sf_detach      North         19970           0.2687   \n",
       "34    sf_detach  Southeast         12906           0.2150   \n",
       "43    sf_detach  Southwest         18061           0.2364   \n",
       "\n",
       "                                             geometry  \n",
       "7   POLYGON ((-8.78e+06 4.3e+06, -8.78e+06 4.3e+06...  \n",
       "16  POLYGON ((-8.77e+06 4.3e+06, -8.77e+06 4.3e+06...  \n",
       "25  POLYGON ((-8.79e+06 4.33e+06, -8.78e+06 4.33e+...  \n",
       "34  POLYGON ((-8.78e+06 4.3e+06, -8.78e+06 4.3e+06...  \n",
       "43  POLYGON ((-8.79e+06 4.3e+06, -8.79e+06 4.3e+06...  "
      ]
     },
     "execution_count": 28,
     "metadata": {},
     "output_type": "execute_result"
    }
   ],
   "source": [
    "detach = sgr_housing_type['sf_detach']\n",
    "detach = gpd.GeoDataFrame(detach, geometry = 'geometry')\n",
    "detach"
   ]
  },
  {
   "cell_type": "code",
   "execution_count": 29,
   "id": "8f3ade50-b9e8-44e0-994f-4b58a1d442ad",
   "metadata": {},
   "outputs": [
    {
     "data": {
      "image/png": "[encoded data removed]",
      "text/plain": [
       "<Figure size 640x480 with 2 Axes>"
      ]
     },
     "metadata": {},
     "output_type": "display_data"
    }
   ],
   "source": [
    "#now we plot the SGR by region\n",
    "column = 'sgr_dps_avg_k12'\n",
    "vmin = detach[column].min\n",
    "vmax = detach[column].max\n",
    "\n",
    "detach.plot(\n",
    "    column = column,\n",
    "    cmap = 'coolwarm',\n",
    "    legend = True,\n",
    ")\n",
    "plt.title('DPS Regions by SGR for Single Family Detached Homes')\n",
    "plt.axis('off')\n",
    "plt.show()"
   ]
  },
  {
   "cell_type": "code",
   "execution_count": null,
   "id": "fa5d2a09-67dc-40ef-b56e-724a4c4334a0",
   "metadata": {},
   "outputs": [],
   "source": []
  },
  {
   "cell_type": "code",
   "execution_count": 30,
   "id": "e9be5e29-09f0-4fc4-8755-9d8720aec11c",
   "metadata": {},
   "outputs": [
    {
     "name": "stdout",
     "output_type": "stream",
     "text": [
      "0.2397042306423369\n"
     ]
    }
   ],
   "source": [
    "#sgr for whole county\n",
    "sgr_total = np.average(detach['sgr_dps_avg_k12'],weights=detach['du_est_final'])\n",
    "print(sgr_total)"
   ]
  },
  {
   "cell_type": "code",
   "execution_count": 31,
   "id": "d86b02dd-b28a-47e9-8ad0-0842241c5ee5",
   "metadata": {},
   "outputs": [
    {
     "name": "stdout",
     "output_type": "stream",
     "text": [
      "3.9612547308998103e-07\n",
      "2.2243120175220132e-12\n",
      "0.0\n",
      "1.3684760089871895e-11\n",
      "0.1486079532713641\n"
     ]
    }
   ],
   "source": [
    "#assuming SGR is obtained binomially with p=sgr_total across the county, prob of obtaining such a result or more extreme\n",
    "\n",
    "#k,n,p = detach.loc[7,'parcel_ct']*detach.loc[7,'sgr_dps_avg_k12'],detach.loc[7,'parcel_ct'], sgr_total\n",
    "#print(binom.cdf(k,n,p))\n",
    "for i,region in enumerate(detach['region']):\n",
    "    k = detach.reset_index().loc[i,'du_est_final']*detach.reset_index().loc[i,'sgr_dps_avg_k12']\n",
    "    n = detach.reset_index().loc[i,'du_est_final']\n",
    "    p = sgr_total\n",
    "    if binom.cdf(k,n,p)<0.5:\n",
    "        print(binom.cdf(k,n,p)) \n",
    "    else:\n",
    "        print(1-binom.cdf(k,n,p))\n",
    "    \n",
    "#furthermore, we conclude that sgr differs significantly by region"
   ]
  },
  {
   "cell_type": "code",
   "execution_count": 32,
   "id": "8d9b272d-6cf8-4754-9713-a04c80efccf4",
   "metadata": {},
   "outputs": [
    {
     "name": "stdout",
     "output_type": "stream",
     "text": [
      "      region       sgr\n",
      "0    Central  0.201614\n",
      "1       East  0.211576\n",
      "2      North  0.262966\n",
      "3  Southeast  0.161409\n",
      "4  Southwest  0.189659\n"
     ]
    }
   ],
   "source": [
    "#calculate total sgr for each region and convert to a new df\n",
    "sgr_by_region = []\n",
    "for region in sgr_data['region'].unique():\n",
    "    sgr = np.average(sgr_reg[region]['sgr_dps_avg_k12'], weights=sgr_reg[region]['du_est_final'])\n",
    "    sgr_by_region.append({'region':region,'sgr':sgr})\n",
    "\n",
    "sgr_by_region = pd.DataFrame(sgr_by_region)\n",
    "print(sgr_by_region)\n",
    "#now we have a df showing the sgr by region for all new developments"
   ]
  },
  {
   "cell_type": "code",
   "execution_count": 33,
   "id": "d84e4b57-f5a8-404a-ac90-6f7e70199109",
   "metadata": {},
   "outputs": [
    {
     "name": "stdout",
     "output_type": "stream",
     "text": [
      "                      housing_type    sgr\n",
      "0       Age Restricted Development  0.004\n",
      "1                            Condo  0.086\n",
      "2               Duplex and Triplex  0.233\n",
      "3        Housing Urban Development  0.619\n",
      "4  Manufactured Housing (trailers)  0.448\n",
      "5            Multifamily Apartment  0.188\n",
      "6           Single Family Attached  0.072\n",
      "7           Single Family Detached  0.240\n",
      "8      Temporary Housing (shelter)  0.107\n"
     ]
    }
   ],
   "source": [
    "sgr_by_house_type = []\n",
    "for housing_type in sgr_data['housing_type'].unique():\n",
    "    sgr = np.average(sgr_housing_type[housing_type]['sgr_dps_avg_k12'], weights=sgr_housing_type[housing_type]['du_est_final'])\n",
    "    sgr_by_house_type.append({'housing_type':housing_type,'sgr':sgr})\n",
    "\n",
    "sgr_by_house_type = pd.DataFrame(sgr_by_house_type)\n",
    "\n",
    "sgr_by_house_type['housing_type'] =\\\n",
    "sgr_by_house_type['housing_type'].replace({'age_restrict':'Age Restricted Development',\n",
    "                                            'sf_detach':'Single Family Detached',\n",
    "                                            'sf_attach':'Single Family Attached',\n",
    "                                            'mf_apt':'Multifamily Apartment',\n",
    "                                           'condo':'Condo',\n",
    "                                           'temp':'Temporary Housing (shelter)',\n",
    "                                           'hud':'Housing Urban Development',\n",
    "                                           'du_tri':'Duplex and Triplex',\n",
    "                                           'manuf':'Manufactured Housing (trailers)'\n",
    "                                          })\n",
    "print(sgr_by_house_type.round(3))"
   ]
  },
  {
   "cell_type": "code",
   "execution_count": 34,
   "id": "52cb0d3b-5914-4d6c-9e68-6f2c20a3140a",
   "metadata": {},
   "outputs": [
    {
     "data": {
      "image/png": "[encoded data removed]",
      "text/plain": [
       "<Figure size 640x480 with 1 Axes>"
      ]
     },
     "metadata": {},
     "output_type": "display_data"
    }
   ],
   "source": [
    "sgr_by_house_type = sgr_by_house_type.sort_values('sgr')\n",
    "fig,ax = plt.subplots(facecolor = 'peachpuff')\n",
    "\n",
    "ax.barh(sgr_by_house_type['housing_type'],sgr_by_house_type['sgr'],color = 'darksalmon')\n",
    "ax.set_title('Student Generation Rate by Housing Type')\n",
    "ax.set_xlabel('Student Generation Rate')\n",
    "ax.set_facecolor('linen')\n",
    "plt.show()"
   ]
  },
  {
   "cell_type": "code",
   "execution_count": 35,
   "id": "a480d07c-94b0-4f18-aedb-5b83621d3659",
   "metadata": {},
   "outputs": [
    {
     "ename": "SyntaxError",
     "evalue": "invalid syntax (1961865737.py, line 7)",
     "output_type": "error",
     "traceback": [
      "\u001b[1;36m  Cell \u001b[1;32mIn[35], line 7\u001b[1;36m\u001b[0m\n\u001b[1;33m    print('other',sum(sgr_data[sgr_data['housing_type']==])\u001b[0m\n\u001b[1;37m                                                         ^\u001b[0m\n\u001b[1;31mSyntaxError\u001b[0m\u001b[1;31m:\u001b[0m invalid syntax\n"
     ]
    }
   ],
   "source": [
    "#pie chart to show what the new developments are\n",
    "parcel_by_housing_type = []\n",
    "for house in sgr_data['housing_type'].unique():\n",
    "    parcel_total = sum(sgr_data[sgr_data['housing_type']==house]['du_est_final'])\n",
    "    if house == 'sf_attach' or house == 'sf_detach':\n",
    "        print(house,parcel_total)\n",
    "print('other',sum(sgr_data[sgr_data['housing_type']==])"
   ]
  },
  {
   "cell_type": "code",
   "execution_count": null,
   "id": "d8c5e9e0-76c9-4fa5-93b2-5457751ab667",
   "metadata": {},
   "outputs": [],
   "source": [
    "sgr_data.head()"
   ]
  },
  {
   "cell_type": "code",
   "execution_count": null,
   "id": "d7a23261-ad9e-495f-9034-330c5fc4f97b",
   "metadata": {},
   "outputs": [],
   "source": [
    "#load in developments data and merge\n",
    "#filtered3 = gpd.read_file(r'C:/Users/olubl/OneDrive/College/Data+/DPS-Planning/filtered3_with_school.geojson')\n",
    "#filtered3.head()"
   ]
  },
  {
   "cell_type": "code",
   "execution_count": null,
   "id": "c66f5bb7-da28-4bab-8b55-2cbe346cefee",
   "metadata": {},
   "outputs": [],
   "source": []
  },
  {
   "cell_type": "code",
   "execution_count": null,
   "id": "a18ce3bf-9ba7-47e1-a64a-51faf69176e0",
   "metadata": {},
   "outputs": [],
   "source": []
  }
 ],
 "metadata": {
  "kernelspec": {
   "display_name": "Python [conda env:spatialdata]",
   "language": "python",
   "name": "conda-env-spatialdata-py"
  },
  "language_info": {
   "codemirror_mode": {
    "name": "ipython",
    "version": 3
   },
   "file_extension": ".py",
   "mimetype": "text/x-python",
   "name": "python",
   "nbconvert_exporter": "python",
   "pygments_lexer": "ipython3",
   "version": "3.12.7"
  }
 },
 "nbformat": 4,
 "nbformat_minor": 5
}
