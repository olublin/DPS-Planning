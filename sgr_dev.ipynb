{
 "cells": [
  {
   "cell_type": "code",
   "execution_count": 104,
   "id": "e21cde68-aed1-4423-be94-30fa8024e548",
   "metadata": {},
   "outputs": [],
   "source": [
    "import pandas as pd\n",
    "import numpy as np\n",
    "import geopandas as gpd\n",
    "import matplotlib.pyplot as plt"
   ]
  },
  {
   "cell_type": "code",
   "execution_count": 105,
   "id": "6ffbc688-ca5d-4cff-bf81-92cb0feb65c2",
   "metadata": {},
   "outputs": [
    {
     "data": {
      "text/plain": [
       "array(['Central', 'East', 'North', 'Southeast', 'Southwest'], dtype=object)"
      ]
     },
     "execution_count": 105,
     "metadata": {},
     "output_type": "execute_result"
    }
   ],
   "source": [
    "sgr_data = pd.read_csv(r'C:/Users/olubl/OneDrive/College/Data+/DPS-Planning/sgr_htype_reg.csv')\n",
    "sgr_data = sgr_data.drop([0,1,2,3])\n",
    "sgr_data = sgr_data.dropna()\n",
    "sgr_data = sgr_data[['housing_type','region','parcel_ct','sgr_dps_avg_k12']]\n",
    "sgr_data['sgr_dps_avg_k12'] = sgr_data['sgr_dps_avg_k12'].round(4)\n",
    "sgr_data['region'].unique()"
   ]
  },
  {
   "cell_type": "code",
   "execution_count": 106,
   "id": "053ed131-74fe-4e20-acb8-623fe33f1a7b",
   "metadata": {},
   "outputs": [
    {
     "data": {
      "text/plain": [
       "array(['Riverside', 'Southern School of Energy and Sustainability',\n",
       "       'Northern', 'Jordan', 'Hillside'], dtype=object)"
      ]
     },
     "execution_count": 106,
     "metadata": {},
     "output_type": "execute_result"
    }
   ],
   "source": [
    "#read in shapefile to get geometries for regions\n",
    "regions=gpd.read_file(r'C:/Users/olubl/OneDrive/College/Data+/DPS-Planning/DPS_Regions.zip')\n",
    "regions=regions[['ShortName','geometry']]\n",
    "regions.columns=['region','geometry']\n",
    "regions['region'].unique()"
   ]
  },
  {
   "cell_type": "code",
   "execution_count": 107,
   "id": "86b8b1ac-85a6-423d-aff9-b39d150493e3",
   "metadata": {},
   "outputs": [
    {
     "data": {
      "text/html": [
       "<div>\n",
       "<style scoped>\n",
       "    .dataframe tbody tr th:only-of-type {\n",
       "        vertical-align: middle;\n",
       "    }\n",
       "\n",
       "    .dataframe tbody tr th {\n",
       "        vertical-align: top;\n",
       "    }\n",
       "\n",
       "    .dataframe thead th {\n",
       "        text-align: right;\n",
       "    }\n",
       "</style>\n",
       "<table border=\"1\" class=\"dataframe\">\n",
       "  <thead>\n",
       "    <tr style=\"text-align: right;\">\n",
       "      <th></th>\n",
       "      <th>region</th>\n",
       "      <th>geometry</th>\n",
       "    </tr>\n",
       "  </thead>\n",
       "  <tbody>\n",
       "    <tr>\n",
       "      <th>0</th>\n",
       "      <td>Central</td>\n",
       "      <td>POLYGON ((-8.78e+06 4.3e+06, -8.78e+06 4.3e+06...</td>\n",
       "    </tr>\n",
       "    <tr>\n",
       "      <th>1</th>\n",
       "      <td>East</td>\n",
       "      <td>POLYGON ((-8.77e+06 4.3e+06, -8.77e+06 4.3e+06...</td>\n",
       "    </tr>\n",
       "    <tr>\n",
       "      <th>2</th>\n",
       "      <td>North</td>\n",
       "      <td>POLYGON ((-8.79e+06 4.33e+06, -8.78e+06 4.33e+...</td>\n",
       "    </tr>\n",
       "    <tr>\n",
       "      <th>3</th>\n",
       "      <td>Southwest</td>\n",
       "      <td>POLYGON ((-8.79e+06 4.3e+06, -8.79e+06 4.3e+06...</td>\n",
       "    </tr>\n",
       "    <tr>\n",
       "      <th>4</th>\n",
       "      <td>Southeast</td>\n",
       "      <td>POLYGON ((-8.78e+06 4.3e+06, -8.78e+06 4.3e+06...</td>\n",
       "    </tr>\n",
       "  </tbody>\n",
       "</table>\n",
       "</div>"
      ],
      "text/plain": [
       "      region                                           geometry\n",
       "0    Central  POLYGON ((-8.78e+06 4.3e+06, -8.78e+06 4.3e+06...\n",
       "1       East  POLYGON ((-8.77e+06 4.3e+06, -8.77e+06 4.3e+06...\n",
       "2      North  POLYGON ((-8.79e+06 4.33e+06, -8.78e+06 4.33e+...\n",
       "3  Southwest  POLYGON ((-8.79e+06 4.3e+06, -8.79e+06 4.3e+06...\n",
       "4  Southeast  POLYGON ((-8.78e+06 4.3e+06, -8.78e+06 4.3e+06..."
      ]
     },
     "execution_count": 107,
     "metadata": {},
     "output_type": "execute_result"
    }
   ],
   "source": [
    "#rename schools to regions in order to merge dfs\n",
    "regions['region'] = regions['region'].replace({\n",
    "    'Jordan': 'Southwest',\n",
    "    'Southern School of Energy and Sustainability': 'East',\n",
    "    'Northern': 'North',\n",
    "    'Riverside': 'Central',\n",
    "    'Hillside': 'Southeast'\n",
    "})\n",
    "regions"
   ]
  },
  {
   "cell_type": "code",
   "execution_count": 108,
   "id": "25423186-aa11-40e1-be7a-227913fce840",
   "metadata": {},
   "outputs": [],
   "source": [
    "sgr_data = sgr_data.merge(regions, on='region')"
   ]
  },
  {
   "cell_type": "code",
   "execution_count": 109,
   "id": "a581addd-8a8d-494b-8e5e-8b02175b7db3",
   "metadata": {},
   "outputs": [],
   "source": [
    "#use dictionaries to break down dataframe by region/housing type\n",
    "sgr_reg = {\n",
    "    reg:sgr_data[sgr_data['region']==reg]\n",
    "    for reg in sgr_data['region'].unique()\n",
    "}\n",
    "sgr_housing_type = {\n",
    "    parcel:sgr_data[sgr_data['housing_type']==parcel]\n",
    "    for parcel in sgr_data['housing_type'].unique()\n",
    "}"
   ]
  },
  {
   "cell_type": "code",
   "execution_count": 122,
   "id": "86c06070-5b9c-4ea4-9e1d-6e48e38bb55b",
   "metadata": {},
   "outputs": [
    {
     "data": {
      "text/html": [
       "<div>\n",
       "<style scoped>\n",
       "    .dataframe tbody tr th:only-of-type {\n",
       "        vertical-align: middle;\n",
       "    }\n",
       "\n",
       "    .dataframe tbody tr th {\n",
       "        vertical-align: top;\n",
       "    }\n",
       "\n",
       "    .dataframe thead th {\n",
       "        text-align: right;\n",
       "    }\n",
       "</style>\n",
       "<table border=\"1\" class=\"dataframe\">\n",
       "  <thead>\n",
       "    <tr style=\"text-align: right;\">\n",
       "      <th></th>\n",
       "      <th>housing_type</th>\n",
       "      <th>region</th>\n",
       "      <th>parcel_ct</th>\n",
       "      <th>sgr_dps_avg_k12</th>\n",
       "      <th>geometry</th>\n",
       "    </tr>\n",
       "  </thead>\n",
       "  <tbody>\n",
       "    <tr>\n",
       "      <th>7</th>\n",
       "      <td>sf_detach</td>\n",
       "      <td>Central</td>\n",
       "      <td>8974</td>\n",
       "      <td>0.2622</td>\n",
       "      <td>POLYGON ((-8.78e+06 4.3e+06, -8.78e+06 4.3e+06...</td>\n",
       "    </tr>\n",
       "    <tr>\n",
       "      <th>16</th>\n",
       "      <td>sf_detach</td>\n",
       "      <td>East</td>\n",
       "      <td>18865</td>\n",
       "      <td>0.2184</td>\n",
       "      <td>POLYGON ((-8.77e+06 4.3e+06, -8.77e+06 4.3e+06...</td>\n",
       "    </tr>\n",
       "    <tr>\n",
       "      <th>25</th>\n",
       "      <td>sf_detach</td>\n",
       "      <td>North</td>\n",
       "      <td>19955</td>\n",
       "      <td>0.2687</td>\n",
       "      <td>POLYGON ((-8.79e+06 4.33e+06, -8.78e+06 4.33e+...</td>\n",
       "    </tr>\n",
       "    <tr>\n",
       "      <th>34</th>\n",
       "      <td>sf_detach</td>\n",
       "      <td>Southeast</td>\n",
       "      <td>12904</td>\n",
       "      <td>0.2150</td>\n",
       "      <td>POLYGON ((-8.78e+06 4.3e+06, -8.78e+06 4.3e+06...</td>\n",
       "    </tr>\n",
       "    <tr>\n",
       "      <th>43</th>\n",
       "      <td>sf_detach</td>\n",
       "      <td>Southwest</td>\n",
       "      <td>18056</td>\n",
       "      <td>0.2364</td>\n",
       "      <td>POLYGON ((-8.79e+06 4.3e+06, -8.79e+06 4.3e+06...</td>\n",
       "    </tr>\n",
       "  </tbody>\n",
       "</table>\n",
       "</div>"
      ],
      "text/plain": [
       "   housing_type     region  parcel_ct  sgr_dps_avg_k12  \\\n",
       "7     sf_detach    Central       8974           0.2622   \n",
       "16    sf_detach       East      18865           0.2184   \n",
       "25    sf_detach      North      19955           0.2687   \n",
       "34    sf_detach  Southeast      12904           0.2150   \n",
       "43    sf_detach  Southwest      18056           0.2364   \n",
       "\n",
       "                                             geometry  \n",
       "7   POLYGON ((-8.78e+06 4.3e+06, -8.78e+06 4.3e+06...  \n",
       "16  POLYGON ((-8.77e+06 4.3e+06, -8.77e+06 4.3e+06...  \n",
       "25  POLYGON ((-8.79e+06 4.33e+06, -8.78e+06 4.33e+...  \n",
       "34  POLYGON ((-8.78e+06 4.3e+06, -8.78e+06 4.3e+06...  \n",
       "43  POLYGON ((-8.79e+06 4.3e+06, -8.79e+06 4.3e+06...  "
      ]
     },
     "execution_count": 122,
     "metadata": {},
     "output_type": "execute_result"
    }
   ],
   "source": [
    "detach = sgr_housing_type['sf_detach']\n",
    "detach = gpd.GeoDataFrame(detach, geometry = 'geometry')\n",
    "detach"
   ]
  },
  {
   "cell_type": "code",
   "execution_count": 127,
   "id": "8f3ade50-b9e8-44e0-994f-4b58a1d442ad",
   "metadata": {},
   "outputs": [
    {
     "data": {
      "image/png": "[encoded data removed]",
      "text/plain": [
       "<Figure size 640x480 with 2 Axes>"
      ]
     },
     "metadata": {},
     "output_type": "display_data"
    }
   ],
   "source": [
    "column = 'sgr_dps_avg_k12'\n",
    "vmin = detach[column].min\n",
    "vmax = detach[column].max\n",
    "\n",
    "detach.plot(\n",
    "    column = column,\n",
    "    cmap = 'coolwarm',\n",
    "    legend = True\n",
    ")\n",
    "plt.title('DPS Regions by average SGR for Single Family Detached')\n",
    "plt.show()"
   ]
  },
  {
   "cell_type": "code",
   "execution_count": null,
   "id": "e9be5e29-09f0-4fc4-8755-9d8720aec11c",
   "metadata": {},
   "outputs": [],
   "source": []
  }
 ],
 "metadata": {
  "kernelspec": {
   "display_name": "Python [conda env:spatialdata]",
   "language": "python",
   "name": "conda-env-spatialdata-py"
  },
  "language_info": {
   "codemirror_mode": {
    "name": "ipython",
    "version": 3
   },
   "file_extension": ".py",
   "mimetype": "text/x-python",
   "name": "python",
   "nbconvert_exporter": "python",
   "pygments_lexer": "ipython3",
   "version": "3.12.7"
  }
 },
 "nbformat": 4,
 "nbformat_minor": 5
}
