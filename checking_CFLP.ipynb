{
 "cells": [
  {
   "cell_type": "code",
   "execution_count": 22,
   "id": "8e06b391-14df-4c82-94a7-67dac1641059",
   "metadata": {},
   "outputs": [],
   "source": [
    "import numpy as np\n",
    "import pandas as pd\n",
    "import geopandas as gpd\n",
    "import random\n",
    "import json\n",
    "from geopy.distance import geodesic\n",
    "from pyscipopt import Model, quicksum, multidict"
   ]
  },
  {
   "cell_type": "code",
   "execution_count": 80,
   "id": "dec8a7b8-a498-4e09-a5f0-519f2471a9a5",
   "metadata": {},
   "outputs": [],
   "source": [
    "pu = gpd.read_file('/Users/leahwallihan/Durham_school_planning/DPS-Planning/GIS_files/hs_full_geo.geojson').set_index('pu_2324_84')\n",
    "pu = pu.to_crs('EPSG:4326')"
   ]
  },
  {
   "cell_type": "code",
   "execution_count": 82,
   "id": "633adcc8-c4c0-4940-a4d0-88b273fc44be",
   "metadata": {},
   "outputs": [],
   "source": [
    "pu_half_SGR = pu.copy()\n",
    "pu_half_SGR['basez+gen'] = pu['basez'] + 0.3*pu['student_gen']\n",
    "\n",
    "pu_data = pu_half_SGR['basez+gen'].to_dict()\n",
    "I, d = multidict(pu_data)"
   ]
  },
  {
   "cell_type": "code",
   "execution_count": 84,
   "id": "0c09df7e-a4ff-4b77-be29-1f1561f9273e",
   "metadata": {},
   "outputs": [],
   "source": [
    "CFLP_solution = gpd.read_file('/Users/leahwallihan/Durham_school_planning/DPS-Planning/CFLP/CFLP_sols/noDSA/CFLP_hs_fullSGR2.geojson')"
   ]
  },
  {
   "cell_type": "code",
   "execution_count": 86,
   "id": "dbb68102-fbdb-48d3-8b63-0889f3ca5d80",
   "metadata": {},
   "outputs": [],
   "source": [
    "with open('/Users/leahwallihan/Durham_school_planning/DPS-Planning/CFLP/CFLP_sols/noDSA/CFLP_hs_fullSGR.json', 'r') as f:\n",
    "    solution_reports = json.load(f)"
   ]
  },
  {
   "cell_type": "code",
   "execution_count": 88,
   "id": "2ca110eb-1d49-499e-b4ec-a0ade792830c",
   "metadata": {},
   "outputs": [],
   "source": []
  },
  {
   "cell_type": "code",
   "execution_count": 90,
   "id": "1c08f389-229d-4453-9d19-c51de167f97b",
   "metadata": {},
   "outputs": [],
   "source": [
    "solution_report = solution_reports[1]\n",
    "new_boundary = solution_report['assignments']['1']"
   ]
  },
  {
   "cell_type": "code",
   "execution_count": 102,
   "id": "6c17e308-aa7e-4e5d-87aa-2bce979371f2",
   "metadata": {},
   "outputs": [
    {
     "name": "stderr",
     "output_type": "stream",
     "text": [
      "/var/folders/ml/wj07z83j0yq4rjs8n_7sv0mw0000gn/T/ipykernel_55285/1900494518.py:3: UserWarning: Geometry is in a geographic CRS. Results from 'centroid' are likely incorrect. Use 'GeoSeries.to_crs()' to re-project geometries to a projected CRS before this operation.\n",
      "\n",
      "  for idx, geom in pu.geometry.centroid.items()\n"
     ]
    }
   ],
   "source": [
    "centroid_coords = {\n",
    "    idx: (geom.y, geom.x)  # (latitude, longitude)\n",
    "    for idx, geom in pu.geometry.centroid.items()\n",
    "}"
   ]
  },
  {
   "cell_type": "code",
   "execution_count": 104,
   "id": "2df8ece8-005f-4d9d-8e7d-98b5aaec890a",
   "metadata": {},
   "outputs": [],
   "source": [
    "total_distance1 = 0\n",
    "for geom in new_boundary:\n",
    "    total_distance1 += geodesic(centroid_coords[1], centroid_coords[geom]).miles * d[geom]"
   ]
  },
  {
   "cell_type": "code",
   "execution_count": 106,
   "id": "f2302eb9-6695-4740-8cc0-2d85c80b5272",
   "metadata": {},
   "outputs": [
    {
     "data": {
      "text/plain": [
       "12541.911516322989"
      ]
     },
     "execution_count": 106,
     "metadata": {},
     "output_type": "execute_result"
    }
   ],
   "source": [
    "total_distance1"
   ]
  },
  {
   "cell_type": "code",
   "execution_count": 108,
   "id": "bd2b8e07-ccd1-48d4-99ec-36a3e0b0c5e1",
   "metadata": {},
   "outputs": [],
   "source": [
    "total_distance179 = 0\n",
    "for geom in new_boundary:\n",
    "    total_distance179 += geodesic(centroid_coords[179], centroid_coords[geom]).miles * d[geom]"
   ]
  },
  {
   "cell_type": "code",
   "execution_count": 110,
   "id": "05eae405-324c-423a-bd55-8c6dced00656",
   "metadata": {},
   "outputs": [
    {
     "data": {
      "text/plain": [
       "7761.467194075424"
      ]
     },
     "execution_count": 110,
     "metadata": {},
     "output_type": "execute_result"
    }
   ],
   "source": [
    "total_distance179"
   ]
  },
  {
   "cell_type": "code",
   "execution_count": 118,
   "id": "9c271686-cac6-48fa-911e-a9f68aad503c",
   "metadata": {},
   "outputs": [],
   "source": [
    "# from CFLP:\n",
    "not_central = pu[(pu['Region'] != 'Central')]\n",
    "\n",
    "# initialize dictionary of planning units with capacity of 1600 for potential site\n",
    "pu_dict = {}\n",
    "for idx, row in not_central.iterrows():\n",
    "    pu_dict[idx] = 1550\n",
    "\n",
    "J, M = multidict(pu_dict)\n",
    "\n",
    "c = {}\n",
    "for i in I:\n",
    "    for j in J:\n",
    "        c[i, j] = geodesic(centroid_coords[i], centroid_coords[j]).miles"
   ]
  },
  {
   "cell_type": "code",
   "execution_count": 119,
   "id": "4c74387b-f4c3-4b75-a7e1-90222d0630bb",
   "metadata": {},
   "outputs": [
    {
     "data": {
      "text/plain": [
       "4.694202218966093"
      ]
     },
     "execution_count": 119,
     "metadata": {},
     "output_type": "execute_result"
    }
   ],
   "source": [
    "geodesic(centroid_coords[179], centroid_coords[1]).miles"
   ]
  },
  {
   "cell_type": "code",
   "execution_count": 122,
   "id": "3f673794-f5c6-4fd0-88be-aebb154f635a",
   "metadata": {},
   "outputs": [
    {
     "data": {
      "text/plain": [
       "4.694202218966093"
      ]
     },
     "execution_count": 122,
     "metadata": {},
     "output_type": "execute_result"
    }
   ],
   "source": [
    "c[179, 1]"
   ]
  },
  {
   "cell_type": "code",
   "execution_count": 124,
   "id": "82f67bbc-3017-4563-9c8e-a6da8ad386c8",
   "metadata": {},
   "outputs": [
    {
     "data": {
      "text/html": [
       "<div>\n",
       "<style scoped>\n",
       "    .dataframe tbody tr th:only-of-type {\n",
       "        vertical-align: middle;\n",
       "    }\n",
       "\n",
       "    .dataframe tbody tr th {\n",
       "        vertical-align: top;\n",
       "    }\n",
       "\n",
       "    .dataframe thead th {\n",
       "        text-align: right;\n",
       "    }\n",
       "</style>\n",
       "<table border=\"1\" class=\"dataframe\">\n",
       "  <thead>\n",
       "    <tr style=\"text-align: right;\">\n",
       "      <th></th>\n",
       "      <th>X</th>\n",
       "      <th>Y</th>\n",
       "      <th>Region</th>\n",
       "      <th>Shape_Area</th>\n",
       "      <th>count</th>\n",
       "      <th>basez</th>\n",
       "      <th>student_gen</th>\n",
       "      <th>geometry</th>\n",
       "    </tr>\n",
       "    <tr>\n",
       "      <th>pu_2324_84</th>\n",
       "      <th></th>\n",
       "      <th></th>\n",
       "      <th></th>\n",
       "      <th></th>\n",
       "      <th></th>\n",
       "      <th></th>\n",
       "      <th></th>\n",
       "      <th></th>\n",
       "    </tr>\n",
       "  </thead>\n",
       "  <tbody>\n",
       "    <tr>\n",
       "      <th>1</th>\n",
       "      <td>2.049028e+06</td>\n",
       "      <td>893128.606346</td>\n",
       "      <td>North</td>\n",
       "      <td>3.556198e+07</td>\n",
       "      <td>6.0</td>\n",
       "      <td>6.0</td>\n",
       "      <td>0</td>\n",
       "      <td>POLYGON ((-78.82257 36.19379, -78.82287 36.192...</td>\n",
       "    </tr>\n",
       "    <tr>\n",
       "      <th>2</th>\n",
       "      <td>2.039923e+06</td>\n",
       "      <td>835434.121317</td>\n",
       "      <td>North</td>\n",
       "      <td>2.080136e+07</td>\n",
       "      <td>18.0</td>\n",
       "      <td>8.0</td>\n",
       "      <td>0</td>\n",
       "      <td>POLYGON ((-78.86225 36.05178, -78.85945 36.049...</td>\n",
       "    </tr>\n",
       "    <tr>\n",
       "      <th>3</th>\n",
       "      <td>2.058005e+06</td>\n",
       "      <td>797649.028742</td>\n",
       "      <td>East</td>\n",
       "      <td>1.329077e+07</td>\n",
       "      <td>4.0</td>\n",
       "      <td>4.0</td>\n",
       "      <td>0</td>\n",
       "      <td>POLYGON ((-78.79371 35.94418, -78.79394 35.943...</td>\n",
       "    </tr>\n",
       "    <tr>\n",
       "      <th>4</th>\n",
       "      <td>2.003222e+06</td>\n",
       "      <td>772895.737307</td>\n",
       "      <td>Southwest</td>\n",
       "      <td>4.684140e+07</td>\n",
       "      <td>6.0</td>\n",
       "      <td>6.0</td>\n",
       "      <td>0</td>\n",
       "      <td>POLYGON ((-78.98659 35.88678, -78.98626 35.886...</td>\n",
       "    </tr>\n",
       "    <tr>\n",
       "      <th>5</th>\n",
       "      <td>2.067334e+06</td>\n",
       "      <td>828244.230730</td>\n",
       "      <td>East</td>\n",
       "      <td>1.497046e+08</td>\n",
       "      <td>6.0</td>\n",
       "      <td>5.0</td>\n",
       "      <td>0</td>\n",
       "      <td>POLYGON ((-78.7536 36.03136, -78.74349 36.0254...</td>\n",
       "    </tr>\n",
       "    <tr>\n",
       "      <th>...</th>\n",
       "      <td>...</td>\n",
       "      <td>...</td>\n",
       "      <td>...</td>\n",
       "      <td>...</td>\n",
       "      <td>...</td>\n",
       "      <td>...</td>\n",
       "      <td>...</td>\n",
       "      <td>...</td>\n",
       "    </tr>\n",
       "    <tr>\n",
       "      <th>847</th>\n",
       "      <td>2.013328e+06</td>\n",
       "      <td>854621.040074</td>\n",
       "      <td>North</td>\n",
       "      <td>3.748151e+06</td>\n",
       "      <td>0.0</td>\n",
       "      <td>0.0</td>\n",
       "      <td>0</td>\n",
       "      <td>POLYGON ((-78.95124 36.10239, -78.95124 36.102...</td>\n",
       "    </tr>\n",
       "    <tr>\n",
       "      <th>848</th>\n",
       "      <td>2.032661e+06</td>\n",
       "      <td>834741.061398</td>\n",
       "      <td>North</td>\n",
       "      <td>1.033344e+06</td>\n",
       "      <td>25.0</td>\n",
       "      <td>19.0</td>\n",
       "      <td>0</td>\n",
       "      <td>POLYGON ((-78.88798 36.04156, -78.88814 36.041...</td>\n",
       "    </tr>\n",
       "    <tr>\n",
       "      <th>849</th>\n",
       "      <td>2.040116e+06</td>\n",
       "      <td>820883.548010</td>\n",
       "      <td>North</td>\n",
       "      <td>2.898398e+07</td>\n",
       "      <td>0.0</td>\n",
       "      <td>0.0</td>\n",
       "      <td>0</td>\n",
       "      <td>POLYGON ((-78.97497 36.05557, -78.97344 36.053...</td>\n",
       "    </tr>\n",
       "    <tr>\n",
       "      <th>850</th>\n",
       "      <td>2.021058e+06</td>\n",
       "      <td>850561.862179</td>\n",
       "      <td>North</td>\n",
       "      <td>3.356653e+07</td>\n",
       "      <td>0.0</td>\n",
       "      <td>0.0</td>\n",
       "      <td>0</td>\n",
       "      <td>POLYGON ((-78.96446 36.09914, -78.96422 36.098...</td>\n",
       "    </tr>\n",
       "    <tr>\n",
       "      <th>851</th>\n",
       "      <td>2.020332e+06</td>\n",
       "      <td>809465.029698</td>\n",
       "      <td>Southwest</td>\n",
       "      <td>4.525577e+06</td>\n",
       "      <td>65.0</td>\n",
       "      <td>50.0</td>\n",
       "      <td>0</td>\n",
       "      <td>POLYGON ((-78.94105 35.9679, -78.94374 35.9674...</td>\n",
       "    </tr>\n",
       "  </tbody>\n",
       "</table>\n",
       "<p>851 rows × 8 columns</p>\n",
       "</div>"
      ],
      "text/plain": [
       "                       X              Y     Region    Shape_Area  count  \\\n",
       "pu_2324_84                                                                \n",
       "1           2.049028e+06  893128.606346      North  3.556198e+07    6.0   \n",
       "2           2.039923e+06  835434.121317      North  2.080136e+07   18.0   \n",
       "3           2.058005e+06  797649.028742       East  1.329077e+07    4.0   \n",
       "4           2.003222e+06  772895.737307  Southwest  4.684140e+07    6.0   \n",
       "5           2.067334e+06  828244.230730       East  1.497046e+08    6.0   \n",
       "...                  ...            ...        ...           ...    ...   \n",
       "847         2.013328e+06  854621.040074      North  3.748151e+06    0.0   \n",
       "848         2.032661e+06  834741.061398      North  1.033344e+06   25.0   \n",
       "849         2.040116e+06  820883.548010      North  2.898398e+07    0.0   \n",
       "850         2.021058e+06  850561.862179      North  3.356653e+07    0.0   \n",
       "851         2.020332e+06  809465.029698  Southwest  4.525577e+06   65.0   \n",
       "\n",
       "            basez  student_gen  \\\n",
       "pu_2324_84                       \n",
       "1             6.0            0   \n",
       "2             8.0            0   \n",
       "3             4.0            0   \n",
       "4             6.0            0   \n",
       "5             5.0            0   \n",
       "...           ...          ...   \n",
       "847           0.0            0   \n",
       "848          19.0            0   \n",
       "849           0.0            0   \n",
       "850           0.0            0   \n",
       "851          50.0            0   \n",
       "\n",
       "                                                     geometry  \n",
       "pu_2324_84                                                     \n",
       "1           POLYGON ((-78.82257 36.19379, -78.82287 36.192...  \n",
       "2           POLYGON ((-78.86225 36.05178, -78.85945 36.049...  \n",
       "3           POLYGON ((-78.79371 35.94418, -78.79394 35.943...  \n",
       "4           POLYGON ((-78.98659 35.88678, -78.98626 35.886...  \n",
       "5           POLYGON ((-78.7536 36.03136, -78.74349 36.0254...  \n",
       "...                                                       ...  \n",
       "847         POLYGON ((-78.95124 36.10239, -78.95124 36.102...  \n",
       "848         POLYGON ((-78.88798 36.04156, -78.88814 36.041...  \n",
       "849         POLYGON ((-78.97497 36.05557, -78.97344 36.053...  \n",
       "850         POLYGON ((-78.96446 36.09914, -78.96422 36.098...  \n",
       "851         POLYGON ((-78.94105 35.9679, -78.94374 35.9674...  \n",
       "\n",
       "[851 rows x 8 columns]"
      ]
     },
     "execution_count": 124,
     "metadata": {},
     "output_type": "execute_result"
    }
   ],
   "source": [
    "pu"
   ]
  },
  {
   "cell_type": "code",
   "execution_count": null,
   "id": "8c363769-f949-4369-a2f8-46825c23e9ce",
   "metadata": {},
   "outputs": [],
   "source": []
  }
 ],
 "metadata": {
  "kernelspec": {
   "display_name": "Python [conda env:spatialdata]",
   "language": "python",
   "name": "conda-env-spatialdata-py"
  },
  "language_info": {
   "codemirror_mode": {
    "name": "ipython",
    "version": 3
   },
   "file_extension": ".py",
   "mimetype": "text/x-python",
   "name": "python",
   "nbconvert_exporter": "python",
   "pygments_lexer": "ipython3",
   "version": "3.12.7"
  }
 },
 "nbformat": 4,
 "nbformat_minor": 5
}
