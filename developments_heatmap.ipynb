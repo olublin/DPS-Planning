{
 "cells": [
  {
   "cell_type": "code",
   "execution_count": 21,
   "id": "2f1c1f12-36c2-49e0-bb90-414ffc450931",
   "metadata": {},
   "outputs": [],
   "source": [
    "import pandas as pd\n",
    "import geopandas as gpd\n",
    "import numpy as np\n",
    "import matplotlib.pyplot as plt\n",
    "import os\n",
    "import seaborn as sns"
   ]
  },
  {
   "cell_type": "code",
   "execution_count": 14,
   "id": "fabbbaca-700f-46ef-9ee8-cc6c439757b3",
   "metadata": {},
   "outputs": [
    {
     "name": "stdout",
     "output_type": "stream",
     "text": [
      "C:\\Users\\olubl\\OneDrive\\College\\Data+\\DPS-Planning\n"
     ]
    }
   ],
   "source": [
    "print(os.getcwd())"
   ]
  },
  {
   "cell_type": "code",
   "execution_count": 32,
   "id": "b4c54fd2-a898-46fd-948c-170e71c0b69f",
   "metadata": {},
   "outputs": [],
   "source": [
    "resdev_cases = gpd.read_file(r'C:\\Users\\olubl\\OneDrive\\College\\Data+\\DPS-Planning\\resdev_cases.geojson')\n",
    "resdev_cases=resdev_cases[['A_DESCRIPT','geometry']]\n",
    "resdev_cases = resdev_cases.to_crs(epsg=4326)"
   ]
  },
  {
   "cell_type": "code",
   "execution_count": 80,
   "id": "8a0fe78f-0c5b-41cb-b8ab-80840d1c0534",
   "metadata": {},
   "outputs": [
    {
     "name": "stderr",
     "output_type": "stream",
     "text": [
      "C:\\Users\\olubl\\AppData\\Local\\Temp\\ipykernel_3220\\1978588673.py:1: UserWarning: Geometry is in a geographic CRS. Results from 'buffer' are likely incorrect. Use 'GeoSeries.to_crs()' to re-project geometries to a projected CRS before this operation.\n",
      "\n",
      "  resdev_cases['buffer']=resdev_cases.geometry.buffer(50)\n"
     ]
    },
    {
     "data": {
      "text/html": [
       "<div>\n",
       "<style scoped>\n",
       "    .dataframe tbody tr th:only-of-type {\n",
       "        vertical-align: middle;\n",
       "    }\n",
       "\n",
       "    .dataframe tbody tr th {\n",
       "        vertical-align: top;\n",
       "    }\n",
       "\n",
       "    .dataframe thead th {\n",
       "        text-align: right;\n",
       "    }\n",
       "</style>\n",
       "<table border=\"1\" class=\"dataframe\">\n",
       "  <thead>\n",
       "    <tr style=\"text-align: right;\">\n",
       "      <th></th>\n",
       "      <th>A_DESCRIPT</th>\n",
       "      <th>geometry</th>\n",
       "      <th>buffer</th>\n",
       "    </tr>\n",
       "  </thead>\n",
       "  <tbody>\n",
       "    <tr>\n",
       "      <th>0</th>\n",
       "      <td>50 Single - family lots, 1 stormwater pond, ad...</td>\n",
       "      <td>POINT (-78.946 36.075)</td>\n",
       "      <td>POLYGON ((-28.946 36.075, -29.186 31.174, -29....</td>\n",
       "    </tr>\n",
       "    <tr>\n",
       "      <th>1</th>\n",
       "      <td>Mixe of uses including retail and residential....</td>\n",
       "      <td>POINT (-78.904 36)</td>\n",
       "      <td>POLYGON ((-28.904 36, -29.145 31.099, -29.865 ...</td>\n",
       "    </tr>\n",
       "    <tr>\n",
       "      <th>2</th>\n",
       "      <td>Multifamily Apartments</td>\n",
       "      <td>POINT (-78.93 36.01)</td>\n",
       "      <td>POLYGON ((-28.93 36.01, -29.171 31.109, -29.89...</td>\n",
       "    </tr>\n",
       "    <tr>\n",
       "      <th>3</th>\n",
       "      <td>37 Townhome units, 102 Attached S-F units (cal...</td>\n",
       "      <td>POINT (-78.862 35.952)</td>\n",
       "      <td>POLYGON ((-28.862 35.952, -29.102 31.051, -29....</td>\n",
       "    </tr>\n",
       "    <tr>\n",
       "      <th>4</th>\n",
       "      <td>From Rural Density Residential (RDR, 0.5DU/acr...</td>\n",
       "      <td>POINT (-78.777 35.989)</td>\n",
       "      <td>POLYGON ((-28.777 35.989, -29.018 31.089, -29....</td>\n",
       "    </tr>\n",
       "    <tr>\n",
       "      <th>...</th>\n",
       "      <td>...</td>\n",
       "      <td>...</td>\n",
       "      <td>...</td>\n",
       "    </tr>\n",
       "    <tr>\n",
       "      <th>234</th>\n",
       "      <td>New townhome development with 53 units and new...</td>\n",
       "      <td>POINT (-78.807 35.962)</td>\n",
       "      <td>POLYGON ((-28.807 35.962, -29.048 31.062, -29....</td>\n",
       "    </tr>\n",
       "    <tr>\n",
       "      <th>235</th>\n",
       "      <td>Apartment development to include 324 units.</td>\n",
       "      <td>POINT (-78.991 35.919)</td>\n",
       "      <td>POLYGON ((-28.991 35.919, -29.232 31.018, -29....</td>\n",
       "    </tr>\n",
       "    <tr>\n",
       "      <th>236</th>\n",
       "      <td>Create 33 townhome site.</td>\n",
       "      <td>POINT (-78.893 35.938)</td>\n",
       "      <td>POLYGON ((-28.893 35.938, -29.134 31.037, -29....</td>\n",
       "    </tr>\n",
       "    <tr>\n",
       "      <th>237</th>\n",
       "      <td>Phase one of overall development - single fami...</td>\n",
       "      <td>POINT (-78.95 35.879)</td>\n",
       "      <td>POLYGON ((-28.95 35.879, -29.191 30.978, -29.9...</td>\n",
       "    </tr>\n",
       "    <tr>\n",
       "      <th>238</th>\n",
       "      <td>36 Single Family Detached dwellings, 31 town h...</td>\n",
       "      <td>POINT (-78.797 35.951)</td>\n",
       "      <td>POLYGON ((-28.797 35.951, -29.037 31.05, -29.7...</td>\n",
       "    </tr>\n",
       "  </tbody>\n",
       "</table>\n",
       "<p>239 rows × 3 columns</p>\n",
       "</div>"
      ],
      "text/plain": [
       "                                            A_DESCRIPT  \\\n",
       "0    50 Single - family lots, 1 stormwater pond, ad...   \n",
       "1    Mixe of uses including retail and residential....   \n",
       "2                               Multifamily Apartments   \n",
       "3    37 Townhome units, 102 Attached S-F units (cal...   \n",
       "4    From Rural Density Residential (RDR, 0.5DU/acr...   \n",
       "..                                                 ...   \n",
       "234  New townhome development with 53 units and new...   \n",
       "235        Apartment development to include 324 units.   \n",
       "236                           Create 33 townhome site.   \n",
       "237  Phase one of overall development - single fami...   \n",
       "238  36 Single Family Detached dwellings, 31 town h...   \n",
       "\n",
       "                   geometry                                             buffer  \n",
       "0    POINT (-78.946 36.075)  POLYGON ((-28.946 36.075, -29.186 31.174, -29....  \n",
       "1        POINT (-78.904 36)  POLYGON ((-28.904 36, -29.145 31.099, -29.865 ...  \n",
       "2      POINT (-78.93 36.01)  POLYGON ((-28.93 36.01, -29.171 31.109, -29.89...  \n",
       "3    POINT (-78.862 35.952)  POLYGON ((-28.862 35.952, -29.102 31.051, -29....  \n",
       "4    POINT (-78.777 35.989)  POLYGON ((-28.777 35.989, -29.018 31.089, -29....  \n",
       "..                      ...                                                ...  \n",
       "234  POINT (-78.807 35.962)  POLYGON ((-28.807 35.962, -29.048 31.062, -29....  \n",
       "235  POINT (-78.991 35.919)  POLYGON ((-28.991 35.919, -29.232 31.018, -29....  \n",
       "236  POINT (-78.893 35.938)  POLYGON ((-28.893 35.938, -29.134 31.037, -29....  \n",
       "237   POINT (-78.95 35.879)  POLYGON ((-28.95 35.879, -29.191 30.978, -29.9...  \n",
       "238  POINT (-78.797 35.951)  POLYGON ((-28.797 35.951, -29.037 31.05, -29.7...  \n",
       "\n",
       "[239 rows x 3 columns]"
      ]
     },
     "execution_count": 80,
     "metadata": {},
     "output_type": "execute_result"
    }
   ],
   "source": [
    "resdev_cases['buffer']=resdev_cases.geometry.buffer(50)\n",
    "resdev_cases"
   ]
  },
  {
   "cell_type": "code",
   "execution_count": 86,
   "id": "93d215f4-eeb5-4ee9-bc5e-ed0c3a620eca",
   "metadata": {},
   "outputs": [
    {
     "ename": "IndexError",
     "evalue": "Inconsistent shape between the condition and the input (got (5, 1) and (5,))",
     "output_type": "error",
     "traceback": [
      "\u001b[1;31m---------------------------------------------------------------------------\u001b[0m",
      "\u001b[1;31mIndexError\u001b[0m                                Traceback (most recent call last)",
      "Cell \u001b[1;32mIn[86], line 3\u001b[0m\n\u001b[0;32m      1\u001b[0m resdev_head \u001b[38;5;241m=\u001b[39m resdev_cases\u001b[38;5;241m.\u001b[39mhead()\n\u001b[0;32m      2\u001b[0m \u001b[38;5;66;03m#gpd.GeoSeries(resdev_head['geometry'])\u001b[39;00m\n\u001b[1;32m----> 3\u001b[0m sns\u001b[38;5;241m.\u001b[39mheatmap(resdev_head[\u001b[38;5;124m'\u001b[39m\u001b[38;5;124mgeometry\u001b[39m\u001b[38;5;124m'\u001b[39m])\n",
      "File \u001b[1;32m~\\anaconda3\\envs\\spatialdata\\Lib\\site-packages\\seaborn\\matrix.py:446\u001b[0m, in \u001b[0;36mheatmap\u001b[1;34m(data, vmin, vmax, cmap, center, robust, annot, fmt, annot_kws, linewidths, linecolor, cbar, cbar_kws, cbar_ax, square, xticklabels, yticklabels, mask, ax, **kwargs)\u001b[0m\n\u001b[0;32m    365\u001b[0m \u001b[38;5;250m\u001b[39m\u001b[38;5;124;03m\"\"\"Plot rectangular data as a color-encoded matrix.\u001b[39;00m\n\u001b[0;32m    366\u001b[0m \n\u001b[0;32m    367\u001b[0m \u001b[38;5;124;03mThis is an Axes-level function and will draw the heatmap into the\u001b[39;00m\n\u001b[1;32m   (...)\u001b[0m\n\u001b[0;32m    443\u001b[0m \n\u001b[0;32m    444\u001b[0m \u001b[38;5;124;03m\"\"\"\u001b[39;00m\n\u001b[0;32m    445\u001b[0m \u001b[38;5;66;03m# Initialize the plotter object\u001b[39;00m\n\u001b[1;32m--> 446\u001b[0m plotter \u001b[38;5;241m=\u001b[39m _HeatMapper(data, vmin, vmax, cmap, center, robust, annot, fmt,\n\u001b[0;32m    447\u001b[0m                       annot_kws, cbar, cbar_kws, xticklabels,\n\u001b[0;32m    448\u001b[0m                       yticklabels, mask)\n\u001b[0;32m    450\u001b[0m \u001b[38;5;66;03m# Add the pcolormesh kwargs here\u001b[39;00m\n\u001b[0;32m    451\u001b[0m kwargs[\u001b[38;5;124m\"\u001b[39m\u001b[38;5;124mlinewidths\u001b[39m\u001b[38;5;124m\"\u001b[39m] \u001b[38;5;241m=\u001b[39m linewidths\n",
      "File \u001b[1;32m~\\anaconda3\\envs\\spatialdata\\Lib\\site-packages\\seaborn\\matrix.py:115\u001b[0m, in \u001b[0;36m_HeatMapper.__init__\u001b[1;34m(self, data, vmin, vmax, cmap, center, robust, annot, fmt, annot_kws, cbar, cbar_kws, xticklabels, yticklabels, mask)\u001b[0m\n\u001b[0;32m    112\u001b[0m \u001b[38;5;66;03m# Validate the mask and convert to DataFrame\u001b[39;00m\n\u001b[0;32m    113\u001b[0m mask \u001b[38;5;241m=\u001b[39m _matrix_mask(data, mask)\n\u001b[1;32m--> 115\u001b[0m plot_data \u001b[38;5;241m=\u001b[39m np\u001b[38;5;241m.\u001b[39mma\u001b[38;5;241m.\u001b[39mmasked_where(np\u001b[38;5;241m.\u001b[39masarray(mask), plot_data)\n\u001b[0;32m    117\u001b[0m \u001b[38;5;66;03m# Get good names for the rows and columns\u001b[39;00m\n\u001b[0;32m    118\u001b[0m xtickevery \u001b[38;5;241m=\u001b[39m \u001b[38;5;241m1\u001b[39m\n",
      "File \u001b[1;32m~\\anaconda3\\envs\\spatialdata\\Lib\\site-packages\\numpy\\ma\\core.py:1933\u001b[0m, in \u001b[0;36mmasked_where\u001b[1;34m(condition, a, copy)\u001b[0m\n\u001b[0;32m   1931\u001b[0m (cshape, ashape) \u001b[38;5;241m=\u001b[39m (cond\u001b[38;5;241m.\u001b[39mshape, a\u001b[38;5;241m.\u001b[39mshape)\n\u001b[0;32m   1932\u001b[0m \u001b[38;5;28;01mif\u001b[39;00m cshape \u001b[38;5;129;01mand\u001b[39;00m cshape \u001b[38;5;241m!=\u001b[39m ashape:\n\u001b[1;32m-> 1933\u001b[0m     \u001b[38;5;28;01mraise\u001b[39;00m \u001b[38;5;167;01mIndexError\u001b[39;00m(\u001b[38;5;124m\"\u001b[39m\u001b[38;5;124mInconsistent shape between the condition and the input\u001b[39m\u001b[38;5;124m\"\u001b[39m\n\u001b[0;32m   1934\u001b[0m                      \u001b[38;5;124m\"\u001b[39m\u001b[38;5;124m (got \u001b[39m\u001b[38;5;132;01m%s\u001b[39;00m\u001b[38;5;124m and \u001b[39m\u001b[38;5;132;01m%s\u001b[39;00m\u001b[38;5;124m)\u001b[39m\u001b[38;5;124m\"\u001b[39m \u001b[38;5;241m%\u001b[39m (cshape, ashape))\n\u001b[0;32m   1935\u001b[0m \u001b[38;5;28;01mif\u001b[39;00m \u001b[38;5;28mhasattr\u001b[39m(a, \u001b[38;5;124m'\u001b[39m\u001b[38;5;124m_mask\u001b[39m\u001b[38;5;124m'\u001b[39m):\n\u001b[0;32m   1936\u001b[0m     cond \u001b[38;5;241m=\u001b[39m mask_or(cond, a\u001b[38;5;241m.\u001b[39m_mask)\n",
      "\u001b[1;31mIndexError\u001b[0m: Inconsistent shape between the condition and the input (got (5, 1) and (5,))"
     ]
    }
   ],
   "source": [
    "#resdev_head = resdev_cases.head()\n",
    "#gpd.GeoSeries(resdev_head['geometry'])"
   ]
  },
  {
   "cell_type": "code",
   "execution_count": 71,
   "id": "deacb18a-d2ed-4c14-8f6c-baf5af5ff4c7",
   "metadata": {},
   "outputs": [],
   "source": [
    "#total_buffer=resdev_cases['buffer'].union_all()"
   ]
  },
  {
   "cell_type": "code",
   "execution_count": 55,
   "id": "595ff00f-d5ed-40f8-a992-ddfad22dcb51",
   "metadata": {},
   "outputs": [],
   "source": [
    "#inner_points=resdev_cases[resdev_cases.geometry.within(total_buffer)]"
   ]
  },
  {
   "cell_type": "code",
   "execution_count": 74,
   "id": "87125b3a-dae6-446b-9af2-5c32b31663e7",
   "metadata": {},
   "outputs": [
    {
     "data": {
      "text/plain": [
       "<Axes: >"
      ]
     },
     "execution_count": 74,
     "metadata": {},
     "output_type": "execute_result"
    },
    {
     "data": {
      "image/png": "[encoded data removed]",
      "text/plain": [
       "<Figure size 640x480 with 1 Axes>"
      ]
     },
     "metadata": {},
     "output_type": "display_data"
    }
   ],
   "source": [
    "#base = resdev_cases.plot(color='blue')\n",
    "#inner_points.plot(color='lightblue')\n",
    "#gpd.GeoSeries(total_buffer).plot(ax=base, color='red',label='1-mile buffer')"
   ]
  },
  {
   "cell_type": "code",
   "execution_count": null,
   "id": "555f1385-5fd2-42c4-bd16-b084fc7a8efb",
   "metadata": {},
   "outputs": [],
   "source": []
  }
 ],
 "metadata": {
  "kernelspec": {
   "display_name": "Python [conda env:spatialdata]",
   "language": "python",
   "name": "conda-env-spatialdata-py"
  },
  "language_info": {
   "codemirror_mode": {
    "name": "ipython",
    "version": 3
   },
   "file_extension": ".py",
   "mimetype": "text/x-python",
   "name": "python",
   "nbconvert_exporter": "python",
   "pygments_lexer": "ipython3",
   "version": "3.12.7"
  }
 },
 "nbformat": 4,
 "nbformat_minor": 5
}
