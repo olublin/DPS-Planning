{
 "cells": [
  {
   "cell_type": "code",
   "execution_count": 1,
   "id": "2f1c1f12-36c2-49e0-bb90-414ffc450931",
   "metadata": {},
   "outputs": [],
   "source": [
    "import pandas as pd\n",
    "import geopandas as gpd\n",
    "import numpy as np\n",
    "import matplotlib.pyplot as plt\n",
    "import os\n",
    "import seaborn as sns"
   ]
  },
  {
   "cell_type": "code",
   "execution_count": 2,
   "id": "fabbbaca-700f-46ef-9ee8-cc6c439757b3",
   "metadata": {},
   "outputs": [
    {
     "name": "stdout",
     "output_type": "stream",
     "text": [
      "C:\\Users\\olubl\\OneDrive\\College\\Data+\\DPS-Planning\n"
     ]
    }
   ],
   "source": [
    "print(os.getcwd())"
   ]
  },
  {
   "cell_type": "code",
   "execution_count": 8,
   "id": "b4c54fd2-a898-46fd-948c-170e71c0b69f",
   "metadata": {},
   "outputs": [
    {
     "data": {
      "text/html": [
       "<div>\n",
       "<style scoped>\n",
       "    .dataframe tbody tr th:only-of-type {\n",
       "        vertical-align: middle;\n",
       "    }\n",
       "\n",
       "    .dataframe tbody tr th {\n",
       "        vertical-align: top;\n",
       "    }\n",
       "\n",
       "    .dataframe thead th {\n",
       "        text-align: right;\n",
       "    }\n",
       "</style>\n",
       "<table border=\"1\" class=\"dataframe\">\n",
       "  <thead>\n",
       "    <tr style=\"text-align: right;\">\n",
       "      <th></th>\n",
       "      <th>A_DESCRIPT</th>\n",
       "      <th>match_results</th>\n",
       "      <th>region</th>\n",
       "      <th>student_gen</th>\n",
       "      <th>geometry</th>\n",
       "    </tr>\n",
       "  </thead>\n",
       "  <tbody>\n",
       "    <tr>\n",
       "      <th>0</th>\n",
       "      <td>50 Single - family lots, 1 stormwater pond, ad...</td>\n",
       "      <td>[(50, None, 'single family', 'lots')]</td>\n",
       "      <td>North</td>\n",
       "      <td>13.4350</td>\n",
       "      <td>POINT (-78.946 36.075)</td>\n",
       "    </tr>\n",
       "    <tr>\n",
       "      <th>1</th>\n",
       "      <td>Mixe of uses including retail and residential....</td>\n",
       "      <td>[ ]</td>\n",
       "      <td>Central</td>\n",
       "      <td>0.0000</td>\n",
       "      <td>POINT (-78.904 36)</td>\n",
       "    </tr>\n",
       "    <tr>\n",
       "      <th>2</th>\n",
       "      <td>Multifamily Apartments</td>\n",
       "      <td>[ ]</td>\n",
       "      <td>Central</td>\n",
       "      <td>0.0000</td>\n",
       "      <td>POINT (-78.93 36.01)</td>\n",
       "    </tr>\n",
       "    <tr>\n",
       "      <th>3</th>\n",
       "      <td>37 Townhome units, 102 Attached S-F units (cal...</td>\n",
       "      <td>[(37, None, 'townhouse', 'units'), (102, 'atta...</td>\n",
       "      <td>East</td>\n",
       "      <td>41.5747</td>\n",
       "      <td>POINT (-78.862 35.952)</td>\n",
       "    </tr>\n",
       "    <tr>\n",
       "      <th>4</th>\n",
       "      <td>From Rural Density Residential (RDR, 0.5DU/acr...</td>\n",
       "      <td>[ ]</td>\n",
       "      <td>East</td>\n",
       "      <td>0.0000</td>\n",
       "      <td>POINT (-78.777 35.989)</td>\n",
       "    </tr>\n",
       "  </tbody>\n",
       "</table>\n",
       "</div>"
      ],
      "text/plain": [
       "                                          A_DESCRIPT  \\\n",
       "0  50 Single - family lots, 1 stormwater pond, ad...   \n",
       "1  Mixe of uses including retail and residential....   \n",
       "2                             Multifamily Apartments   \n",
       "3  37 Townhome units, 102 Attached S-F units (cal...   \n",
       "4  From Rural Density Residential (RDR, 0.5DU/acr...   \n",
       "\n",
       "                                       match_results   region  student_gen  \\\n",
       "0              [(50, None, 'single family', 'lots')]    North      13.4350   \n",
       "1                                                [ ]  Central       0.0000   \n",
       "2                                                [ ]  Central       0.0000   \n",
       "3  [(37, None, 'townhouse', 'units'), (102, 'atta...     East      41.5747   \n",
       "4                                                [ ]     East       0.0000   \n",
       "\n",
       "                 geometry  \n",
       "0  POINT (-78.946 36.075)  \n",
       "1      POINT (-78.904 36)  \n",
       "2    POINT (-78.93 36.01)  \n",
       "3  POINT (-78.862 35.952)  \n",
       "4  POINT (-78.777 35.989)  "
      ]
     },
     "execution_count": 8,
     "metadata": {},
     "output_type": "execute_result"
    }
   ],
   "source": [
    "stu_proj = gpd.read_file(r'C:\\Users\\olubl\\OneDrive\\College\\Data+\\DPS-Planning\\resdev_with_stu_proj.geojson')\n",
    "stu_proj = stu_proj.to_crs(epsg=4326)\n",
    "stu_proj = stu_proj[['A_DESCRIPT','match_results','region','student_gen','geometry']]\n",
    "stu_proj.head()"
   ]
  },
  {
   "cell_type": "code",
   "execution_count": 35,
   "id": "595ff00f-d5ed-40f8-a992-ddfad22dcb51",
   "metadata": {},
   "outputs": [
    {
     "name": "stderr",
     "output_type": "stream",
     "text": [
      "C:\\Users\\olubl\\AppData\\Local\\Temp\\ipykernel_2180\\4127153436.py:1: UserWarning: Geometry is in a geographic CRS. Results from 'buffer' are likely incorrect. Use 'GeoSeries.to_crs()' to re-project geometries to a projected CRS before this operation.\n",
      "\n",
      "  stu_proj['geometry']=stu_proj.geometry.buffer(0.01)\n"
     ]
    },
    {
     "data": {
      "text/html": [
       "<div>\n",
       "<style scoped>\n",
       "    .dataframe tbody tr th:only-of-type {\n",
       "        vertical-align: middle;\n",
       "    }\n",
       "\n",
       "    .dataframe tbody tr th {\n",
       "        vertical-align: top;\n",
       "    }\n",
       "\n",
       "    .dataframe thead th {\n",
       "        text-align: right;\n",
       "    }\n",
       "</style>\n",
       "<table border=\"1\" class=\"dataframe\">\n",
       "  <thead>\n",
       "    <tr style=\"text-align: right;\">\n",
       "      <th></th>\n",
       "      <th>A_DESCRIPT</th>\n",
       "      <th>match_results</th>\n",
       "      <th>region</th>\n",
       "      <th>student_gen</th>\n",
       "      <th>geometry</th>\n",
       "    </tr>\n",
       "  </thead>\n",
       "  <tbody>\n",
       "    <tr>\n",
       "      <th>0</th>\n",
       "      <td>50 Single - family lots, 1 stormwater pond, ad...</td>\n",
       "      <td>[(50, None, 'single family', 'lots')]</td>\n",
       "      <td>North</td>\n",
       "      <td>13.4350</td>\n",
       "      <td>POLYGON ((-78.876 36.078, -78.876 36.078, -78....</td>\n",
       "    </tr>\n",
       "    <tr>\n",
       "      <th>1</th>\n",
       "      <td>Mixe of uses including retail and residential....</td>\n",
       "      <td>[ ]</td>\n",
       "      <td>Central</td>\n",
       "      <td>0.0000</td>\n",
       "      <td>POLYGON ((-78.834 36.003, -78.834 36.003, -78....</td>\n",
       "    </tr>\n",
       "    <tr>\n",
       "      <th>2</th>\n",
       "      <td>Multifamily Apartments</td>\n",
       "      <td>[ ]</td>\n",
       "      <td>Central</td>\n",
       "      <td>0.0000</td>\n",
       "      <td>POLYGON ((-78.86 36.013, -78.86 36.013, -78.86...</td>\n",
       "    </tr>\n",
       "    <tr>\n",
       "      <th>3</th>\n",
       "      <td>37 Townhome units, 102 Attached S-F units (cal...</td>\n",
       "      <td>[(37, None, 'townhouse', 'units'), (102, 'atta...</td>\n",
       "      <td>East</td>\n",
       "      <td>41.5747</td>\n",
       "      <td>POLYGON ((-78.792 35.955, -78.792 35.955, -78....</td>\n",
       "    </tr>\n",
       "    <tr>\n",
       "      <th>4</th>\n",
       "      <td>From Rural Density Residential (RDR, 0.5DU/acr...</td>\n",
       "      <td>[ ]</td>\n",
       "      <td>East</td>\n",
       "      <td>0.0000</td>\n",
       "      <td>POLYGON ((-78.707 35.992, -78.707 35.992, -78....</td>\n",
       "    </tr>\n",
       "  </tbody>\n",
       "</table>\n",
       "</div>"
      ],
      "text/plain": [
       "                                          A_DESCRIPT  \\\n",
       "0  50 Single - family lots, 1 stormwater pond, ad...   \n",
       "1  Mixe of uses including retail and residential....   \n",
       "2                             Multifamily Apartments   \n",
       "3  37 Townhome units, 102 Attached S-F units (cal...   \n",
       "4  From Rural Density Residential (RDR, 0.5DU/acr...   \n",
       "\n",
       "                                       match_results   region  student_gen  \\\n",
       "0              [(50, None, 'single family', 'lots')]    North      13.4350   \n",
       "1                                                [ ]  Central       0.0000   \n",
       "2                                                [ ]  Central       0.0000   \n",
       "3  [(37, None, 'townhouse', 'units'), (102, 'atta...     East      41.5747   \n",
       "4                                                [ ]     East       0.0000   \n",
       "\n",
       "                                            geometry  \n",
       "0  POLYGON ((-78.876 36.078, -78.876 36.078, -78....  \n",
       "1  POLYGON ((-78.834 36.003, -78.834 36.003, -78....  \n",
       "2  POLYGON ((-78.86 36.013, -78.86 36.013, -78.86...  \n",
       "3  POLYGON ((-78.792 35.955, -78.792 35.955, -78....  \n",
       "4  POLYGON ((-78.707 35.992, -78.707 35.992, -78....  "
      ]
     },
     "execution_count": 35,
     "metadata": {},
     "output_type": "execute_result"
    }
   ],
   "source": [
    "stu_proj['geometry']=stu_proj.geometry.buffer(0.01)\n",
    "stu_proj=stu_proj.drop(columns=['buffer'])\n",
    "stu_proj.head()"
   ]
  },
  {
   "cell_type": "code",
   "execution_count": null,
   "id": "35bfa9a0-96ce-46bc-92db-045134ec9d93",
   "metadata": {},
   "outputs": [],
   "source": [
    "overlay_buffers=stu_proj.overlay(stu_proj,how='intersection')\n",
    "overlay_buffers.plot()"
   ]
  },
  {
   "cell_type": "code",
   "execution_count": null,
   "id": "0c99b615-a682-4d7f-b1be-8581a0824987",
   "metadata": {},
   "outputs": [],
   "source": [
    "vmin=stu_proj['student_gen'].min()\n",
    "vmax=stu_proj['student_gen'].max()\n",
    "\n",
    "stu_proj.plot(\n",
    "    cmap='coolwarm',\n",
    ")\n",
    "\n",
    "plt.title('Students Generated Buffer')\n",
    "plt.show()"
   ]
  },
  {
   "cell_type": "code",
   "execution_count": null,
   "id": "6e95c748-f9b0-4e81-8b3d-337f1f2a6319",
   "metadata": {},
   "outputs": [],
   "source": []
  }
 ],
 "metadata": {
  "kernelspec": {
   "display_name": "Python [conda env:spatialdata]",
   "language": "python",
   "name": "conda-env-spatialdata-py"
  },
  "language_info": {
   "codemirror_mode": {
    "name": "ipython",
    "version": 3
   },
   "file_extension": ".py",
   "mimetype": "text/x-python",
   "name": "python",
   "nbconvert_exporter": "python",
   "pygments_lexer": "ipython3",
   "version": "3.12.7"
  }
 },
 "nbformat": 4,
 "nbformat_minor": 5
}
