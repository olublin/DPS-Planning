{
 "cells": [
  {
   "cell_type": "code",
   "execution_count": 42,
   "id": "2f1c1f12-36c2-49e0-bb90-414ffc450931",
   "metadata": {},
   "outputs": [],
   "source": [
    "import pandas as pd\n",
    "import geopandas as gpd\n",
    "import numpy as np\n",
    "import matplotlib.pyplot as plt\n",
    "import os\n",
    "import seaborn as sns\n",
    "from shapely.geometry import Point"
   ]
  },
  {
   "cell_type": "code",
   "execution_count": 2,
   "id": "fabbbaca-700f-46ef-9ee8-cc6c439757b3",
   "metadata": {},
   "outputs": [
    {
     "name": "stdout",
     "output_type": "stream",
     "text": [
      "C:\\Users\\olubl\\OneDrive\\College\\Data+\\DPS-Planning\n"
     ]
    }
   ],
   "source": [
    "print(os.getcwd())"
   ]
  },
  {
   "cell_type": "code",
   "execution_count": 44,
   "id": "b4c54fd2-a898-46fd-948c-170e71c0b69f",
   "metadata": {},
   "outputs": [
    {
     "data": {
      "text/html": [
       "<div>\n",
       "<style scoped>\n",
       "    .dataframe tbody tr th:only-of-type {\n",
       "        vertical-align: middle;\n",
       "    }\n",
       "\n",
       "    .dataframe tbody tr th {\n",
       "        vertical-align: top;\n",
       "    }\n",
       "\n",
       "    .dataframe thead th {\n",
       "        text-align: right;\n",
       "    }\n",
       "</style>\n",
       "<table border=\"1\" class=\"dataframe\">\n",
       "  <thead>\n",
       "    <tr style=\"text-align: right;\">\n",
       "      <th></th>\n",
       "      <th>A_DESCRIPT</th>\n",
       "      <th>match_results</th>\n",
       "      <th>region</th>\n",
       "      <th>student_gen</th>\n",
       "      <th>geometry</th>\n",
       "    </tr>\n",
       "  </thead>\n",
       "  <tbody>\n",
       "    <tr>\n",
       "      <th>0</th>\n",
       "      <td>50 Single - family lots, 1 stormwater pond, ad...</td>\n",
       "      <td>[(50, None, 'single family', 'lots')]</td>\n",
       "      <td>North</td>\n",
       "      <td>13.4350</td>\n",
       "      <td>POINT (-8.79e+06 4.31e+06)</td>\n",
       "    </tr>\n",
       "    <tr>\n",
       "      <th>3</th>\n",
       "      <td>37 Townhome units, 102 Attached S-F units (cal...</td>\n",
       "      <td>[(37, None, 'townhouse', 'units'), (102, 'atta...</td>\n",
       "      <td>East</td>\n",
       "      <td>41.5747</td>\n",
       "      <td>POINT (-8.78e+06 4.29e+06)</td>\n",
       "    </tr>\n",
       "    <tr>\n",
       "      <th>5</th>\n",
       "      <td>33 new town home lots with garages and mail ki...</td>\n",
       "      <td>[(33, None, 'townhouse', 'lots')]</td>\n",
       "      <td>Central</td>\n",
       "      <td>1.0890</td>\n",
       "      <td>POINT (-8.78e+06 4.3e+06)</td>\n",
       "    </tr>\n",
       "    <tr>\n",
       "      <th>6</th>\n",
       "      <td>108 Single - Family lots, 2 stormwater ponds, ...</td>\n",
       "      <td>[(108, None, 'single family', 'lots')]</td>\n",
       "      <td>East</td>\n",
       "      <td>23.5872</td>\n",
       "      <td>POINT (-8.77e+06 4.3e+06)</td>\n",
       "    </tr>\n",
       "    <tr>\n",
       "      <th>8</th>\n",
       "      <td>This is a residential subdivision of a 20.96 a...</td>\n",
       "      <td>[(49, None, 'single family', None)]</td>\n",
       "      <td>North</td>\n",
       "      <td>13.1663</td>\n",
       "      <td>POINT (-8.78e+06 4.32e+06)</td>\n",
       "    </tr>\n",
       "    <tr>\n",
       "      <th>9</th>\n",
       "      <td>2 New townhouses on vacant infill lot</td>\n",
       "      <td>[(2, None, 'townhouse', None)]</td>\n",
       "      <td>Central</td>\n",
       "      <td>0.0660</td>\n",
       "      <td>POINT (-8.78e+06 4.3e+06)</td>\n",
       "    </tr>\n",
       "    <tr>\n",
       "      <th>11</th>\n",
       "      <td>Mixed used development with office, retail, re...</td>\n",
       "      <td>[(343, None, 'apartment', 'units')]</td>\n",
       "      <td>Central</td>\n",
       "      <td>56.4578</td>\n",
       "      <td>POINT (-8.78e+06 4.3e+06)</td>\n",
       "    </tr>\n",
       "    <tr>\n",
       "      <th>13</th>\n",
       "      <td>Proposed 25 S-F lots, 11 Townhomes lots, 2 con...</td>\n",
       "      <td>[(25, None, 'single family', 'lots'), (11, Non...</td>\n",
       "      <td>Southwest</td>\n",
       "      <td>6.8264</td>\n",
       "      <td>POINT (-8.79e+06 4.3e+06)</td>\n",
       "    </tr>\n",
       "    <tr>\n",
       "      <th>14</th>\n",
       "      <td>Proposed 14 townhomes and 1 single-family home...</td>\n",
       "      <td>[(14, None, 'townhouse', None), (1, None, 'sin...</td>\n",
       "      <td>Southwest</td>\n",
       "      <td>1.3060</td>\n",
       "      <td>POINT (-8.79e+06 4.3e+06)</td>\n",
       "    </tr>\n",
       "    <tr>\n",
       "      <th>15</th>\n",
       "      <td>11,600 SF four-story 3 unit townhome project w...</td>\n",
       "      <td>[(3, None, 'townhouse', None)]</td>\n",
       "      <td>Central</td>\n",
       "      <td>0.0990</td>\n",
       "      <td>POINT (-8.78e+06 4.3e+06)</td>\n",
       "    </tr>\n",
       "  </tbody>\n",
       "</table>\n",
       "</div>"
      ],
      "text/plain": [
       "                                           A_DESCRIPT  \\\n",
       "0   50 Single - family lots, 1 stormwater pond, ad...   \n",
       "3   37 Townhome units, 102 Attached S-F units (cal...   \n",
       "5   33 new town home lots with garages and mail ki...   \n",
       "6   108 Single - Family lots, 2 stormwater ponds, ...   \n",
       "8   This is a residential subdivision of a 20.96 a...   \n",
       "9               2 New townhouses on vacant infill lot   \n",
       "11  Mixed used development with office, retail, re...   \n",
       "13  Proposed 25 S-F lots, 11 Townhomes lots, 2 con...   \n",
       "14  Proposed 14 townhomes and 1 single-family home...   \n",
       "15  11,600 SF four-story 3 unit townhome project w...   \n",
       "\n",
       "                                        match_results     region  student_gen  \\\n",
       "0               [(50, None, 'single family', 'lots')]      North      13.4350   \n",
       "3   [(37, None, 'townhouse', 'units'), (102, 'atta...       East      41.5747   \n",
       "5                   [(33, None, 'townhouse', 'lots')]    Central       1.0890   \n",
       "6              [(108, None, 'single family', 'lots')]       East      23.5872   \n",
       "8                 [(49, None, 'single family', None)]      North      13.1663   \n",
       "9                      [(2, None, 'townhouse', None)]    Central       0.0660   \n",
       "11                [(343, None, 'apartment', 'units')]    Central      56.4578   \n",
       "13  [(25, None, 'single family', 'lots'), (11, Non...  Southwest       6.8264   \n",
       "14  [(14, None, 'townhouse', None), (1, None, 'sin...  Southwest       1.3060   \n",
       "15                     [(3, None, 'townhouse', None)]    Central       0.0990   \n",
       "\n",
       "                      geometry  \n",
       "0   POINT (-8.79e+06 4.31e+06)  \n",
       "3   POINT (-8.78e+06 4.29e+06)  \n",
       "5    POINT (-8.78e+06 4.3e+06)  \n",
       "6    POINT (-8.77e+06 4.3e+06)  \n",
       "8   POINT (-8.78e+06 4.32e+06)  \n",
       "9    POINT (-8.78e+06 4.3e+06)  \n",
       "11   POINT (-8.78e+06 4.3e+06)  \n",
       "13   POINT (-8.79e+06 4.3e+06)  \n",
       "14   POINT (-8.79e+06 4.3e+06)  \n",
       "15   POINT (-8.78e+06 4.3e+06)  "
      ]
     },
     "execution_count": 44,
     "metadata": {},
     "output_type": "execute_result"
    }
   ],
   "source": [
    "stu_proj = gpd.read_file(r'C:\\Users\\olubl\\OneDrive\\College\\Data+\\DPS-Planning\\resdev_with_stu_proj.geojson')\n",
    "stu_proj = stu_proj.to_crs(epsg=3857)\n",
    "stu_proj = stu_proj[['A_DESCRIPT','match_results','region','student_gen','geometry']]\n",
    "stu_proj = stu_proj[stu_proj['student_gen']>0]\n",
    "#stu_proj['geometry']=stu_proj.geometry.buffer(0.01)\n",
    "stu_proj.head(10)"
   ]
  },
  {
   "cell_type": "code",
   "execution_count": 10,
   "id": "a5b193ea-177b-41f7-81d1-d6ad729dc95e",
   "metadata": {},
   "outputs": [],
   "source": [
    "durham_boundaries=gpd.read_file(r'C:\\Users\\olubl\\OneDrive\\College\\Data+\\DPS-Planning\\Data\\Boundary\\durham_census_tracts')"
   ]
  },
  {
   "cell_type": "code",
   "execution_count": 35,
   "id": "35bfa9a0-96ce-46bc-92db-045134ec9d93",
   "metadata": {},
   "outputs": [],
   "source": [
    "overlay_buffers=stu_proj.overlay(stu_proj,how='union')\n",
    "overlay_buffers['total_stu_gen']=overlay_buffers['student_gen_1']+overlay_buffers['student_gen_2']\n",
    "#overlay_buffers.tail(10)"
   ]
  },
  {
   "cell_type": "code",
   "execution_count": 37,
   "id": "0c99b615-a682-4d7f-b1be-8581a0824987",
   "metadata": {},
   "outputs": [
    {
     "ename": "SyntaxError",
     "evalue": "unmatched ')' (975248201.py, line 5)",
     "output_type": "error",
     "traceback": [
      "\u001b[1;36m  Cell \u001b[1;32mIn[37], line 5\u001b[1;36m\u001b[0m\n\u001b[1;33m    )\u001b[0m\n\u001b[1;37m    ^\u001b[0m\n\u001b[1;31mSyntaxError\u001b[0m\u001b[1;31m:\u001b[0m unmatched ')'\n"
     ]
    }
   ],
   "source": [
    "vmin=overlay_buffers['total_stu_gen'].min()\n",
    "vmax=overlay_buffers['total_stu_gen'].max()\n",
    "\n",
    "#overlay_buffers.plot(\n",
    ")\n",
    "\n",
    "plt.title('Students Generated Buffer')\n",
    "plt.show()"
   ]
  },
  {
   "cell_type": "code",
   "execution_count": 61,
   "id": "6e95c748-f9b0-4e81-8b3d-337f1f2a6319",
   "metadata": {},
   "outputs": [
    {
     "name": "stdin",
     "output_type": "stream",
     "text": [
      "Enter the latitude: 36\n",
      "Enter the longitude: -79\n"
     ]
    },
    {
     "name": "stdout",
     "output_type": "stream",
     "text": [
      "Number of students generated within 1 mile: 0\n"
     ]
    },
    {
     "name": "stderr",
     "output_type": "stream",
     "text": [
      "C:\\Users\\olubl\\AppData\\Local\\Temp\\ipykernel_17584\\1502057186.py:10: UserWarning: The indices of the left and right GeoSeries' are not equal, and therefore they will be aligned (reordering and/or introducing missing values) before executing the operation. If this alignment is the desired behaviour, you can silence this warning by passing 'align=True'. If you don't want alignment and protect yourself of accidentally aligning, you can pass 'align=False'.\n",
      "  developments_within_1mi = stu_proj[stu_proj.geometry.within(buffer)]\n"
     ]
    }
   ],
   "source": [
    "latitude = input('Enter the latitude:')\n",
    "longitude = input('Enter the longitude:')\n",
    "\n",
    "point = Point(latitude,longitude)\n",
    "\n",
    "point_gdf = gpd.GeoSeries(point,crs='EPSG:4326')  #convert point to geodataframe then to metric coordinate system\n",
    "point_gdf = point_gdf.to_crs(epsg=3857)\n",
    "\n",
    "buffer = point_gdf.buffer(10609.34)  #1609.34 meters = 1 mile buffer\n",
    "developments_within_1mi = stu_proj[stu_proj.geometry.within(buffer)]\n",
    "developments_within_1mi\n",
    "count_1mi = sum(developments_within_1mi['student_gen'])\n",
    "print(f'Number of students generated within 1 mile: {count_1mi}')\n"
   ]
  },
  {
   "cell_type": "code",
   "execution_count": null,
   "id": "945ecb11-a2a0-46cf-aaea-078b69b57884",
   "metadata": {},
   "outputs": [],
   "source": []
  }
 ],
 "metadata": {
  "kernelspec": {
   "display_name": "Python [conda env:spatialdata]",
   "language": "python",
   "name": "conda-env-spatialdata-py"
  },
  "language_info": {
   "codemirror_mode": {
    "name": "ipython",
    "version": 3
   },
   "file_extension": ".py",
   "mimetype": "text/x-python",
   "name": "python",
   "nbconvert_exporter": "python",
   "pygments_lexer": "ipython3",
   "version": "3.12.7"
  }
 },
 "nbformat": 4,
 "nbformat_minor": 5
}
