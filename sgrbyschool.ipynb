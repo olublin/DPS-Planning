{
 "cells": [
  {
   "cell_type": "code",
   "execution_count": 2,
   "id": "c47d2013-b6a8-44da-b78d-6db52bf0b486",
   "metadata": {},
   "outputs": [],
   "source": [
    "import pandas as pd\n",
    "import numpy as np\n",
    "import geopandas as gpd\n",
    "import matplotlib.pyplot as plt"
   ]
  },
  {
   "cell_type": "code",
   "execution_count": 6,
   "id": "138fef95-893a-45fb-9438-349a70fedcdb",
   "metadata": {},
   "outputs": [
    {
     "data": {
      "text/html": [
       "<div>\n",
       "<style scoped>\n",
       "    .dataframe tbody tr th:only-of-type {\n",
       "        vertical-align: middle;\n",
       "    }\n",
       "\n",
       "    .dataframe tbody tr th {\n",
       "        vertical-align: top;\n",
       "    }\n",
       "\n",
       "    .dataframe thead th {\n",
       "        text-align: right;\n",
       "    }\n",
       "</style>\n",
       "<table border=\"1\" class=\"dataframe\">\n",
       "  <thead>\n",
       "    <tr style=\"text-align: right;\">\n",
       "      <th></th>\n",
       "      <th>index</th>\n",
       "      <th>housing_type</th>\n",
       "      <th>region</th>\n",
       "      <th>parcel_ct</th>\n",
       "      <th>sgr_dps_avg_k12</th>\n",
       "      <th>sgr_dps_avg_k12_es</th>\n",
       "      <th>sgr_dps_avg_k12_ms</th>\n",
       "      <th>sgr_dps_avg_k12_hs</th>\n",
       "    </tr>\n",
       "  </thead>\n",
       "  <tbody>\n",
       "    <tr>\n",
       "      <th>0</th>\n",
       "      <td>4</td>\n",
       "      <td>age_restrict</td>\n",
       "      <td>Central</td>\n",
       "      <td>6</td>\n",
       "      <td>0.010802</td>\n",
       "      <td>0.005401</td>\n",
       "      <td>0.002161</td>\n",
       "      <td>0.003241</td>\n",
       "    </tr>\n",
       "    <tr>\n",
       "      <th>1</th>\n",
       "      <td>5</td>\n",
       "      <td>condo</td>\n",
       "      <td>Central</td>\n",
       "      <td>51</td>\n",
       "      <td>0.023707</td>\n",
       "      <td>0.011853</td>\n",
       "      <td>0.004741</td>\n",
       "      <td>0.007112</td>\n",
       "    </tr>\n",
       "    <tr>\n",
       "      <th>2</th>\n",
       "      <td>6</td>\n",
       "      <td>du_tri</td>\n",
       "      <td>Central</td>\n",
       "      <td>1289</td>\n",
       "      <td>0.218235</td>\n",
       "      <td>0.109118</td>\n",
       "      <td>0.043647</td>\n",
       "      <td>0.065471</td>\n",
       "    </tr>\n",
       "    <tr>\n",
       "      <th>3</th>\n",
       "      <td>7</td>\n",
       "      <td>hud</td>\n",
       "      <td>Central</td>\n",
       "      <td>36</td>\n",
       "      <td>0.229575</td>\n",
       "      <td>0.114788</td>\n",
       "      <td>0.045915</td>\n",
       "      <td>0.068873</td>\n",
       "    </tr>\n",
       "    <tr>\n",
       "      <th>4</th>\n",
       "      <td>8</td>\n",
       "      <td>manuf</td>\n",
       "      <td>Central</td>\n",
       "      <td>5</td>\n",
       "      <td>0.458333</td>\n",
       "      <td>0.229167</td>\n",
       "      <td>0.091667</td>\n",
       "      <td>0.137500</td>\n",
       "    </tr>\n",
       "  </tbody>\n",
       "</table>\n",
       "</div>"
      ],
      "text/plain": [
       "   index  housing_type   region  parcel_ct  sgr_dps_avg_k12  \\\n",
       "0      4  age_restrict  Central          6         0.010802   \n",
       "1      5         condo  Central         51         0.023707   \n",
       "2      6        du_tri  Central       1289         0.218235   \n",
       "3      7           hud  Central         36         0.229575   \n",
       "4      8         manuf  Central          5         0.458333   \n",
       "\n",
       "   sgr_dps_avg_k12_es  sgr_dps_avg_k12_ms  sgr_dps_avg_k12_hs  \n",
       "0            0.005401            0.002161            0.003241  \n",
       "1            0.011853            0.004741            0.007112  \n",
       "2            0.109118            0.043647            0.065471  \n",
       "3            0.114788            0.045915            0.068873  \n",
       "4            0.229167            0.091667            0.137500  "
      ]
     },
     "execution_count": 6,
     "metadata": {},
     "output_type": "execute_result"
    }
   ],
   "source": [
    "#import and clean data\n",
    "sgr_by_school = pd.read_csv(r'C:/Users/olubl/OneDrive/College/Data+/DPS-Planning/sgr_htype_reg.csv')\n",
    "sgr_by_school = sgr_by_school.dropna()[['housing_type','region','parcel_ct','sgr_dps_avg_k12','sgr_dps_avg_k12_es','sgr_dps_avg_k12_ms','sgr_dps_avg_k12_hs']]\n",
    "sgr_by_school[['sgr_dps_avg_k12','sgr_dps_avg_k12_es','sgr_dps_avg_k12_ms','sgr_dps_avg_k12_hs']] = sgr_by_school[['sgr_dps_avg_k12','sgr_dps_avg_k12_es','sgr_dps_avg_k12_ms','sgr_dps_avg_k12_hs']].round(7)\n",
    "sgr_by_school = sgr_by_school.reset_index()\n",
    "sgr_by_school.head()"
   ]
  },
  {
   "cell_type": "code",
   "execution_count": 4,
   "id": "08cadb27-fabf-4037-b4fc-d8d9f2657604",
   "metadata": {},
   "outputs": [
    {
     "data": {
      "text/plain": [
       "0.0054"
      ]
     },
     "execution_count": 4,
     "metadata": {},
     "output_type": "execute_result"
    }
   ],
   "source": [
    "sgr_by_school.iloc[0,5]"
   ]
  },
  {
   "cell_type": "code",
   "execution_count": 7,
   "id": "6f196847-2938-4032-b0d5-66ca7f10c576",
   "metadata": {},
   "outputs": [
    {
     "name": "stdout",
     "output_type": "stream",
     "text": [
      "0.5 0.2 0.3\n",
      "0.5 0.2 0.3\n",
      "0.5 0.2 0.3\n",
      "0.5 0.2 0.3\n",
      "0.5 0.2 0.3\n",
      "0.5 0.2 0.3\n",
      "0.5 0.2 0.3\n",
      "0.5 0.2 0.3\n",
      "0.5 0.2 0.3\n",
      "0.5 0.2 0.3\n",
      "0.5 0.2 0.3\n",
      "0.5 0.2 0.3\n",
      "nan nan nan\n",
      "0.5 0.2 0.3\n",
      "0.5 0.2 0.3\n",
      "0.5 0.2 0.3\n",
      "0.5 0.2 0.3\n",
      "0.5 0.2 0.3\n",
      "0.5 0.2 0.3\n",
      "0.5 0.2 0.3\n",
      "0.5 0.2 0.3\n",
      "0.5 0.2 0.3\n",
      "0.5 0.2 0.3\n",
      "0.5 0.2 0.3\n",
      "0.5 0.2 0.3\n",
      "0.5 0.2 0.3\n",
      "0.5 0.2 0.3\n",
      "0.5 0.2 0.3\n",
      "0.5 0.2 0.3\n",
      "0.5 0.2 0.3\n",
      "0.5 0.2 0.3\n",
      "0.5 0.2 0.3\n",
      "0.5 0.2 0.3\n",
      "0.5 0.2 0.3\n",
      "0.5 0.2 0.3\n",
      "0.5 0.2 0.3\n",
      "0.5 0.2 0.3\n",
      "0.5 0.2 0.3\n",
      "0.5 0.2 0.3\n",
      "0.5 0.2 0.3\n",
      "0.5 0.2 0.3\n",
      "0.5 0.2 0.3\n",
      "0.5 0.2 0.3\n",
      "0.5 0.2 0.3\n",
      "0.5 0.2 0.3\n"
     ]
    },
    {
     "name": "stderr",
     "output_type": "stream",
     "text": [
      "C:\\Users\\olubl\\AppData\\Local\\Temp\\ipykernel_15436\\1966764430.py:2: RuntimeWarning: invalid value encountered in scalar divide\n",
      "  es_pct = (sgr_by_school.iloc[i,5]/sgr_by_school.iloc[i,4]).round(2)\n",
      "C:\\Users\\olubl\\AppData\\Local\\Temp\\ipykernel_15436\\1966764430.py:3: RuntimeWarning: invalid value encountered in scalar divide\n",
      "  ms_pct = (sgr_by_school.iloc[i,6]/sgr_by_school.iloc[i,4]).round(2)\n",
      "C:\\Users\\olubl\\AppData\\Local\\Temp\\ipykernel_15436\\1966764430.py:4: RuntimeWarning: invalid value encountered in scalar divide\n",
      "  hs_pct = (sgr_by_school.iloc[i,7]/sgr_by_school.iloc[i,4]).round(2)\n"
     ]
    }
   ],
   "source": [
    "for i,index in enumerate(sgr_by_school['index']):\n",
    "    es_pct = (sgr_by_school.iloc[i,5]/sgr_by_school.iloc[i,4]).round(2)\n",
    "    ms_pct = (sgr_by_school.iloc[i,6]/sgr_by_school.iloc[i,4]).round(2)\n",
    "    hs_pct = (sgr_by_school.iloc[i,7]/sgr_by_school.iloc[i,4]).round(2)\n",
    "    \n",
    "    print(es_pct,ms_pct,hs_pct)"
   ]
  },
  {
   "cell_type": "code",
   "execution_count": null,
   "id": "a5444ef7-5c8c-40c0-ba47-2aee6ccd7c5a",
   "metadata": {},
   "outputs": [],
   "source": []
  }
 ],
 "metadata": {
  "kernelspec": {
   "display_name": "Python [conda env:spatialdata]",
   "language": "python",
   "name": "conda-env-spatialdata-py"
  },
  "language_info": {
   "codemirror_mode": {
    "name": "ipython",
    "version": 3
   },
   "file_extension": ".py",
   "mimetype": "text/x-python",
   "name": "python",
   "nbconvert_exporter": "python",
   "pygments_lexer": "ipython3",
   "version": "3.12.7"
  }
 },
 "nbformat": 4,
 "nbformat_minor": 5
}
