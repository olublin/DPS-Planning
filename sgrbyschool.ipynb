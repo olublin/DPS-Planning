{
 "cells": [
  {
   "cell_type": "code",
   "execution_count": 1,
   "id": "c47d2013-b6a8-44da-b78d-6db52bf0b486",
   "metadata": {},
   "outputs": [],
   "source": [
    "import pandas as pd\n",
    "import numpy as np\n",
    "import geopandas as gpd\n",
    "import matplotlib.pyplot as plt"
   ]
  },
  {
   "cell_type": "code",
   "execution_count": 16,
   "id": "138fef95-893a-45fb-9438-349a70fedcdb",
   "metadata": {},
   "outputs": [
    {
     "data": {
      "text/html": [
       "<div>\n",
       "<style scoped>\n",
       "    .dataframe tbody tr th:only-of-type {\n",
       "        vertical-align: middle;\n",
       "    }\n",
       "\n",
       "    .dataframe tbody tr th {\n",
       "        vertical-align: top;\n",
       "    }\n",
       "\n",
       "    .dataframe thead th {\n",
       "        text-align: right;\n",
       "    }\n",
       "</style>\n",
       "<table border=\"1\" class=\"dataframe\">\n",
       "  <thead>\n",
       "    <tr style=\"text-align: right;\">\n",
       "      <th></th>\n",
       "      <th>index</th>\n",
       "      <th>housing_type</th>\n",
       "      <th>region</th>\n",
       "      <th>parcel_ct</th>\n",
       "      <th>sgr_dps_avg_k12</th>\n",
       "      <th>sgr_dps_avg_k12_es</th>\n",
       "      <th>sgr_dps_avg_k12_ms</th>\n",
       "      <th>sgr_dps_avg_k12_hs</th>\n",
       "    </tr>\n",
       "  </thead>\n",
       "  <tbody>\n",
       "    <tr>\n",
       "      <th>0</th>\n",
       "      <td>4</td>\n",
       "      <td>age_restrict</td>\n",
       "      <td>Central</td>\n",
       "      <td>6</td>\n",
       "      <td>0.0108</td>\n",
       "      <td>0.0054</td>\n",
       "      <td>0.0022</td>\n",
       "      <td>0.0032</td>\n",
       "    </tr>\n",
       "    <tr>\n",
       "      <th>1</th>\n",
       "      <td>5</td>\n",
       "      <td>condo</td>\n",
       "      <td>Central</td>\n",
       "      <td>51</td>\n",
       "      <td>0.0237</td>\n",
       "      <td>0.0119</td>\n",
       "      <td>0.0047</td>\n",
       "      <td>0.0071</td>\n",
       "    </tr>\n",
       "    <tr>\n",
       "      <th>2</th>\n",
       "      <td>6</td>\n",
       "      <td>du_tri</td>\n",
       "      <td>Central</td>\n",
       "      <td>1289</td>\n",
       "      <td>0.2182</td>\n",
       "      <td>0.1091</td>\n",
       "      <td>0.0436</td>\n",
       "      <td>0.0655</td>\n",
       "    </tr>\n",
       "    <tr>\n",
       "      <th>3</th>\n",
       "      <td>7</td>\n",
       "      <td>hud</td>\n",
       "      <td>Central</td>\n",
       "      <td>36</td>\n",
       "      <td>0.2296</td>\n",
       "      <td>0.1148</td>\n",
       "      <td>0.0459</td>\n",
       "      <td>0.0689</td>\n",
       "    </tr>\n",
       "    <tr>\n",
       "      <th>4</th>\n",
       "      <td>8</td>\n",
       "      <td>manuf</td>\n",
       "      <td>Central</td>\n",
       "      <td>5</td>\n",
       "      <td>0.4583</td>\n",
       "      <td>0.2292</td>\n",
       "      <td>0.0917</td>\n",
       "      <td>0.1375</td>\n",
       "    </tr>\n",
       "  </tbody>\n",
       "</table>\n",
       "</div>"
      ],
      "text/plain": [
       "   index  housing_type   region  parcel_ct  sgr_dps_avg_k12  \\\n",
       "0      4  age_restrict  Central          6           0.0108   \n",
       "1      5         condo  Central         51           0.0237   \n",
       "2      6        du_tri  Central       1289           0.2182   \n",
       "3      7           hud  Central         36           0.2296   \n",
       "4      8         manuf  Central          5           0.4583   \n",
       "\n",
       "   sgr_dps_avg_k12_es  sgr_dps_avg_k12_ms  sgr_dps_avg_k12_hs  \n",
       "0              0.0054              0.0022              0.0032  \n",
       "1              0.0119              0.0047              0.0071  \n",
       "2              0.1091              0.0436              0.0655  \n",
       "3              0.1148              0.0459              0.0689  \n",
       "4              0.2292              0.0917              0.1375  "
      ]
     },
     "execution_count": 16,
     "metadata": {},
     "output_type": "execute_result"
    }
   ],
   "source": [
    "#import and clean data\n",
    "sgr_by_school = pd.read_csv(r'C:/Users/olubl/OneDrive/College/Data+/DPS-Planning/sgr_htype_reg.csv')\n",
    "sgr_by_school = sgr_by_school.dropna()[['housing_type','region','parcel_ct','sgr_dps_avg_k12','sgr_dps_avg_k12_es','sgr_dps_avg_k12_ms','sgr_dps_avg_k12_hs']]\n",
    "sgr_by_school[['sgr_dps_avg_k12','sgr_dps_avg_k12_es','sgr_dps_avg_k12_ms','sgr_dps_avg_k12_hs']] = sgr_by_school[['sgr_dps_avg_k12','sgr_dps_avg_k12_es','sgr_dps_avg_k12_ms','sgr_dps_avg_k12_hs']].round(4)\n",
    "sgr_by_school = sgr_by_school.reset_index()\n",
    "sgr_by_school.head()"
   ]
  },
  {
   "cell_type": "code",
   "execution_count": 12,
   "id": "08cadb27-fabf-4037-b4fc-d8d9f2657604",
   "metadata": {},
   "outputs": [
    {
     "data": {
      "text/plain": [
       "0.0022"
      ]
     },
     "execution_count": 12,
     "metadata": {},
     "output_type": "execute_result"
    }
   ],
   "source": [
    "sgr_by_school.iloc[0,5]"
   ]
  },
  {
   "cell_type": "code",
   "execution_count": 25,
   "id": "6f196847-2938-4032-b0d5-66ca7f10c576",
   "metadata": {},
   "outputs": [
    {
     "name": "stdout",
     "output_type": "stream",
     "text": [
      "0.5 0.2 0.3\n",
      "0.5 0.2 0.3\n",
      "0.5 0.2 0.3\n",
      "0.5 0.2 0.3\n",
      "0.5 0.2 0.3\n",
      "0.5 0.2 0.3\n",
      "0.5 0.2 0.3\n",
      "0.5 0.2 0.3\n",
      "0.5 0.2 0.3\n",
      "0.5 0.2 0.3\n",
      "0.5 0.2 0.3\n",
      "0.5 0.2 0.3\n",
      "nan nan nan\n",
      "0.5 0.2 0.3\n",
      "0.5 0.2 0.3\n",
      "0.5 0.2 0.3\n",
      "0.5 0.2 0.3\n",
      "0.5 0.2 0.3\n",
      "0.5 0.17 0.33\n",
      "0.5 0.2 0.3\n",
      "0.5 0.2 0.3\n",
      "0.5 0.2 0.3\n",
      "0.5 0.2 0.3\n",
      "0.5 0.2 0.3\n",
      "0.5 0.2 0.3\n",
      "0.5 0.2 0.3\n",
      "0.5 0.2 0.3\n",
      "0.45 0.18 0.27\n",
      "0.5 0.2 0.3\n",
      "0.5 0.2 0.3\n",
      "0.5 0.2 0.3\n",
      "0.5 0.2 0.3\n",
      "0.5 0.2 0.3\n",
      "0.5 0.2 0.3\n",
      "0.5 0.2 0.3\n",
      "0.5 0.2 0.3\n",
      "0.5 0.21 0.29\n",
      "0.5 0.2 0.3\n",
      "0.5 0.2 0.3\n",
      "0.5 0.2 0.3\n",
      "0.5 0.2 0.3\n",
      "0.5 0.2 0.3\n",
      "0.5 0.2 0.3\n",
      "0.5 0.2 0.3\n",
      "0.5 0.2 0.3\n"
     ]
    },
    {
     "name": "stderr",
     "output_type": "stream",
     "text": [
      "C:\\Users\\olubl\\AppData\\Local\\Temp\\ipykernel_20116\\1738061602.py:2: RuntimeWarning: invalid value encountered in scalar divide\n",
      "  es_pct = (sgr_by_school.iloc[i,5]/sgr_by_school.iloc[i,4]).round(2)\n",
      "C:\\Users\\olubl\\AppData\\Local\\Temp\\ipykernel_20116\\1738061602.py:3: RuntimeWarning: invalid value encountered in scalar divide\n",
      "  ms_pct = (sgr_by_school.iloc[i,6]/sgr_by_school.iloc[i,4]).round(2)\n",
      "C:\\Users\\olubl\\AppData\\Local\\Temp\\ipykernel_20116\\1738061602.py:4: RuntimeWarning: invalid value encountered in scalar divide\n",
      "  hs_pct = (sgr_by_school.iloc[i,7]/sgr_by_school.iloc[i,4]).round(2)\n"
     ]
    }
   ],
   "source": [
    "for i,index in enumerate(sgr_by_school['index']):\n",
    "    es_pct = (sgr_by_school.iloc[i,5]/sgr_by_school.iloc[i,4]).round(2)\n",
    "    ms_pct = (sgr_by_school.iloc[i,6]/sgr_by_school.iloc[i,4]).round(2)\n",
    "    hs_pct = (sgr_by_school.iloc[i,7]/sgr_by_school.iloc[i,4]).round(2)\n",
    "    \n",
    "    print(es_pct, ms_pct,hs_pct)"
   ]
  },
  {
   "cell_type": "code",
   "execution_count": null,
   "id": "a5444ef7-5c8c-40c0-ba47-2aee6ccd7c5a",
   "metadata": {},
   "outputs": [],
   "source": []
  }
 ],
 "metadata": {
  "kernelspec": {
   "display_name": "Python [conda env:spatialdata]",
   "language": "python",
   "name": "conda-env-spatialdata-py"
  },
  "language_info": {
   "codemirror_mode": {
    "name": "ipython",
    "version": 3
   },
   "file_extension": ".py",
   "mimetype": "text/x-python",
   "name": "python",
   "nbconvert_exporter": "python",
   "pygments_lexer": "ipython3",
   "version": "3.12.7"
  }
 },
 "nbformat": 4,
 "nbformat_minor": 5
}
