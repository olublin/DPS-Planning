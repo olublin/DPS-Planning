{
 "cells": [
  {
   "cell_type": "code",
   "execution_count": null,
   "id": "bb783680-5a2e-4a6b-9f4c-c1cdd9a4a97f",
   "metadata": {},
   "outputs": [],
   "source": [
    "import pandas as pd\n",
    "import geopandas as gpd\n",
    "import numpy as np\n",
    "import re"
   ]
  },
  {
   "cell_type": "code",
   "execution_count": null,
   "id": "fe4af0b1-4d3a-4226-8ae6-13fb56a8444b",
   "metadata": {},
   "outputs": [],
   "source": [
    "# read in csv file\n",
    "all_cases = gpd.read_file('/Users/leahwallihan/Durham_school_planning/Res_Development')"
   ]
  },
  {
   "cell_type": "code",
   "execution_count": null,
   "id": "196018c8-86e1-4fea-bb07-d7205af6f0e2",
   "metadata": {},
   "outputs": [],
   "source": [
    "# types = A_TYPE codes we want to keep\n",
    "types = ['PL_MINSP', 'PL_SSP_SM', 'PL_SSM_SM2', 'PL_CPAA', 'PL_MINPP', 'PL_MAJSP', 'PL_MAJSUP', 'PL_PPA', 'PL_MAJPP'] \n",
    "# filter that only keeps cases of specified types\n",
    "filter_cases_type = all_cases[all_cases['A_TYPE'].isin(types)]\n",
    "# status = A_STATUS codes we want to keep\n",
    "status = all_cases['A_STATUS'].unique()\n",
    "status = status[~np.isin(status, ['WITH', 'VOID','DEN','DISAP','EXP'])]\n",
    "# filter that only keeps cases of specified status\n",
    "filter_cases_status = filter_cases_type[filter_cases_type['A_STATUS'].isin(status)]"
   ]
  },
  {
   "cell_type": "code",
   "execution_count": null,
   "id": "7b6a0c14-8b09-4417-a7f4-15d053e384d0",
   "metadata": {},
   "outputs": [],
   "source": [
    "keywords = ['home', 'family', 'residen', 'mixed', 'mized', 'duplex', 'apartment', ' housing', 'condo', 'dwelling', 'tenant', 'affordable', 'units', 'townhouse']\n",
    "pattern = '|'.join(keywords)\n",
    "filtered1 = filter_cases_status[filter_cases_status['A_DESCRIPT'].str.contains(pattern, case=False, na=False)]\n",
    "\n",
    "#use not pattern to avoid these words\n",
    "keywords_avoid = ['addition','expand','storage', 'zoning', 'grading']\n",
    "pattern_avoid = '|'.join(keywords_avoid)\n",
    "filtered2 = filtered1[~filtered1['A_DESCRIPT'].str.contains(pattern_avoid, case=False, na=False)]"
   ]
  },
  {
   "cell_type": "code",
   "execution_count": null,
   "id": "f1ada0c3-eb13-4a76-9ca9-e97ee1c04c41",
   "metadata": {},
   "outputs": [],
   "source": [
    "#filter for all status dates after 2020\n",
    "filtered2['A_STATUS_D'] = pd.to_datetime(filtered2['A_STATUS_D'])\n",
    "filtered3 = filtered2[filtered2['A_STATUS_D'].dt.year>=2020]\n",
    "# filtered3"
   ]
  },
  {
   "cell_type": "code",
   "execution_count": null,
   "id": "3a54bc10-dd0f-4357-bf2b-e85979c66571",
   "metadata": {},
   "outputs": [],
   "source": [
    "# function to extract unit quantity from description\n",
    "def extract_units(description):\n",
    "    description = re.sub(pattern=r'(\\d+|\\d{1,3}(,\\d{3})*)(\\s+[A-Za-z-]+){0,2}?\\s*(SF|square feet|sq. ft.|sqft)', \n",
    "                         repl='', string=description, flags=re.IGNORECASE) # remove square footage descriptors\n",
    "\n",
    "    match_pattern = r'(\\d{1,3})(?:\\s+[A-Za-z-]+){0,3}?\\s+(units?|lots?|homes?|houses?|townhomes?|townhouses?|town homes?|town houses?|apartments?|duplex(?:es)?)'\n",
    "    matches = re.findall(match_pattern, description, flags=re.IGNORECASE) # match residence types with their quantity\n",
    "\n",
    "    return matches # returns a list of tuples in format (quantity, residence type)"
   ]
  },
  {
   "cell_type": "code",
   "execution_count": null,
   "id": "3890e253-cbd2-4937-a9c7-44b0886237c1",
   "metadata": {},
   "outputs": [],
   "source": [
    "filtered3['match_results'] = filtered3['A_DESCRIPT'].apply(extract_units)\n",
    "filtered3.head()"
   ]
  }
 ],
 "metadata": {
  "kernelspec": {
   "display_name": "Python [conda env:spatialdata]",
   "language": "python",
   "name": "conda-env-spatialdata-py"
  },
  "language_info": {
   "codemirror_mode": {
    "name": "ipython",
    "version": 3
   },
   "file_extension": ".py",
   "mimetype": "text/x-python",
   "name": "python",
   "nbconvert_exporter": "python",
   "pygments_lexer": "ipython3",
   "version": "3.12.7"
  }
 },
 "nbformat": 4,
 "nbformat_minor": 5
}
