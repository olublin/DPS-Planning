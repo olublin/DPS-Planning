{
 "cells": [
  {
   "cell_type": "code",
   "execution_count": 2,
   "id": "9c4967df-4dc8-48b6-8be8-e0171a947301",
   "metadata": {},
   "outputs": [],
   "source": [
    "import numpy as np\n",
    "import pandas as pd\n",
    "import geopandas as gpd"
   ]
  },
  {
   "cell_type": "code",
   "execution_count": 18,
   "id": "78d9bb09-39ad-4b01-8f86-a0aeafc6cc34",
   "metadata": {},
   "outputs": [],
   "source": [
    "pu_data = gpd.read_file('/Users/leahwallihan/Durham_school_planning/DPS-Planning/GIS_files/pu_with_proj_SPLIT.geojson').set_index('pu_2324_84')"
   ]
  },
  {
   "cell_type": "code",
   "execution_count": 8,
   "id": "4ad52b16-5540-4f5e-aa82-3a3442b435cb",
   "metadata": {},
   "outputs": [],
   "source": [
    "pu_shape = gpd.read_file('/Users/leahwallihan/Durham_school_planning/geospatial files/pu_shape_new.geojson')"
   ]
  },
  {
   "cell_type": "code",
   "execution_count": 22,
   "id": "fd2151cc-7eb4-4c07-b6ac-241e3f3c8a81",
   "metadata": {},
   "outputs": [],
   "source": [
    "pu_data['region'] = ''"
   ]
  },
  {
   "cell_type": "code",
   "execution_count": 32,
   "id": "b7e0305a-6b29-477c-9392-0a1b62385aa9",
   "metadata": {},
   "outputs": [],
   "source": [
    "pu_data.loc[201, 'region'] = 'East'\n",
    "pu_data.loc[849, 'region'] = 'North'\n",
    "pu_data.loc[850, 'region'] = 'North'\n",
    "pu_data.loc[569, 'region'] = 'North'\n",
    "pu_data.loc[774, 'region'] = 'Southwest'\n",
    "pu_data.loc[851, 'region'] = 'Southwest'"
   ]
  },
  {
   "cell_type": "code",
   "execution_count": 44,
   "id": "ff8ffb5a-9556-4363-bc8e-4d9ac109d83f",
   "metadata": {},
   "outputs": [],
   "source": [
    "for i, row in pu_shape.iterrows():\n",
    "    if i not in [201, 849, 850, 569, 774, 851]:\n",
    "        pu_data.loc[i+1, 'region'] = row['Region']"
   ]
  },
  {
   "cell_type": "code",
   "execution_count": 64,
   "id": "ec7ec4b6-fb24-47d9-8b0f-3e8367710665",
   "metadata": {},
   "outputs": [],
   "source": [
    "pu_data.loc[775, 'region'] = 'North'\n",
    "pu_data.loc[202, 'region'] = 'North'\n",
    "pu_data.loc[570, 'region'] = 'North'\n",
    "pu_data.loc[771, 'region'] = 'Southwest'"
   ]
  },
  {
   "cell_type": "code",
   "execution_count": 60,
   "id": "7913ff64-0e46-4f86-9325-1798162223d5",
   "metadata": {},
   "outputs": [
    {
     "data": {
      "text/html": [
       "<div>\n",
       "<style scoped>\n",
       "    .dataframe tbody tr th:only-of-type {\n",
       "        vertical-align: middle;\n",
       "    }\n",
       "\n",
       "    .dataframe tbody tr th {\n",
       "        vertical-align: top;\n",
       "    }\n",
       "\n",
       "    .dataframe thead th {\n",
       "        text-align: right;\n",
       "    }\n",
       "</style>\n",
       "<table border=\"1\" class=\"dataframe\">\n",
       "  <thead>\n",
       "    <tr style=\"text-align: right;\">\n",
       "      <th></th>\n",
       "      <th>OBJECTID</th>\n",
       "      <th>pu_2324_848</th>\n",
       "      <th>X</th>\n",
       "      <th>Y</th>\n",
       "      <th>M_min</th>\n",
       "      <th>PS_ID</th>\n",
       "      <th>PUID2122_2</th>\n",
       "      <th>ps_id_833</th>\n",
       "      <th>psid_982</th>\n",
       "      <th>TIMS_PU</th>\n",
       "      <th>Region</th>\n",
       "      <th>Shape_Length</th>\n",
       "      <th>Shape_Area</th>\n",
       "      <th>geometry</th>\n",
       "    </tr>\n",
       "  </thead>\n",
       "  <tbody>\n",
       "    <tr>\n",
       "      <th>774</th>\n",
       "      <td>775</td>\n",
       "      <td>775</td>\n",
       "      <td>2.053786e+06</td>\n",
       "      <td>871143.21968</td>\n",
       "      <td>0.0</td>\n",
       "      <td>581.0</td>\n",
       "      <td>581</td>\n",
       "      <td>244.0</td>\n",
       "      <td>244.0</td>\n",
       "      <td>PU581</td>\n",
       "      <td>North</td>\n",
       "      <td>34652.309285</td>\n",
       "      <td>6.249360e+07</td>\n",
       "      <td>MULTIPOLYGON (((-78.80355 36.15436, -78.80356 ...</td>\n",
       "    </tr>\n",
       "  </tbody>\n",
       "</table>\n",
       "</div>"
      ],
      "text/plain": [
       "     OBJECTID  pu_2324_848             X             Y  M_min  PS_ID  \\\n",
       "774       775          775  2.053786e+06  871143.21968    0.0  581.0   \n",
       "\n",
       "    PUID2122_2  ps_id_833  psid_982 TIMS_PU Region  Shape_Length  \\\n",
       "774        581      244.0     244.0   PU581  North  34652.309285   \n",
       "\n",
       "       Shape_Area                                           geometry  \n",
       "774  6.249360e+07  MULTIPOLYGON (((-78.80355 36.15436, -78.80356 ...  "
      ]
     },
     "execution_count": 60,
     "metadata": {},
     "output_type": "execute_result"
    }
   ],
   "source": [
    "pu_data.to_file('pu_SPLIT_region.geojson', driver='GeoJSON')"
   ]
  },
  {
   "cell_type": "code",
   "execution_count": null,
   "id": "7a85a0a0-68ab-43be-9158-3b07aec9fece",
   "metadata": {},
   "outputs": [],
   "source": []
  }
 ],
 "metadata": {
  "kernelspec": {
   "display_name": "Python [conda env:spatialdata]",
   "language": "python",
   "name": "conda-env-spatialdata-py"
  },
  "language_info": {
   "codemirror_mode": {
    "name": "ipython",
    "version": 3
   },
   "file_extension": ".py",
   "mimetype": "text/x-python",
   "name": "python",
   "nbconvert_exporter": "python",
   "pygments_lexer": "ipython3",
   "version": "3.12.7"
  }
 },
 "nbformat": 4,
 "nbformat_minor": 5
}
