{
 "cells": [
  {
   "cell_type": "code",
   "execution_count": 2,
   "id": "2da79fdf-9158-4a6b-9267-c58a1f9eb455",
   "metadata": {},
   "outputs": [],
   "source": [
    "import numpy as np\n",
    "import pandas as pd\n",
    "import geopandas as gpd\n",
    "import re"
   ]
  },
  {
   "cell_type": "code",
   "execution_count": 3,
   "id": "cce1b3b3-68ee-47f2-b856-a5ca9f7d3713",
   "metadata": {},
   "outputs": [],
   "source": [
    "shape_file = gpd.read_file('/Users/leahwallihan/Durham_school_planning/pu_shape.geojson')\n",
    "enrollment_data = pd.read_csv('/Users/leahwallihan/Durham_school_planning/pu_enrollmentdata.csv')"
   ]
  },
  {
   "cell_type": "code",
   "execution_count": 8,
   "id": "88ae8b02-b300-41ca-8c94-93a6645b52e3",
   "metadata": {},
   "outputs": [],
   "source": [
    "enrollment_year = enrollment_data.set_index('fall_year')\n",
    "enrollment_2425 = enrollment_year.loc[2024].fillna(0)\n",
    "enrollment_2425['pu_2324_848'] = enrollment_2425['pu_2324_848'].astype(int)"
   ]
  },
  {
   "cell_type": "code",
   "execution_count": 10,
   "id": "50ec984d-0ea5-4b1c-af48-dab2ef0d8be6",
   "metadata": {},
   "outputs": [],
   "source": [
    "enrollmentdata_shape = shape_file.merge(enrollment_2425, on='pu_2324_848', how='outer')\n",
    "enrollmentdata_shape['total_ct'] = enrollmentdata_shape['total_ct'].fillna(0)"
   ]
  },
  {
   "cell_type": "code",
   "execution_count": 50,
   "id": "bf38cd1f-123e-4d1e-9afb-faeec3f7640e",
   "metadata": {},
   "outputs": [],
   "source": [
    "enrollmentdata_shape['pct_charter'] = enrollmentdata_shape['pct_charter'].fillna(0)\n",
    "enrollmentdata_shape['pct_dps'] = enrollmentdata_shape['pct_dps'].fillna(0)"
   ]
  },
  {
   "cell_type": "code",
   "execution_count": 52,
   "id": "71cddff7-278b-4206-8d56-8b70c55372be",
   "metadata": {},
   "outputs": [],
   "source": [
    "enrollmentdata_shape.to_file('enrollment_count.geojson', driver='GeoJSON')"
   ]
  },
  {
   "cell_type": "code",
   "execution_count": null,
   "id": "43db8035-26fd-4a3e-80e4-638f6a6d43d2",
   "metadata": {},
   "outputs": [],
   "source": []
  }
 ],
 "metadata": {
  "kernelspec": {
   "display_name": "Python [conda env:spatialdata]",
   "language": "python",
   "name": "conda-env-spatialdata-py"
  },
  "language_info": {
   "codemirror_mode": {
    "name": "ipython",
    "version": 3
   },
   "file_extension": ".py",
   "mimetype": "text/x-python",
   "name": "python",
   "nbconvert_exporter": "python",
   "pygments_lexer": "ipython3",
   "version": "3.12.7"
  }
 },
 "nbformat": 4,
 "nbformat_minor": 5
}
