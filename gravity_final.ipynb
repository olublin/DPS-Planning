{
 "cells": [
  {
   "cell_type": "code",
   "execution_count": 1,
   "id": "43e9782a-d19e-4725-80e2-5b2c744ffca1",
   "metadata": {},
   "outputs": [],
   "source": [
    "#import packages\n",
    "import pandas as pd\n",
    "import geopandas as gpd\n",
    "import numpy as np\n",
    "import matplotlib.pyplot as plt\n",
    "import time"
   ]
  },
  {
   "cell_type": "code",
   "execution_count": 2,
   "id": "0069c24c-fc40-49ec-b434-111fd6068ce3",
   "metadata": {},
   "outputs": [
    {
     "data": {
      "text/html": [
       "<div>\n",
       "<style scoped>\n",
       "    .dataframe tbody tr th:only-of-type {\n",
       "        vertical-align: middle;\n",
       "    }\n",
       "\n",
       "    .dataframe tbody tr th {\n",
       "        vertical-align: top;\n",
       "    }\n",
       "\n",
       "    .dataframe thead th {\n",
       "        text-align: right;\n",
       "    }\n",
       "</style>\n",
       "<table border=\"1\" class=\"dataframe\">\n",
       "  <thead>\n",
       "    <tr style=\"text-align: right;\">\n",
       "      <th></th>\n",
       "      <th>pu_2324_84</th>\n",
       "      <th>X</th>\n",
       "      <th>Y</th>\n",
       "      <th>Region</th>\n",
       "      <th>Shape_Area</th>\n",
       "      <th>count</th>\n",
       "      <th>basez</th>\n",
       "      <th>student_gen</th>\n",
       "      <th>geometry</th>\n",
       "    </tr>\n",
       "  </thead>\n",
       "  <tbody>\n",
       "    <tr>\n",
       "      <th>0</th>\n",
       "      <td>1</td>\n",
       "      <td>2.049028e+06</td>\n",
       "      <td>893128.606346</td>\n",
       "      <td>North</td>\n",
       "      <td>3.556198e+07</td>\n",
       "      <td>6.0</td>\n",
       "      <td>6.0</td>\n",
       "      <td>0</td>\n",
       "      <td>POLYGON ((-8.77e+06 4.33e+06, -8.77e+06 4.33e+...</td>\n",
       "    </tr>\n",
       "    <tr>\n",
       "      <th>1</th>\n",
       "      <td>2</td>\n",
       "      <td>2.039923e+06</td>\n",
       "      <td>835434.121317</td>\n",
       "      <td>North</td>\n",
       "      <td>2.080136e+07</td>\n",
       "      <td>18.0</td>\n",
       "      <td>8.0</td>\n",
       "      <td>0</td>\n",
       "      <td>POLYGON ((-8.78e+06 4.31e+06, -8.78e+06 4.31e+...</td>\n",
       "    </tr>\n",
       "  </tbody>\n",
       "</table>\n",
       "</div>"
      ],
      "text/plain": [
       "   pu_2324_84             X              Y Region    Shape_Area  count  basez  \\\n",
       "0           1  2.049028e+06  893128.606346  North  3.556198e+07    6.0    6.0   \n",
       "1           2  2.039923e+06  835434.121317  North  2.080136e+07   18.0    8.0   \n",
       "\n",
       "   student_gen                                           geometry  \n",
       "0            0  POLYGON ((-8.77e+06 4.33e+06, -8.77e+06 4.33e+...  \n",
       "1            0  POLYGON ((-8.78e+06 4.31e+06, -8.78e+06 4.31e+...  "
      ]
     },
     "execution_count": 2,
     "metadata": {},
     "output_type": "execute_result"
    }
   ],
   "source": [
    "hs_full_geo = gpd.read_file(r'C:\\\\Users\\\\olubl\\\\OneDrive\\\\College\\\\Data+\\\\DPS-Planning\\\\GIS_files\\\\hs_full_geo.geojson').to_crs(epsg=3857)\n",
    "hs_full_geo.head(2)"
   ]
  },
  {
   "cell_type": "code",
   "execution_count": 3,
   "id": "5c007d34-6633-4a9c-b3cd-fee98b8ffa5f",
   "metadata": {},
   "outputs": [],
   "source": [
    "dps_base = gpd.read_file(r'C:\\\\Users\\\\olubl\\\\OneDrive\\\\College\\\\Data+\\\\DPS-Planning\\\\dps_base_2324.geojson')\n",
    "dps_base = dps_base.to_crs(epsg = 3857)\n",
    "base_hs = {'Jordan High School','Riverside High School','Northern High School','Hillside High School','Southern High School'}\n",
    "dps_base_hs = dps_base[dps_base['name'].isin(base_hs)]\n",
    "dps_base_hs = dps_base_hs[['name','geometry']]\n",
    "dps_base_hs.loc[5,'name']='New High School'\n",
    "dps_base_hs = dps_base_hs.reset_index()"
   ]
  },
  {
   "cell_type": "code",
   "execution_count": 4,
   "id": "9824a50e-6e49-4ddc-a016-01238abe2475",
   "metadata": {},
   "outputs": [
    {
     "data": {
      "text/html": [
       "<div>\n",
       "<style scoped>\n",
       "    .dataframe tbody tr th:only-of-type {\n",
       "        vertical-align: middle;\n",
       "    }\n",
       "\n",
       "    .dataframe tbody tr th {\n",
       "        vertical-align: top;\n",
       "    }\n",
       "\n",
       "    .dataframe thead th {\n",
       "        text-align: right;\n",
       "    }\n",
       "</style>\n",
       "<table border=\"1\" class=\"dataframe\">\n",
       "  <thead>\n",
       "    <tr style=\"text-align: right;\">\n",
       "      <th></th>\n",
       "      <th>OBJECTID</th>\n",
       "      <th>pu_2324_84</th>\n",
       "      <th>X</th>\n",
       "      <th>Y</th>\n",
       "      <th>M_min</th>\n",
       "      <th>PS_ID</th>\n",
       "      <th>PUID2122_2</th>\n",
       "      <th>ps_id_833</th>\n",
       "      <th>psid_982</th>\n",
       "      <th>TIMS_PU</th>\n",
       "      <th>Region</th>\n",
       "      <th>Shape_Length</th>\n",
       "      <th>Shape_Area</th>\n",
       "      <th>geometry</th>\n",
       "    </tr>\n",
       "  </thead>\n",
       "  <tbody>\n",
       "    <tr>\n",
       "      <th>0</th>\n",
       "      <td>1</td>\n",
       "      <td>1</td>\n",
       "      <td>2.049028e+06</td>\n",
       "      <td>893128.606346</td>\n",
       "      <td>0.0</td>\n",
       "      <td>589</td>\n",
       "      <td>589</td>\n",
       "      <td>1</td>\n",
       "      <td>1</td>\n",
       "      <td>PU589</td>\n",
       "      <td>North</td>\n",
       "      <td>26532.120021</td>\n",
       "      <td>3.556198e+07</td>\n",
       "      <td>POLYGON ((-8.77e+06 4.33e+06, -8.77e+06 4.33e+...</td>\n",
       "    </tr>\n",
       "    <tr>\n",
       "      <th>1</th>\n",
       "      <td>2</td>\n",
       "      <td>2</td>\n",
       "      <td>2.039923e+06</td>\n",
       "      <td>835434.121317</td>\n",
       "      <td>0.0</td>\n",
       "      <td>401</td>\n",
       "      <td>401</td>\n",
       "      <td>2</td>\n",
       "      <td>2</td>\n",
       "      <td>PU401</td>\n",
       "      <td>North</td>\n",
       "      <td>19333.085511</td>\n",
       "      <td>2.080136e+07</td>\n",
       "      <td>POLYGON ((-8.78e+06 4.31e+06, -8.78e+06 4.31e+...</td>\n",
       "    </tr>\n",
       "  </tbody>\n",
       "</table>\n",
       "</div>"
      ],
      "text/plain": [
       "   OBJECTID  pu_2324_84             X              Y  M_min  PS_ID PUID2122_2  \\\n",
       "0         1           1  2.049028e+06  893128.606346    0.0    589        589   \n",
       "1         2           2  2.039923e+06  835434.121317    0.0    401        401   \n",
       "\n",
       "   ps_id_833  psid_982 TIMS_PU Region  Shape_Length    Shape_Area  \\\n",
       "0          1         1   PU589  North  26532.120021  3.556198e+07   \n",
       "1          2         2   PU401  North  19333.085511  2.080136e+07   \n",
       "\n",
       "                                            geometry  \n",
       "0  POLYGON ((-8.77e+06 4.33e+06, -8.77e+06 4.33e+...  \n",
       "1  POLYGON ((-8.78e+06 4.31e+06, -8.78e+06 4.31e+...  "
      ]
     },
     "execution_count": 4,
     "metadata": {},
     "output_type": "execute_result"
    }
   ],
   "source": [
    "dps_pu = gpd.read_file(r'C:\\\\Users\\\\olubl\\\\OneDrive\\\\College\\\\Data+\\\\DPS-Planning\\\\GIS_Files\\\\pu_2324_SPLIT.geojson').rename(columns={'pu_2324_848':'pu_2324_84'})\n",
    "dps_pu = dps_pu.to_crs(epsg = 3857).sort_values(by='pu_2324_84')\n",
    "dps_pu.head(2)"
   ]
  },
  {
   "cell_type": "code",
   "execution_count": 5,
   "id": "1a5f986a-19a9-49f6-a906-bbe38c7a9638",
   "metadata": {},
   "outputs": [],
   "source": [
    "school_names = ['Southern High School','Hillside High School','Northern High School','Riverside High School','Jordan High School','New High School']\n",
    "capacities = [1340,1335,1400,1240,1510,1550]"
   ]
  },
  {
   "cell_type": "code",
   "execution_count": 6,
   "id": "2e09f846-8139-48e7-98aa-6299a4acf11c",
   "metadata": {},
   "outputs": [],
   "source": [
    "local_hs_full_geo = hs_full_geo.copy()\n",
    "local_dps_base_hs = dps_base_hs.copy()"
   ]
  },
  {
   "cell_type": "code",
   "execution_count": 23,
   "id": "8a842b99-b4b2-4822-bf3d-2acf0d3a5cac",
   "metadata": {},
   "outputs": [],
   "source": [
    "def score_candidate(candidate,sgr,lower_bound,upper_bound):\n",
    "    i=0\n",
    "    counts = pd.DataFrame({'school':school_names,\n",
    "                           'capacity':capacities,\n",
    "                           'count':[0,0,0,0,0,0],\n",
    "                           'adjust':[0,0,0,0,0,0]\n",
    "                            })                              \n",
    "\n",
    "    \n",
    "    candidate_geom = candidate['geometry']\n",
    "    local_dps_base_hs.loc[5,'geometry']=candidate_geom.centroid\n",
    "    counts['pct_capacity'] = counts['count']/counts['capacity']\n",
    "    \n",
    "    \n",
    "    while ((counts['pct_capacity']<lower_bound/100)|(counts['pct_capacity']>upper_bound/100)).any() and i<=99:                                    \n",
    "        assignments = []\n",
    "        for pu in local_hs_full_geo.itertuples(index=False):                   \n",
    "            centroid = pu.geometry.centroid\n",
    "            pu_scores = []\n",
    "            for j in range(6):    \n",
    "                dist = centroid.distance(local_dps_base_hs.loc[j,'geometry'])\n",
    "                score = dist + counts.loc[j,'adjust']\n",
    "                pu_scores.append(score)\n",
    "            assign = school_names[pu_scores.index(min(pu_scores))]\n",
    "            assignments.append(assign)\n",
    "        local_hs_full_geo['assign'] = assignments\n",
    "    \n",
    "        for j,school in enumerate(school_names):\n",
    "            assigned_students = int(local_hs_full_geo.loc[local_hs_full_geo['assign'] == school, 'basez'].sum() + local_hs_full_geo.loc[local_hs_full_geo['assign'] == school, 'student_gen'].sum()*sgr/100)\n",
    "            counts.loc[j, 'count'] = assigned_students  \n",
    "                \n",
    "            if counts.loc[j,'count'] <= counts.loc[j,'capacity']*lower_bound/100:\n",
    "                counts.loc[j,'adjust'] -= 200\n",
    "            elif counts.loc[j,'count'] >= counts.loc[j,'capacity']*upper_bound/100:\n",
    "                counts.loc[j,'adjust'] += 200\n",
    "            else:\n",
    "                pass\n",
    "        counts['pct_capacity'] = counts['count']/counts['capacity']\n",
    "        i+=1\n",
    "\n",
    "    if i<=100:\n",
    "        objective=local_hs_full_geo.merge(local_dps_base_hs,left_on='assign',right_on='name',how='left')\n",
    "        objective['distance']=objective['geometry_x'].distance(objective['geometry_y'])\n",
    "        objective_score = ((objective['basez']+sgr*objective['student_gen']/100)*objective['distance']).sum()/(10**7)\n",
    "\n",
    "    else:\n",
    "        objective_score = 10\n",
    "\n",
    "    return objective_score"
   ]
  },
  {
   "cell_type": "code",
   "execution_count": 34,
   "id": "5a9ad010-b202-435b-a389-00bebe509168",
   "metadata": {},
   "outputs": [
    {
     "name": "stderr",
     "output_type": "stream",
     "text": [
      "C:\\Users\\olubl\\anaconda3\\envs\\spatialdata\\Lib\\site-packages\\geopandas\\geodataframe.py:1819: SettingWithCopyWarning: \n",
      "A value is trying to be set on a copy of a slice from a DataFrame.\n",
      "Try using .loc[row_indexer,col_indexer] = value instead\n",
      "\n",
      "See the caveats in the documentation: https://pandas.pydata.org/pandas-docs/stable/user_guide/indexing.html#returning-a-view-versus-a-copy\n",
      "  super().__setitem__(key, value)\n"
     ]
    }
   ],
   "source": [
    "dps_pu['score'] = dps_pu.apply(lambda row:score_candidate(row,12,70,100),axis=1)"
   ]
  }
 ],
 "metadata": {
  "kernelspec": {
   "display_name": "Python [conda env:spatialdata]",
   "language": "python",
   "name": "conda-env-spatialdata-py"
  },
  "language_info": {
   "codemirror_mode": {
    "name": "ipython",
    "version": 3
   },
   "file_extension": ".py",
   "mimetype": "text/x-python",
   "name": "python",
   "nbconvert_exporter": "python",
   "pygments_lexer": "ipython3",
   "version": "3.12.7"
  }
 },
 "nbformat": 4,
 "nbformat_minor": 5
}
