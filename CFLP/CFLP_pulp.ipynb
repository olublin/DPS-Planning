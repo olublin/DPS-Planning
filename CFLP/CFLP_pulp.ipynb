{
 "cells": [
  {
   "cell_type": "code",
   "execution_count": 2,
   "id": "1a55684a-013c-4574-a415-82e73f71d063",
   "metadata": {},
   "outputs": [
    {
     "name": "stdout",
     "output_type": "stream",
     "text": [
      "Collecting pulp\n",
      "  Downloading pulp-3.2.1-py3-none-any.whl.metadata (6.9 kB)\n",
      "Downloading pulp-3.2.1-py3-none-any.whl (16.4 MB)\n",
      "\u001b[2K   \u001b[90m━━━━━━━━━━━━━━━━━━━━━━━━━━━━━━━━━━━━━━━━\u001b[0m \u001b[32m16.4/16.4 MB\u001b[0m \u001b[31m25.7 MB/s\u001b[0m eta \u001b[36m0:00:00\u001b[0ma \u001b[36m0:00:01\u001b[0m\n",
      "Installing collected packages: pulp\n",
      "Successfully installed pulp-3.2.1\n",
      "Note: you may need to restart the kernel to use updated packages.\n"
     ]
    }
   ],
   "source": [
    "pip install pulp"
   ]
  },
  {
   "cell_type": "code",
   "execution_count": 4,
   "id": "cc23520f-5706-45b8-98dd-a4a2f4bd1eda",
   "metadata": {},
   "outputs": [],
   "source": [
    "from pulp import LpProblem, LpMinimize, LpVariable, lpSum, LpBinary, LpContinuous, PULP_CBC_CMD\n",
    "import numpy as np\n",
    "import pandas as pd\n",
    "import geopandas as gpd\n",
    "import json\n",
    "from geopy.distance import geodesic\n",
    "import sys"
   ]
  },
  {
   "cell_type": "code",
   "execution_count": 10,
   "id": "7551fe81-bad7-4e00-9221-a9cefa0ff88d",
   "metadata": {},
   "outputs": [],
   "source": [
    "# Load data\n",
    "pu = gpd.read_file('/Users/leahwallihan/Durham_school_planning/DPS-Planning/CFLP/CFLP_infiles/hs_full_geo.geojson').set_index('pu_2324_84')\n",
    "pu = pu.to_crs('EPSG:4326')\n",
    "\n",
    "# Adjust demand for half SGR\n",
    "pu['basez+gen'] = pu['basez'] + 0.15 * pu['student_gen']\n",
    "d = pu['basez+gen'].to_dict()\n",
    "I = list(d.keys())"
   ]
  },
  {
   "cell_type": "code",
   "execution_count": 18,
   "id": "270d4b4b-effb-4540-ac40-b02c4df7f856",
   "metadata": {},
   "outputs": [],
   "source": [
    "# Load schools and determine existing sites\n",
    "schools = gpd.read_file('/Users/leahwallihan/Durham_school_planning/DPS-Planning/CFLP/CFLP_infiles/dps_hs_locations.geojson').to_crs('EPSG:4326')\n",
    "schools['pu'] = None\n",
    "for i, geometry in enumerate(pu['geometry']):\n",
    "    in_geometry = geometry.contains(schools['geometry'])\n",
    "    pu_id = pu.index[i]\n",
    "    schools.loc[in_geometry, 'pu'] = pu_id\n",
    "\n",
    "not_central = pu[pu['Region'] != 'Central']\n",
    "J = list(not_central.index)\n",
    "M = {idx: 1550 for idx in J}\n",
    "M.update({45: 1400, 507: 1510, 602: 1340, 566: 1240, 290: 1335})\n",
    "existing_sites = {602, 290, 45, 566, 507}"
   ]
  },
  {
   "cell_type": "code",
   "execution_count": 30,
   "id": "b2f81eaa-1175-40c2-97a2-8f72b210de28",
   "metadata": {},
   "outputs": [
    {
     "name": "stderr",
     "output_type": "stream",
     "text": [
      "/var/folders/ml/wj07z83j0yq4rjs8n_7sv0mw0000gn/T/ipykernel_89674/3756431071.py:2: UserWarning: Geometry is in a geographic CRS. Results from 'centroid' are likely incorrect. Use 'GeoSeries.to_crs()' to re-project geometries to a projected CRS before this operation.\n",
      "\n",
      "  centroids = pu.geometry.centroid\n"
     ]
    }
   ],
   "source": [
    "# Build distance matrix\n",
    "centroids = pu.geometry.centroid\n",
    "coords = {idx: (geom.y, geom.x) for idx, geom in centroids.items()}\n",
    "c = {(i, j): geodesic(coords[i], coords[j]).miles for i in I for j in J}"
   ]
  },
  {
   "cell_type": "code",
   "execution_count": 32,
   "id": "014e716f-62ca-4e9c-bb0b-d0a761b692d8",
   "metadata": {},
   "outputs": [],
   "source": [
    "# Model\n",
    "model = LpProblem(\"CFLP\", LpMinimize)\n",
    "x = {(i, j): LpVariable(f\"x_{i}_{j}\", lowBound=0, cat=LpContinuous) for i in I for j in J}\n",
    "y = {j: LpVariable(f\"y_{j}\", cat=LpBinary) for j in J}\n",
    "BIG_M = sum(d.values())\n",
    "\n",
    "# Objective\n",
    "model += lpSum(c[i, j] * x[i, j] for i in I for j in J)\n",
    "\n",
    "# Constraints\n",
    "for i in I:\n",
    "    model += lpSum(x[i, j] for j in J) == d[i]\n",
    "\n",
    "for j in J:\n",
    "    model += lpSum(x[i, j] for i in I) <= 1.05 * M[j] * y[j]\n",
    "    model += lpSum(x[i, j] for i in I) >= 0.7 * M[j] * y[j]\n",
    "\n",
    "for i in I:\n",
    "    for j in J:\n",
    "        model += x[i, j] <= BIG_M * y[j]\n",
    "\n",
    "for j in existing_sites:\n",
    "    model += y[j] == 1\n",
    "\n",
    "model += lpSum(y[j] for j in J) <= 6"
   ]
  },
  {
   "cell_type": "code",
   "execution_count": 34,
   "id": "a3cae85e-6f39-4c55-becb-2cc5a25f1cff",
   "metadata": {},
   "outputs": [
    {
     "name": "stdout",
     "output_type": "stream",
     "text": [
      "Welcome to the CBC MILP Solver \n",
      "Version: 2.10.3 \n",
      "Build Date: Dec 15 2019 \n",
      "\n",
      "command line - /opt/anaconda3/envs/spatialdata/lib/python3.12/site-packages/pulp/apis/../solverdir/cbc/osx/i64/cbc /var/folders/ml/wj07z83j0yq4rjs8n_7sv0mw0000gn/T/61c9e5264099435ca671762930de0db7-pulp.mps -timeMode elapsed -branch -printingOptions all -solution /var/folders/ml/wj07z83j0yq4rjs8n_7sv0mw0000gn/T/61c9e5264099435ca671762930de0db7-pulp.sol (default strategy 1)\n",
      "At line 2 NAME          MODEL\n",
      "At line 3 ROWS\n",
      "At line 629523 COLUMNS\n",
      "At line 4395599 RHS\n",
      "At line 5025118 BOUNDS\n",
      "At line 5025856 ENDATA\n",
      "Problem MODEL has 629518 rows, 627924 columns and 3138151 elements\n",
      "Coin0008I MODEL read with 0 errors\n",
      "Option for timeMode changed from cpu to elapsed\n",
      "Continuous objective value is 11835.3 - 3.01 seconds\n",
      "Cgl0004I processed model has 507240 rows, 509262 columns (732 integer (732 of which binary)) and 2534496 elements\n",
      "Cbc0038I Initial state - 2 integers unsatisfied sum - 4.05835e-06\n",
      "Cbc0038I Pass   1: (51138.77 seconds) suminf.    0.00000 (0) obj. 16764.9 iterations 96925\n",
      "Cbc0038I Pass   2: (51330.88 seconds) suminf.    0.00000 (0) obj. 16764.9 iterations 41876\n",
      "Cbc0038I Solution found of 16764.9\n",
      "Cbc0038I Relaxing continuous gives 16764.9\n",
      "Cbc0038I Before mini branch and bound, 725 integers at bound fixed and 494742 continuous\n",
      "Cbc0038I Mini branch and bound did not improve solution (52293.14 seconds)\n",
      "Cbc0038I After 53079.72 seconds - Feasibility pump exiting with objective of 16764.9 - took 2719.96 seconds\n",
      "Cbc0012I Integer solution of 16764.9 found by feasibility pump after 0 iterations and 0 nodes (53095.04 seconds)\n",
      "Cbc0038I Full problem 507240 rows 509262 columns, reduced to 2080 rows 4832 columns\n",
      "Cbc0013I At root node, 0 cuts changed objective from 16764.9 to 16764.9 in 1 passes\n",
      "Cbc0014I Cut generator 0 (Probing) - 0 row cuts average 0.0 elements, 0 column cuts (0 active)  in 0.141 seconds - new frequency is -100\n",
      "Cbc0014I Cut generator 1 (Gomory) - 0 row cuts average 0.0 elements, 0 column cuts (0 active)  in 0.099 seconds - new frequency is -100\n",
      "Cbc0014I Cut generator 2 (Knapsack) - 0 row cuts average 0.0 elements, 0 column cuts (0 active)  in 0.141 seconds - new frequency is -100\n",
      "Cbc0014I Cut generator 3 (Clique) - 0 row cuts average 0.0 elements, 0 column cuts (0 active)  in 0.002 seconds - new frequency is -100\n",
      "Cbc0014I Cut generator 4 (MixedIntegerRounding2) - 0 row cuts average 0.0 elements, 0 column cuts (0 active)  in 0.088 seconds - new frequency is -100\n",
      "Cbc0014I Cut generator 5 (FlowCover) - 0 row cuts average 0.0 elements, 0 column cuts (0 active)  in 0.019 seconds - new frequency is -100\n",
      "Cbc0010I After 0 nodes, 1 on tree, 16764.9 best solution, best possible 16764.9 (53277.21 seconds)\n",
      "Cbc0001I Search completed - best objective 16764.90034897912, took 2914 iterations and 2 nodes (53315.28 seconds)\n",
      "Cbc0032I Strong branching done 6 times (600 iterations), fathomed 0 nodes and fixed 0 variables\n",
      "Cbc0035I Maximum depth 0, 2 variables fixed on reduced cost\n",
      "Cuts at root node changed objective from 16764.9 to 16764.9\n",
      "Probing was tried 1 times and created 0 cuts of which 0 were active after adding rounds of cuts (0.141 seconds)\n",
      "Gomory was tried 1 times and created 0 cuts of which 0 were active after adding rounds of cuts (0.099 seconds)\n",
      "Knapsack was tried 1 times and created 0 cuts of which 0 were active after adding rounds of cuts (0.141 seconds)\n",
      "Clique was tried 1 times and created 0 cuts of which 0 were active after adding rounds of cuts (0.002 seconds)\n",
      "MixedIntegerRounding2 was tried 1 times and created 0 cuts of which 0 were active after adding rounds of cuts (0.088 seconds)\n",
      "FlowCover was tried 1 times and created 0 cuts of which 0 were active after adding rounds of cuts (0.019 seconds)\n",
      "TwoMirCuts was tried 1 times and created 0 cuts of which 0 were active after adding rounds of cuts (0.167 seconds)\n",
      "ZeroHalf was tried 1 times and created 0 cuts of which 0 were active after adding rounds of cuts (0.009 seconds)\n",
      "\n",
      "Result - Optimal solution found\n",
      "\n",
      "Objective value:                16764.90034898\n",
      "Enumerated nodes:               2\n",
      "Total iterations:               2914\n",
      "Time (CPU seconds):             21827.82\n",
      "Time (Wallclock seconds):       55604.13\n",
      "\n",
      "Option for printingOptions changed from normal to all\n",
      "Total time (CPU seconds):       21829.24   (Wallclock seconds):       55605.77\n",
      "\n"
     ]
    },
    {
     "data": {
      "text/plain": [
       "1"
      ]
     },
     "execution_count": 34,
     "metadata": {},
     "output_type": "execute_result"
    }
   ],
   "source": [
    "# Solve\n",
    "solver = PULP_CBC_CMD(msg=1)\n",
    "model.solve(solver)"
   ]
  },
  {
   "cell_type": "code",
   "execution_count": null,
   "id": "464badb8-8340-4ea4-adf5-f06c48544b2c",
   "metadata": {},
   "outputs": [],
   "source": [
    "# Collect solution\n",
    "assignments = {j: [] for j in J if y[j].varValue > 0.5}\n",
    "for (i, j), var in x.items():\n",
    "    if var.varValue > 1e-3:\n",
    "        if y[j].varValue < 0.5:\n",
    "            print(f\"WARNING: PU {i} assigned to CLOSED facility {j}\")\n",
    "        assignments[j].append(i)"
   ]
  },
  {
   "cell_type": "code",
   "execution_count": null,
   "id": "37542d69-7eed-4313-8641-0731d9372a65",
   "metadata": {},
   "outputs": [],
   "source": [
    "# Student counts\n",
    "student_counts = {\n",
    "    j: sum(pu.loc[i, 'basez'] for i in pus)\n",
    "    for j, pus in assignments.items()\n",
    "}"
   ]
  },
  {
   "cell_type": "code",
   "execution_count": null,
   "id": "a8dc6082-e5ba-4ec7-80e2-dde311b9e064",
   "metadata": {},
   "outputs": [],
   "source": [
    "# Output\n",
    "solution = {\n",
    "    \"objective_value\": model.objective.value(),\n",
    "    \"facilities\": list(assignments.keys()),\n",
    "    \"assignments\": assignments,\n",
    "    \"student_count\": student_counts\n",
    "}"
   ]
  },
  {
   "cell_type": "code",
   "execution_count": null,
   "id": "524dc39e-5266-48df-a74c-289fa8fadaa4",
   "metadata": {},
   "outputs": [],
   "source": [
    "# Export assignment map\n",
    "pu_new = pu.copy()\n",
    "pu_to_fac = {i: j for j, pus in assignments.items() for i in pus}\n",
    "pu_new[\"assignment\"] = pu.index.map(pu_to_fac)\n",
    "pu_new.to_file(\"CFLP_hs_halfSGR_v2_pulp.geojson\", driver=\"GeoJSON\")"
   ]
  }
 ],
 "metadata": {
  "kernelspec": {
   "display_name": "Python [conda env:spatialdata]",
   "language": "python",
   "name": "conda-env-spatialdata-py"
  },
  "language_info": {
   "codemirror_mode": {
    "name": "ipython",
    "version": 3
   },
   "file_extension": ".py",
   "mimetype": "text/x-python",
   "name": "python",
   "nbconvert_exporter": "python",
   "pygments_lexer": "ipython3",
   "version": "3.12.7"
  }
 },
 "nbformat": 4,
 "nbformat_minor": 5
}
