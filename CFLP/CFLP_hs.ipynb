{
 "cells": [
  {
   "cell_type": "code",
   "execution_count": 2,
   "id": "1a20c85b-3f50-4476-a50e-0751a35dafe4",
   "metadata": {},
   "outputs": [
    {
     "name": "stdout",
     "output_type": "stream",
     "text": [
      "Requirement already satisfied: pyscipopt in /opt/anaconda3/envs/spatialdata/lib/python3.12/site-packages (5.5.0)\n",
      "Requirement already satisfied: numpy>=1.16.0 in /opt/anaconda3/envs/spatialdata/lib/python3.12/site-packages (from pyscipopt) (1.26.4)\n",
      "Note: you may need to restart the kernel to use updated packages.\n"
     ]
    }
   ],
   "source": [
    "pip install pyscipopt"
   ]
  },
  {
   "cell_type": "code",
   "execution_count": 3,
   "id": "58333baf-89fe-4e7c-ba16-a302ffad8c80",
   "metadata": {},
   "outputs": [
    {
     "name": "stdout",
     "output_type": "stream",
     "text": [
      "Requirement already satisfied: geopy in /opt/anaconda3/envs/spatialdata/lib/python3.12/site-packages (2.4.1)\n",
      "Requirement already satisfied: geographiclib<3,>=1.52 in /opt/anaconda3/envs/spatialdata/lib/python3.12/site-packages (from geopy) (2.0)\n",
      "Note: you may need to restart the kernel to use updated packages.\n"
     ]
    }
   ],
   "source": [
    "pip install geopy"
   ]
  },
  {
   "cell_type": "code",
   "execution_count": 5,
   "id": "2ce7c6ce-0cb9-4ebf-8eb5-df5b06ea7368",
   "metadata": {},
   "outputs": [],
   "source": [
    "from pyscipopt import Model, quicksum, multidict\n",
    "import numpy as np\n",
    "import pandas as pd\n",
    "import geopandas as gpd\n",
    "import random\n",
    "import json\n",
    "from geopy.distance import geodesic"
   ]
  },
  {
   "cell_type": "code",
   "execution_count": 5,
   "id": "230d50b7-58ac-4b41-8867-2147c7a13ab4",
   "metadata": {},
   "outputs": [],
   "source": [
    "# adapted from https://scipbook.readthedocs.io/en/latest/flp.html\n",
    "def flp(I,J,d,M,c,existing_sites=None):\n",
    "    model = Model(\"flp\")\n",
    "    x,y = {},{}\n",
    "    for j in J:\n",
    "        y[j] = model.addVar(vtype=\"B\", name=\"y(%s)\"%j)\n",
    "        for i in I:\n",
    "            x[i,j] = model.addVar(vtype=\"C\", name=\"x(%s,%s)\"%(i,j))\n",
    "    for i in I:\n",
    "        model.addCons(quicksum(x[i,j] for j in J) == d[i], \"Demand(%s)\"%i)\n",
    "    for j in M:\n",
    "        model.addCons(quicksum(x[i,j] for i in I) <= M[j]*y[j], \"Capacity(%s)\"%i)\n",
    "        model.addCons(quicksum(x[i,j] for i in I) >= 0.7 * M[j] * y[j], \"MinCapacityUse(%s)\"%j) # ensures no school has capacity under 70%\n",
    "    for (i,j) in x:\n",
    "        model.addCons(x[i,j] <= d[i]*y[j], \"Strong(%s,%s)\"%(i,j))\n",
    "    \n",
    "    if existing_sites:\n",
    "        for j in existing_sites:\n",
    "            model.addCons(y[j] == 1, name=f\"ForceOpen({j})\")\n",
    "\n",
    "    model.addCons(quicksum(y[j] for j in J) <= 6, \"FacilityLimit\") \n",
    "            \n",
    "    model.setObjective(\n",
    "        quicksum(c[i,j]*x[i,j] for i in I for j in J),\n",
    "        \"minimize\")\n",
    "    model.data = x,y\n",
    "    return model"
   ]
  },
  {
   "cell_type": "code",
   "execution_count": 7,
   "id": "6b0f240d-d40e-43d9-9a1d-dd73090bd74d",
   "metadata": {},
   "outputs": [],
   "source": [
    "# for I, d make a dictionary of planning units to number of students\n",
    "pu = gpd.read_file('/Users/leahwallihan/Durham_school_planning/DPS-Planning/GIS_files/hs_full_geo.geojson').set_index('pu_2324_84')\n",
    "pu = pu.to_crs('EPSG:4326')"
   ]
  },
  {
   "cell_type": "code",
   "execution_count": 7,
   "id": "3c621c6f-c6f4-4159-ae1b-8724abe2e241",
   "metadata": {},
   "outputs": [],
   "source": [
    "pu_data = pu['basez'].to_dict()\n",
    "I, d = multidict(pu_data)"
   ]
  },
  {
   "cell_type": "code",
   "execution_count": 9,
   "id": "26299862-e172-4bfe-8df2-6236a59f6440",
   "metadata": {},
   "outputs": [],
   "source": [
    "# for J, M make a dictionary of sites to capacities\n",
    "schools = gpd.read_file('/Users/leahwallihan/Durham_school_planning/DPS-Planning/GIS_files/dps_hs_locations.geojson')\n",
    "schools = schools.to_crs('EPSG:4326')\n",
    "\n",
    "# find which planning units have existing school\n",
    "schools['pu'] = None\n",
    "\n",
    "for i, geometry in enumerate(pu['geometry']):\n",
    "    in_geometry = geometry.contains(schools['geometry'])\n",
    "    pu_id = pu.index[i]\n",
    "\n",
    "    schools.loc[in_geometry, 'pu'] = pu_id"
   ]
  },
  {
   "cell_type": "code",
   "execution_count": 9,
   "id": "15350198-5423-4197-a2c5-65ccea2f5b7a",
   "metadata": {},
   "outputs": [],
   "source": [
    "# let's remove planning units in downtown from J to make problem simpler\n",
    "not_central = pu[(pu['Region'] != 'Central')]\n",
    "\n",
    "# initialize dictionary of planning units with capacity of 1600 for potential site\n",
    "pu_dict = {}\n",
    "for idx, row in not_central.iterrows():\n",
    "    pu_dict[idx] = 1850\n",
    "\n",
    "# replace capacities of planning units with existing schools\n",
    "pu_dict[45] = 1600\n",
    "pu_dict[507] = 1810\n",
    "pu_dict[602] = 1240 # reduce by 300 for choice?\n",
    "pu_dict[566] = 1540\n",
    "pu_dict[290] = 1235 # reduce by 300 for choice?\n",
    "\n",
    "J, M = multidict(pu_dict)\n",
    "\n",
    "# define which sites already exist\n",
    "existing_sites = {602, 290, 45, 566, 507}"
   ]
  },
  {
   "cell_type": "code",
   "execution_count": 10,
   "id": "350f9724-36e5-4c67-8ca2-9969b063bc6e",
   "metadata": {},
   "outputs": [
    {
     "name": "stderr",
     "output_type": "stream",
     "text": [
      "/var/folders/ml/wj07z83j0yq4rjs8n_7sv0mw0000gn/T/ipykernel_61541/482943662.py:4: UserWarning: Geometry is in a geographic CRS. Results from 'centroid' are likely incorrect. Use 'GeoSeries.to_crs()' to re-project geometries to a projected CRS before this operation.\n",
      "\n",
      "  for idx, geom in pu.geometry.centroid.items()\n"
     ]
    }
   ],
   "source": [
    "# Get centroids and convert to lat/lon tuples\n",
    "centroid_coords = {\n",
    "    idx: (geom.y, geom.x)  # (latitude, longitude)\n",
    "    for idx, geom in pu.geometry.centroid.items()\n",
    "}\n",
    "\n",
    "# Now build the distance matrix using geodesic distances\n",
    "c = {}\n",
    "for i in I:\n",
    "    for j in J:\n",
    "        c[i, j] = geodesic(centroid_coords[i], centroid_coords[j]).miles"
   ]
  },
  {
   "cell_type": "code",
   "execution_count": 11,
   "id": "bd4970da-08bb-419c-ae1e-61b40841e59d",
   "metadata": {},
   "outputs": [
    {
     "data": {
      "text/plain": [
       "'\\n# for testing:\\nI_small = random.sample(I, 100)\\nd_small = {i: d[i] for i in I_small}\\nc_small = {(i,j): c[i,j] for i in I_small for j in J if (i,j) in c}\\n\\nmodel = flp(I_small, J, d_small, M, c_small, existing_sites=existing_sites)\\nx,y = model.data\\nmodel.setParam(\\'limits/solutions\\', 3)\\nmodel.optimize()\\nEPS = 1.e-6\\nedges = [(i,j) for (i,j) in x if model.getVal(x[i,j]) > EPS]\\nfacilities = [j for j in y if model.getVal(y[j]) > EPS]\\nprint (\"Optimal value=\", model.getObjVal())\\nprint (\"Facilities at nodes:\", facilities)\\nprint (\"Edges:\", edges)\\n'"
      ]
     },
     "execution_count": 11,
     "metadata": {},
     "output_type": "execute_result"
    }
   ],
   "source": [
    "'''\n",
    "# for testing:\n",
    "I_small = random.sample(I, 100)\n",
    "d_small = {i: d[i] for i in I_small}\n",
    "c_small = {(i,j): c[i,j] for i in I_small for j in J if (i,j) in c}\n",
    "\n",
    "model = flp(I_small, J, d_small, M, c_small, existing_sites=existing_sites)\n",
    "x,y = model.data\n",
    "model.setParam('limits/solutions', 3)\n",
    "model.optimize()\n",
    "EPS = 1.e-6\n",
    "edges = [(i,j) for (i,j) in x if model.getVal(x[i,j]) > EPS]\n",
    "facilities = [j for j in y if model.getVal(y[j]) > EPS]\n",
    "print (\"Optimal value=\", model.getObjVal())\n",
    "print (\"Facilities at nodes:\", facilities)\n",
    "print (\"Edges:\", edges)\n",
    "'''"
   ]
  },
  {
   "cell_type": "code",
   "execution_count": null,
   "id": "ab1d2ef1-cc65-45dc-a522-1ade3d960636",
   "metadata": {},
   "outputs": [],
   "source": [
    "model = flp(I, J, d, M, c, existing_sites=existing_sites)\n",
    "model.setParam('limits/solutions', 5)\n",
    "model.optimize()\n",
    "EPS = 1.e-6\n",
    "x,y = model.data\n",
    "edges = [(i,j) for (i,j) in x if model.getVal(x[i,j]) > EPS]\n",
    "facilities = [j for j in y if model.getVal(y[j]) > EPS]\n",
    "print (\"Optimal value=\", model.getObjVal())\n",
    "print (\"Facilities at nodes:\", facilities)\n",
    "print (\"Edges:\", edges)"
   ]
  },
  {
   "cell_type": "code",
   "execution_count": null,
   "id": "f9f4515c-da6f-4a23-8712-ff16d34a9d2b",
   "metadata": {},
   "outputs": [],
   "source": [
    "solution_reports = []\n",
    "\n",
    "# Get all stored solutions\n",
    "sols = model.getSols()\n",
    "\n",
    "for sidx, sol in enumerate(sols):\n",
    "    assignments = {}\n",
    "\n",
    "    for (i_, j_) in x:\n",
    "        if model.getSolVal(sol, x[i_, j_]) > 0.5:\n",
    "            if j_ not in assignments:\n",
    "                assignments[j_] = []\n",
    "            assignments[j_].append(i_)\n",
    "\n",
    "    student_count = {}\n",
    "    if 'students' in globals():  \n",
    "        for j_, pus in assignments.items():\n",
    "            student_count[j_] = sum(students.get(i_, 0) for i_ in pus)\n",
    "\n",
    "    solution_reports.append({\n",
    "        'solution_number': sidx + 1,\n",
    "        'facilities': list(assignments.keys()),\n",
    "        'assignments': assignments,\n",
    "        'student_count': student_count if 'students' in globals() else None\n",
    "    })"
   ]
  },
  {
   "cell_type": "code",
   "execution_count": 118,
   "id": "59706194-d255-46ad-90ae-3703d9150aa2",
   "metadata": {},
   "outputs": [
    {
     "name": "stdout",
     "output_type": "stream",
     "text": [
      "\n",
      "--- Solution #1 ---\n",
      "Facilities opened: [45, 290, 317, 507, 566, 602]\n",
      "Assignments:\n",
      "  Facility 45 <-- Planning Units [1, 2, 19, 28, 29, 30, 55, 56, 57, 64, 65, 69, 85, 141, 144, 165, 177, 193, 196, 197, 205, 206, 210, 211, 212, 213, 214, 215, 239, 240, 344, 348, 353, 354, 369, 370, 371, 403, 404, 411, 416, 420, 429, 435, 437, 439, 441, 442, 443, 451, 453, 483, 488, 489, 501, 508, 531, 542, 549, 569, 574, 577, 581, 582, 585, 588, 592, 594, 595, 596, 597, 677, 720, 721, 736, 746, 768, 775, 797, 817, 828, 848]\n",
      "  Facility 290 <-- Planning Units [6, 10, 37, 39, 47, 97, 98, 99, 100, 114, 115, 116, 118, 120, 121, 122, 125, 126, 127, 128, 132, 253, 254, 267, 269, 270, 272, 275, 276, 278, 279, 284, 285, 286, 288, 289, 290, 291, 292, 293, 294, 295, 297, 298, 307, 308, 309, 310, 382, 383, 384, 385, 392, 399, 402, 407, 421, 424, 425, 430, 434, 449, 459, 478, 479, 480, 481, 482, 485, 486, 506, 515, 526, 530, 534, 535, 536, 540, 552, 606, 607, 609, 622, 623, 630, 631, 633, 652, 654, 700, 701, 715, 716, 735, 738, 741, 742, 743, 773, 779, 789, 825, 829, 830, 835, 840, 842, 851]\n",
      "  Facility 317 <-- Planning Units [8, 9, 11, 12, 13, 32, 33, 34, 46, 71, 79, 80, 91, 154, 181, 218, 230, 231, 236, 238, 242, 243, 296, 312, 313, 316, 319, 320, 321, 323, 324, 325, 326, 327, 328, 331, 368, 373, 374, 375, 377, 378, 379, 380, 393, 395, 396, 397, 408, 423, 428, 444, 445, 446, 447, 448, 462, 463, 464, 471, 472, 491, 495, 499, 500, 511, 513, 517, 521, 524, 528, 529, 533, 547, 548, 550, 551, 556, 557, 558, 564, 571, 572, 576, 587, 589, 590, 591, 619, 620, 730, 731, 732, 733, 744, 745, 754, 755, 762, 763, 764, 766, 769, 771, 772, 774, 780, 781, 783, 800, 801, 802, 811, 812, 813, 815, 819, 820, 822, 823, 824]\n",
      "  Facility 507 <-- Planning Units [4, 7, 14, 20, 39, 40, 41, 48, 49, 83, 84, 105, 106, 107, 108, 111, 112, 150, 166, 167, 168, 171, 180, 184, 233, 234, 255, 256, 257, 262, 263, 264, 265, 266, 268, 277, 280, 281, 282, 283, 361, 362, 387, 391, 401, 409, 415, 417, 418, 419, 426, 431, 450, 458, 460, 461, 490, 496, 497, 498, 504, 505, 507, 509, 512, 514, 522, 523, 525, 532, 541, 543, 544, 559, 561, 562, 563, 586, 635, 636, 638, 639, 640, 641, 643, 644, 646, 647, 648, 649, 650, 651, 653, 655, 656, 657, 710, 711, 712, 713, 714, 734, 739, 756, 757, 788, 790, 791, 793, 799, 804, 814, 831, 841]\n",
      "  Facility 566 <-- Planning Units [16, 17, 18, 24, 25, 26, 27, 42, 44, 50, 51, 52, 54, 59, 60, 61, 63, 74, 75, 76, 77, 78, 86, 87, 88, 89, 90, 131, 142, 143, 147, 155, 156, 157, 162, 178, 187, 188, 189, 191, 198, 199, 202, 203, 204, 221, 224, 225, 226, 229, 230, 237, 241, 333, 334, 339, 340, 346, 351, 364, 365, 366, 367, 427, 436, 438, 440, 452, 454, 455, 456, 457, 484, 487, 493, 494, 502, 527, 539, 546, 566, 570, 584, 598, 658, 659, 660, 661, 662, 663, 664, 665, 666, 667, 668, 669, 670, 722, 723, 740, 747, 752, 753, 770, 784, 785, 827, 834, 836, 837, 838, 839, 843, 844, 845]\n",
      "  Facility 602 <-- Planning Units [3, 5, 21, 31, 38, 67, 68, 70, 72, 73, 92, 93, 94, 95, 96, 102, 133, 134, 135, 136, 138, 146, 158, 159, 160, 173, 175, 176, 182, 183, 201, 217, 219, 244, 245, 246, 248, 250, 251, 299, 301, 302, 303, 304, 305, 356, 358, 372, 388, 389, 390, 400, 405, 406, 410, 412, 413, 414, 422, 432, 433, 465, 466, 467, 469, 470, 473, 474, 475, 476, 477, 491, 492, 503, 510, 518, 519, 537, 538, 545, 553, 554, 580, 602, 603, 604, 605, 617, 618, 621, 626, 676, 678, 679, 680, 681, 685, 689, 696, 698, 699, 703, 704, 717, 718, 724, 726, 750, 751, 758, 759, 760, 761, 776, 777, 805, 806, 807, 808, 809, 810, 821, 833]\n",
      "Student Count per Facility:\n",
      "  Facility 45: 1155.0 students\n",
      "  Facility 290: 1170.0 students\n",
      "  Facility 317: 1275.0 students\n",
      "  Facility 507: 1270.0 students\n",
      "  Facility 566: 1082.0 students\n",
      "  Facility 602: 1150.0 students\n",
      "\n",
      "--- Solution #2 ---\n",
      "Facilities opened: [1, 45, 290, 507, 566, 602]\n",
      "Assignments:\n",
      "  Facility 1 <-- Planning Units [1, 2, 5, 19, 21, 24, 31, 33, 42, 50, 51, 52, 54, 55, 56, 57, 59, 60, 61, 63, 64, 65, 67, 68, 69, 70, 72, 73, 85, 86, 91, 93, 102, 141, 144, 146, 155, 156, 157, 162, 165, 177, 178, 183, 187, 188, 189, 191, 193, 196, 197, 198, 199, 212, 214, 215, 217, 218, 219, 244, 324, 325, 327, 333, 334, 339, 340, 344, 346, 348, 351, 353, 354, 372, 378, 379, 403, 404, 405, 413, 416, 435, 441, 442, 443, 448, 483, 488, 491, 499, 500, 502, 508, 519, 528, 531, 538, 569, 574, 577, 580, 588, 592, 594, 595, 596, 597, 598, 666, 667, 668, 669, 670, 676, 677, 678, 679, 685, 720, 721, 722, 723, 750, 751, 754, 755, 775, 784, 785, 801, 805, 806, 807, 808, 809, 810, 821, 828, 837, 838, 839, 845]\n",
      "  Facility 45 <-- Planning Units [8, 11, 28, 29, 30, 32, 46, 71, 80, 205, 206, 210, 211, 213, 238, 239, 240, 242, 243, 313, 319, 320, 321, 323, 326, 328, 368, 369, 370, 371, 373, 374, 375, 377, 380, 395, 411, 420, 428, 429, 437, 438, 439, 451, 453, 462, 463, 464, 489, 501, 511, 513, 521, 524, 529, 542, 548, 549, 550, 551, 564, 571, 572, 576, 581, 582, 585, 589, 590, 591, 732, 733, 736, 746, 762, 763, 764, 766, 768, 780, 781, 783, 797, 811, 812, 813, 817, 819, 820, 848]\n",
      "  Facility 290 <-- Planning Units [10, 12, 34, 37, 47, 97, 98, 99, 100, 114, 115, 116, 118, 120, 121, 122, 125, 126, 128, 253, 254, 269, 270, 272, 275, 276, 279, 284, 285, 286, 288, 289, 290, 291, 292, 293, 294, 295, 296, 297, 298, 307, 308, 309, 312, 382, 383, 384, 385, 392, 396, 399, 402, 407, 408, 421, 423, 424, 425, 430, 434, 444, 445, 446, 447, 449, 459, 478, 479, 480, 481, 482, 485, 486, 515, 517, 526, 530, 540, 547, 552, 556, 606, 609, 619, 620, 622, 623, 633, 715, 716, 731, 735, 738, 741, 742, 743, 769, 771, 774, 779, 789, 822, 823, 824, 825, 830, 835, 840, 842, 851]\n",
      "  Facility 507 <-- Planning Units [4, 7, 14, 20, 39, 40, 41, 48, 49, 84, 105, 106, 107, 108, 111, 112, 150, 166, 167, 168, 171, 184, 234, 254, 255, 256, 257, 262, 263, 264, 265, 266, 267, 268, 277, 278, 280, 281, 282, 283, 361, 387, 391, 401, 409, 417, 418, 419, 426, 431, 450, 458, 460, 461, 490, 496, 497, 498, 504, 505, 506, 507, 509, 514, 522, 523, 525, 532, 534, 535, 541, 543, 544, 559, 561, 562, 563, 586, 607, 635, 636, 638, 639, 640, 641, 643, 644, 646, 647, 648, 649, 650, 651, 652, 653, 654, 655, 710, 711, 712, 713, 714, 734, 739, 756, 757, 773, 790, 791, 793, 799, 804, 814, 829, 831, 841]\n",
      "  Facility 566 <-- Planning Units [13, 16, 17, 18, 25, 26, 27, 44, 74, 75, 76, 77, 78, 79, 83, 87, 88, 89, 90, 131, 142, 143, 147, 180, 202, 203, 204, 221, 224, 225, 226, 229, 230, 231, 233, 236, 237, 241, 310, 316, 331, 362, 364, 365, 366, 367, 393, 397, 415, 427, 436, 440, 452, 454, 455, 456, 457, 464, 471, 472, 484, 487, 493, 494, 495, 512, 527, 533, 539, 546, 557, 558, 566, 570, 584, 587, 656, 657, 658, 659, 660, 661, 662, 663, 664, 665, 730, 740, 744, 745, 747, 752, 753, 770, 772, 788, 802, 815, 827, 834, 836, 843, 844]\n",
      "  Facility 602 <-- Planning Units [3, 6, 9, 38, 92, 94, 95, 96, 127, 132, 133, 134, 135, 136, 138, 154, 158, 159, 160, 173, 175, 176, 181, 182, 201, 245, 246, 248, 250, 251, 299, 301, 302, 303, 304, 305, 356, 358, 388, 389, 390, 400, 406, 410, 412, 414, 422, 432, 433, 465, 466, 467, 469, 470, 473, 474, 475, 476, 477, 492, 503, 510, 518, 536, 537, 545, 553, 554, 602, 603, 604, 605, 617, 618, 621, 626, 630, 631, 680, 681, 689, 696, 698, 699, 700, 701, 703, 704, 717, 718, 724, 726, 758, 759, 760, 761, 776, 777, 800, 833]\n",
      "Student Count per Facility:\n",
      "  Facility 1: 1260.0 students\n",
      "  Facility 45: 1125.0 students\n",
      "  Facility 290: 1257.0 students\n",
      "  Facility 507: 1380.0 students\n",
      "  Facility 566: 1086.0 students\n",
      "  Facility 602: 1007.0 students\n"
     ]
    }
   ],
   "source": [
    "for report in solution_reports:\n",
    "    print(f\"\\n--- Solution #{report['solution_number']} ---\")\n",
    "    print(\"Facilities opened:\", report['facilities'])\n",
    "\n",
    "    print(\"Assignments:\")\n",
    "    for fac, pus in report['assignments'].items():\n",
    "        print(f\"  Facility {fac} <-- Planning Units {pus}\")\n",
    "\n",
    "    print(\"Student Count per Facility:\")\n",
    "    student_counts = {}\n",
    "    for fac in report['facilities']:\n",
    "        count = 0\n",
    "        for pu_id in report['assignments'][fac]:\n",
    "            count += pu.loc[pu_id, 'basez']\n",
    "        student_counts[fac] = count\n",
    "\n",
    "    report['student_count'] = student_counts\n",
    "\n",
    "    for fac, count in student_counts.items():\n",
    "        print(f\"  Facility {fac}: {count} students\")\n"
   ]
  },
  {
   "cell_type": "code",
   "execution_count": 80,
   "id": "cc9dfdaf-f0a7-4f99-8ad4-89824c9096ef",
   "metadata": {},
   "outputs": [
    {
     "name": "stdout",
     "output_type": "stream",
     "text": [
      "\n",
      "--- Solution #1 ---\n",
      "Facilities opened: [45, 290, 317, 507, 566, 602]\n",
      "Assignments:\n",
      "  Facility 45 <-- Planning Units [1, 2, 19, 28, 29, 30, 55, 56, 57, 64, 65, 69, 85, 141, 144, 165, 177, 191, 193, 196, 197, 205, 206, 210, 211, 212, 213, 214, 215, 239, 240, 340, 344, 348, 353, 354, 369, 370, 371, 403, 404, 411, 416, 420, 429, 435, 437, 439, 441, 442, 443, 451, 453, 483, 488, 489, 501, 508, 531, 542, 549, 569, 574, 577, 581, 582, 585, 588, 592, 594, 595, 596, 597, 677, 720, 721, 736, 746, 768, 775, 797, 817, 828, 848]\n",
      "  Facility 290 <-- Planning Units [6, 10, 37, 39, 47, 97, 98, 99, 100, 114, 115, 116, 118, 120, 121, 122, 125, 126, 127, 128, 132, 253, 254, 267, 269, 270, 272, 275, 276, 278, 279, 284, 285, 286, 288, 289, 290, 291, 292, 293, 294, 295, 297, 298, 307, 308, 309, 310, 382, 383, 384, 385, 392, 399, 402, 407, 408, 421, 424, 425, 430, 434, 449, 459, 478, 479, 480, 481, 482, 485, 486, 506, 515, 526, 530, 534, 535, 536, 540, 552, 606, 607, 609, 622, 623, 630, 631, 633, 652, 654, 700, 701, 715, 716, 735, 738, 741, 742, 743, 773, 779, 789, 825, 829, 830, 835, 840, 842]\n",
      "  Facility 317 <-- Planning Units [8, 9, 11, 12, 13, 32, 33, 34, 46, 71, 79, 80, 91, 154, 181, 231, 236, 238, 242, 243, 296, 312, 313, 316, 319, 320, 321, 323, 324, 325, 326, 327, 328, 331, 368, 373, 374, 375, 377, 379, 380, 393, 395, 396, 397, 423, 428, 444, 445, 446, 447, 448, 462, 463, 464, 471, 472, 495, 499, 500, 511, 513, 517, 521, 524, 528, 529, 533, 547, 548, 550, 551, 556, 557, 558, 564, 571, 572, 576, 587, 589, 590, 591, 619, 620, 730, 731, 732, 733, 744, 745, 754, 755, 762, 763, 764, 766, 769, 771, 772, 774, 780, 781, 783, 800, 801, 802, 811, 812, 813, 815, 819, 820, 822, 823, 824]\n",
      "  Facility 507 <-- Planning Units [4, 7, 14, 20, 39, 40, 41, 48, 49, 83, 84, 105, 106, 107, 108, 111, 112, 150, 166, 167, 168, 171, 180, 184, 233, 234, 255, 256, 257, 262, 263, 264, 265, 266, 268, 277, 280, 281, 282, 283, 361, 362, 387, 391, 401, 409, 415, 417, 418, 419, 426, 431, 450, 458, 460, 461, 490, 496, 497, 498, 504, 505, 507, 509, 512, 514, 522, 523, 525, 532, 541, 543, 544, 559, 561, 562, 563, 586, 635, 636, 638, 639, 640, 641, 643, 644, 646, 647, 648, 649, 650, 651, 653, 655, 656, 657, 710, 711, 712, 713, 714, 734, 739, 756, 757, 788, 790, 791, 793, 799, 804, 814, 831, 841]\n",
      "  Facility 566 <-- Planning Units [16, 17, 18, 24, 25, 26, 27, 42, 44, 50, 51, 52, 54, 59, 60, 61, 63, 74, 75, 76, 77, 78, 86, 87, 88, 89, 90, 131, 142, 143, 147, 155, 156, 157, 162, 178, 187, 188, 189, 198, 199, 202, 203, 204, 221, 224, 225, 226, 229, 230, 237, 241, 333, 334, 339, 340, 346, 351, 364, 365, 366, 367, 427, 436, 438, 440, 452, 454, 455, 456, 457, 484, 487, 493, 494, 502, 527, 539, 546, 566, 570, 584, 598, 658, 659, 660, 661, 662, 663, 664, 665, 666, 667, 668, 669, 670, 722, 723, 740, 747, 752, 753, 770, 784, 785, 827, 834, 836, 837, 838, 839, 843, 844, 845]\n",
      "  Facility 602 <-- Planning Units [3, 5, 21, 31, 38, 67, 68, 70, 72, 73, 92, 93, 94, 95, 96, 102, 133, 134, 135, 136, 138, 146, 158, 159, 160, 173, 175, 176, 182, 183, 201, 217, 218, 219, 244, 245, 246, 248, 250, 251, 299, 301, 302, 303, 304, 305, 356, 358, 372, 378, 388, 389, 390, 400, 405, 406, 410, 412, 413, 414, 422, 432, 433, 465, 466, 467, 469, 470, 473, 474, 475, 476, 477, 491, 492, 503, 510, 518, 519, 537, 538, 545, 553, 554, 580, 602, 603, 604, 605, 617, 618, 621, 626, 676, 678, 679, 680, 681, 685, 689, 696, 698, 699, 703, 704, 717, 718, 724, 726, 750, 751, 758, 759, 760, 761, 776, 777, 805, 806, 807, 808, 809, 810, 821, 833]\n",
      "Student Count per Facility:\n",
      "  Facility 45: 1162.0 students\n",
      "  Facility 290: 1137.0 students\n",
      "  Facility 317: 1346.0 students\n",
      "  Facility 507: 1270.0 students\n",
      "  Facility 566: 1080.0 students\n",
      "  Facility 602: 1166.0 students\n",
      "\n",
      "--- Solution #2 ---\n",
      "Facilities opened: [1, 45, 290, 507, 566, 602]\n",
      "Assignments:\n",
      "  Facility 1 <-- Planning Units [1, 2, 5, 19, 21, 24, 31, 42, 50, 51, 52, 54, 55, 56, 57, 59, 60, 61, 63, 64, 65, 67, 68, 69, 70, 72, 85, 86, 91, 93, 141, 144, 146, 155, 156, 157, 162, 165, 177, 178, 183, 187, 188, 189, 191, 193, 196, 197, 198, 199, 212, 214, 215, 217, 218, 219, 324, 327, 333, 334, 339, 340, 344, 346, 348, 351, 353, 354, 372, 403, 404, 405, 413, 416, 435, 441, 442, 443, 483, 488, 491, 499, 500, 502, 519, 528, 531, 538, 569, 577, 580, 588, 592, 594, 595, 596, 597, 598, 666, 667, 668, 669, 670, 676, 677, 678, 679, 685, 720, 721, 722, 723, 751, 755, 775, 784, 785, 805, 806, 807, 808, 809, 810, 821, 828, 837, 838, 839, 845]\n",
      "  Facility 45 <-- Planning Units [11, 28, 29, 30, 32, 33, 46, 71, 80, 205, 206, 210, 211, 213, 238, 239, 240, 242, 243, 313, 319, 320, 321, 323, 325, 326, 328, 368, 369, 370, 371, 373, 374, 375, 377, 411, 420, 428, 429, 437, 438, 439, 451, 453, 462, 463, 483, 489, 501, 508, 511, 513, 521, 529, 542, 548, 549, 550, 551, 564, 571, 572, 574, 576, 581, 582, 585, 589, 590, 591, 732, 733, 736, 746, 754, 762, 763, 764, 766, 768, 780, 781, 783, 797, 811, 812, 813, 817, 819, 820, 848]\n",
      "  Facility 290 <-- Planning Units [8, 10, 12, 34, 37, 47, 97, 98, 99, 100, 114, 115, 116, 118, 120, 121, 122, 125, 126, 127, 128, 253, 254, 269, 270, 272, 275, 276, 278, 279, 284, 285, 286, 288, 289, 290, 291, 292, 293, 294, 295, 296, 297, 298, 307, 308, 309, 310, 312, 380, 382, 383, 384, 385, 392, 395, 396, 399, 402, 407, 408, 421, 423, 424, 425, 430, 434, 444, 445, 446, 447, 449, 459, 478, 479, 480, 481, 482, 485, 486, 515, 517, 524, 526, 530, 534, 535, 540, 547, 552, 556, 606, 607, 609, 619, 620, 622, 623, 631, 633, 652, 654, 715, 716, 730, 731, 735, 738, 741, 742, 743, 769, 771, 772, 774, 779, 789, 822, 823, 824, 825, 829, 830, 835, 840, 842]\n",
      "  Facility 507 <-- Planning Units [4, 7, 14, 20, 39, 40, 41, 48, 49, 84, 105, 106, 107, 108, 111, 112, 150, 166, 167, 168, 171, 184, 234, 255, 256, 257, 262, 263, 264, 265, 266, 267, 268, 277, 280, 281, 282, 283, 361, 387, 391, 401, 409, 417, 418, 419, 426, 431, 450, 458, 460, 461, 490, 496, 497, 498, 504, 505, 506, 507, 509, 514, 522, 523, 525, 532, 541, 543, 544, 559, 561, 562, 563, 586, 635, 636, 638, 639, 640, 641, 643, 644, 646, 647, 648, 649, 650, 651, 653, 655, 710, 711, 712, 713, 714, 734, 739, 756, 757, 773, 790, 791, 793, 799, 804, 814, 831, 841]\n",
      "  Facility 566 <-- Planning Units [13, 16, 17, 18, 25, 26, 27, 44, 74, 75, 76, 77, 78, 79, 83, 87, 88, 89, 90, 131, 142, 143, 147, 180, 202, 203, 204, 221, 224, 225, 226, 229, 230, 231, 233, 236, 237, 241, 316, 331, 362, 364, 365, 366, 367, 391, 393, 397, 415, 427, 436, 438, 440, 452, 454, 455, 456, 457, 464, 471, 472, 484, 487, 493, 494, 495, 512, 527, 533, 539, 546, 557, 558, 566, 570, 584, 587, 656, 657, 658, 659, 660, 661, 662, 663, 664, 665, 740, 744, 745, 747, 752, 753, 770, 772, 788, 802, 815, 827, 834, 836, 843, 844]\n",
      "  Facility 602 <-- Planning Units [3, 6, 9, 38, 73, 91, 92, 94, 95, 96, 102, 132, 133, 134, 135, 136, 138, 154, 158, 159, 160, 173, 175, 176, 181, 182, 201, 244, 245, 246, 248, 250, 251, 299, 301, 302, 303, 304, 305, 356, 358, 378, 379, 388, 389, 390, 400, 406, 410, 412, 414, 422, 432, 433, 448, 465, 466, 467, 469, 470, 473, 474, 475, 476, 477, 492, 503, 510, 518, 536, 537, 545, 553, 554, 602, 603, 604, 605, 617, 618, 621, 626, 630, 680, 681, 689, 696, 698, 699, 700, 701, 703, 704, 717, 718, 724, 726, 750, 758, 759, 760, 761, 776, 777, 800, 801, 833]\n",
      "Student Count per Facility:\n",
      "  Facility 1: 1134.0 students\n",
      "  Facility 45: 1166.0 students\n",
      "  Facility 290: 1478.0 students\n",
      "  Facility 507: 1269.0 students\n",
      "  Facility 566: 1129.0 students\n",
      "  Facility 602: 1094.0 students\n"
     ]
    }
   ],
   "source": [
    "# to deal with duplicate pu\n",
    "for report in solution_reports:\n",
    "    print(f\"\\n--- Solution #{report['solution_number']} ---\")\n",
    "    print(\"Facilities opened:\", report['facilities'])\n",
    "\n",
    "    print(\"Assignments:\")\n",
    "    for fac, pus in report['assignments'].items():\n",
    "        print(f\"  Facility {fac} <-- Planning Units {pus}\")\n",
    "\n",
    "    print(\"Student Count per Facility:\")\n",
    "    student_counts = {}\n",
    "    for fac in report['facilities']:\n",
    "        count = 0\n",
    "        for pu_id in report['assignments'][fac]:\n",
    "            basez_val = pu.loc[pu_id, 'basez']\n",
    "            if isinstance(basez_val, pd.Series):\n",
    "                count += basez_val.sum()\n",
    "            else:\n",
    "                count += basez_val\n",
    "        student_counts[fac] = count\n",
    "\n",
    "    report['student_count'] = student_counts\n",
    "\n",
    "    for fac, count in student_counts.items():\n",
    "        print(f\"  Facility {fac}: {count} students\")"
   ]
  },
  {
   "cell_type": "code",
   "execution_count": 88,
   "id": "a9306129-ec02-499b-8fad-62a7f360489b",
   "metadata": {},
   "outputs": [],
   "source": [
    "pu_new = pu.copy()\n",
    "\n",
    "for solution in solution_reports: \n",
    "    facility_to_pus = solution['assignments']\n",
    "\n",
    "    pu_to_facility = {\n",
    "        pu_id: facility\n",
    "        for facility, pu_list in facility_to_pus.items()\n",
    "        for pu_id in pu_list\n",
    "    }\n",
    "\n",
    "    pu_new['assignment'] = pu.index.map(pu_to_facility)\n",
    "    solution_number = solution['solution_number']\n",
    "    pu_new.to_file(f\"CFLP_hs_noSGR{solution_number}.geojson\", driver=\"GeoJSON\")"
   ]
  },
  {
   "cell_type": "code",
   "execution_count": 94,
   "id": "828992d4-8368-4675-9dd4-001468b41d6d",
   "metadata": {},
   "outputs": [],
   "source": [
    "with open('CFLP_hs_noSGR.json', 'w') as f:\n",
    "    json.dump(solution_reports, f)"
   ]
  },
  {
   "cell_type": "code",
   "execution_count": null,
   "id": "6b1c886b-e465-4b5e-bdc1-1cc06037d605",
   "metadata": {},
   "outputs": [],
   "source": [
    "hs_dict = {45: 'Northern', \n",
    "          507: 'Jordan', \n",
    "          290: 'Hillside',\n",
    "          567: 'Riverside',\n",
    "          602: 'Southern'}"
   ]
  },
  {
   "cell_type": "code",
   "execution_count": null,
   "id": "be1895b9-d88d-4407-9e72-7a3e02be36ca",
   "metadata": {},
   "outputs": [],
   "source": [
    "# pu.to_file('CFLP_solution.geojson', driver='GeoJSON')"
   ]
  },
  {
   "cell_type": "code",
   "execution_count": null,
   "id": "fe1539ce-7fd6-4886-b02d-957e44829542",
   "metadata": {},
   "outputs": [],
   "source": [
    "# new_pu = gpd.read_file('/Users/leahwallihan/Durham_school_planning/DPS-Planning/GIS_files/pu_2324_SPLIT.geojson', driver='GeoJSON')"
   ]
  },
  {
   "cell_type": "code",
   "execution_count": null,
   "id": "c036a315-e241-4eb8-a6c2-a4937ece072f",
   "metadata": {},
   "outputs": [],
   "source": []
  }
 ],
 "metadata": {
  "kernelspec": {
   "display_name": "Python [conda env:spatialdata]",
   "language": "python",
   "name": "conda-env-spatialdata-py"
  },
  "language_info": {
   "codemirror_mode": {
    "name": "ipython",
    "version": 3
   },
   "file_extension": ".py",
   "mimetype": "text/x-python",
   "name": "python",
   "nbconvert_exporter": "python",
   "pygments_lexer": "ipython3",
   "version": "3.12.7"
  }
 },
 "nbformat": 4,
 "nbformat_minor": 5
}
