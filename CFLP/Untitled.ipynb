{
 "cells": [
  {
   "cell_type": "code",
   "execution_count": 2,
   "id": "75d1ac7d-0c13-46c6-835c-467178be006a",
   "metadata": {},
   "outputs": [],
   "source": [
    "import numpy as np\n",
    "import pandas as pd\n",
    "import geopandas as gpd\n",
    "import json"
   ]
  },
  {
   "cell_type": "code",
   "execution_count": 6,
   "id": "aba808be-abd6-4a26-8196-c6dec2d52e4e",
   "metadata": {},
   "outputs": [],
   "source": [
    "with open('/Users/leahwallihan/Durham_school_planning/DPS-Planning/CFLP/CFLP_sols/CFLP_hs_noSGR.json', 'r') as f:\n",
    "    solution_reports = json.load(f)"
   ]
  },
  {
   "cell_type": "code",
   "execution_count": 30,
   "id": "c4238759-643e-4731-a9c7-67adcc5685a1",
   "metadata": {},
   "outputs": [],
   "source": [
    "hs_dict = {45: 'Northern', \n",
    "          507: 'Jordan', \n",
    "          290: 'Hillside',\n",
    "          566: 'Riverside',\n",
    "          602: 'Southern', \n",
    "          317: 'New High School'}"
   ]
  },
  {
   "cell_type": "code",
   "execution_count": 40,
   "id": "df76fad2-8e20-4f36-8049-b79eeb26bd3f",
   "metadata": {},
   "outputs": [],
   "source": [
    "sol2 = solution_reports[0]['student_count']"
   ]
  },
  {
   "cell_type": "code",
   "execution_count": 42,
   "id": "ec1fb695-e2a1-49dd-8dce-3fd5f8afdcb0",
   "metadata": {},
   "outputs": [],
   "source": [
    "renamed = {hs_dict[int(k)]: v for k, v in sol2.items()}"
   ]
  },
  {
   "cell_type": "code",
   "execution_count": 44,
   "id": "dcc8c96e-da01-4ad4-bc7d-3978d1246db0",
   "metadata": {},
   "outputs": [],
   "source": [
    "df = pd.DataFrame.from_dict(renamed, orient='index', columns=['Students'])\n",
    "df.index.name = 'High School'\n",
    "df = df.reset_index()"
   ]
  },
  {
   "cell_type": "code",
   "execution_count": 46,
   "id": "3f318917-c07d-4e67-bd34-c655d5d7bf5e",
   "metadata": {},
   "outputs": [
    {
     "data": {
      "text/html": [
       "<div>\n",
       "<style scoped>\n",
       "    .dataframe tbody tr th:only-of-type {\n",
       "        vertical-align: middle;\n",
       "    }\n",
       "\n",
       "    .dataframe tbody tr th {\n",
       "        vertical-align: top;\n",
       "    }\n",
       "\n",
       "    .dataframe thead th {\n",
       "        text-align: right;\n",
       "    }\n",
       "</style>\n",
       "<table border=\"1\" class=\"dataframe\">\n",
       "  <thead>\n",
       "    <tr style=\"text-align: right;\">\n",
       "      <th></th>\n",
       "      <th>High School</th>\n",
       "      <th>Students</th>\n",
       "    </tr>\n",
       "  </thead>\n",
       "  <tbody>\n",
       "    <tr>\n",
       "      <th>0</th>\n",
       "      <td>Northern</td>\n",
       "      <td>1122.0</td>\n",
       "    </tr>\n",
       "    <tr>\n",
       "      <th>1</th>\n",
       "      <td>Hillside</td>\n",
       "      <td>1159.0</td>\n",
       "    </tr>\n",
       "    <tr>\n",
       "      <th>2</th>\n",
       "      <td>New High School</td>\n",
       "      <td>1348.0</td>\n",
       "    </tr>\n",
       "    <tr>\n",
       "      <th>3</th>\n",
       "      <td>Jordan</td>\n",
       "      <td>1271.0</td>\n",
       "    </tr>\n",
       "    <tr>\n",
       "      <th>4</th>\n",
       "      <td>Riverside</td>\n",
       "      <td>1108.0</td>\n",
       "    </tr>\n",
       "    <tr>\n",
       "      <th>5</th>\n",
       "      <td>Southern</td>\n",
       "      <td>1125.0</td>\n",
       "    </tr>\n",
       "  </tbody>\n",
       "</table>\n",
       "</div>"
      ],
      "text/plain": [
       "       High School  Students\n",
       "0         Northern    1122.0\n",
       "1         Hillside    1159.0\n",
       "2  New High School    1348.0\n",
       "3           Jordan    1271.0\n",
       "4        Riverside    1108.0\n",
       "5         Southern    1125.0"
      ]
     },
     "execution_count": 46,
     "metadata": {},
     "output_type": "execute_result"
    }
   ],
   "source": [
    "df"
   ]
  },
  {
   "cell_type": "code",
   "execution_count": null,
   "id": "e34289a8-4e42-4f15-a0b5-710acc5af58f",
   "metadata": {},
   "outputs": [],
   "source": []
  }
 ],
 "metadata": {
  "kernelspec": {
   "display_name": "Python [conda env:spatialdata]",
   "language": "python",
   "name": "conda-env-spatialdata-py"
  },
  "language_info": {
   "codemirror_mode": {
    "name": "ipython",
    "version": 3
   },
   "file_extension": ".py",
   "mimetype": "text/x-python",
   "name": "python",
   "nbconvert_exporter": "python",
   "pygments_lexer": "ipython3",
   "version": "3.12.7"
  }
 },
 "nbformat": 4,
 "nbformat_minor": 5
}
