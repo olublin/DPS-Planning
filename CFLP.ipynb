{
 "cells": [
  {
   "cell_type": "code",
   "execution_count": 2,
   "id": "1a20c85b-3f50-4476-a50e-0751a35dafe4",
   "metadata": {},
   "outputs": [
    {
     "name": "stdout",
     "output_type": "stream",
     "text": [
      "Requirement already satisfied: pyscipopt in /opt/anaconda3/envs/spatialdata/lib/python3.12/site-packages (5.5.0)\n",
      "Requirement already satisfied: numpy>=1.16.0 in /opt/anaconda3/envs/spatialdata/lib/python3.12/site-packages (from pyscipopt) (1.26.4)\n",
      "Note: you may need to restart the kernel to use updated packages.\n"
     ]
    }
   ],
   "source": [
    "pip install pyscipopt"
   ]
  },
  {
   "cell_type": "code",
   "execution_count": 3,
   "id": "2ce7c6ce-0cb9-4ebf-8eb5-df5b06ea7368",
   "metadata": {},
   "outputs": [],
   "source": [
    "from pyscipopt import Model, quicksum, multidict\n",
    "import numpy as np\n",
    "import pandas as pd\n",
    "import geopandas as gpd"
   ]
  },
  {
   "cell_type": "code",
   "execution_count": 4,
   "id": "230d50b7-58ac-4b41-8867-2147c7a13ab4",
   "metadata": {},
   "outputs": [],
   "source": [
    "# adapted from https://scipbook.readthedocs.io/en/latest/flp.html\n",
    "def flp(I,J,d,M,c,existing_sites=None):\n",
    "    model = Model(\"flp\")\n",
    "    x,y = {},{}\n",
    "    for j in J:\n",
    "        y[j] = model.addVar(vtype=\"B\", name=\"y(%s)\"%j)\n",
    "        for i in I:\n",
    "            x[i,j] = model.addVar(vtype=\"C\", name=\"x(%s,%s)\"%(i,j))\n",
    "    for i in I:\n",
    "        model.addCons(quicksum(x[i,j] for j in J) == d[i], \"Demand(%s)\"%i)\n",
    "    for j in M:\n",
    "        model.addCons(quicksum(x[i,j] for i in I) <= M[j]*y[j], \"Capacity(%s)\"%i)\n",
    "    for (i,j) in x:\n",
    "        model.addCons(x[i,j] <= d[i]*y[j], \"Strong(%s,%s)\"%(i,j))\n",
    "    \n",
    "    if existing_sites:\n",
    "        for j in existing_sites:\n",
    "            model.addCons(y[j] == 1, name=f\"ForceOpen({j})\")\n",
    "\n",
    "    model.addCons(quicksum(y[j] for j in J) <= 6, \"FacilityLimit\") \n",
    "            \n",
    "    model.setObjective(\n",
    "        quicksum(c[i,j]*x[i,j] for i in I for j in J),\n",
    "        \"minimize\")\n",
    "    model.data = x,y\n",
    "    return model"
   ]
  },
  {
   "cell_type": "code",
   "execution_count": 5,
   "id": "6b0f240d-d40e-43d9-9a1d-dd73090bd74d",
   "metadata": {},
   "outputs": [],
   "source": [
    "# for I, d make a dictionary of planning units to number of students\n",
    "pu_data = gpd.read_file('GIS_files/pu_with_proj.geojson').set_index('pu_2324_84')\n",
    "pu_data = pu_data['final_proj'].to_dict()\n",
    "\n",
    "I, d = multidict(pu_data)"
   ]
  },
  {
   "cell_type": "code",
   "execution_count": 6,
   "id": "15350198-5423-4197-a2c5-65ccea2f5b7a",
   "metadata": {},
   "outputs": [
    {
     "name": "stderr",
     "output_type": "stream",
     "text": [
      "/var/folders/ml/wj07z83j0yq4rjs8n_7sv0mw0000gn/T/ipykernel_34824/950143076.py:16: UserWarning: Geometry is in a geographic CRS. Results from 'centroid' are likely incorrect. Use 'GeoSeries.to_crs()' to re-project geometries to a projected CRS before this operation.\n",
      "\n",
      "  school_centroids = schools.geometry.centroid\n"
     ]
    }
   ],
   "source": [
    "# for J, M make a dictionary of sites to capacities\n",
    "schools = gpd.read_file('/Users/leahwallihan/Durham_school_planning/geospatial files/HS_regions')\n",
    "schools = schools.to_crs('EPSG:4326')\n",
    "pu = gpd.read_file('/Users/leahwallihan/Durham_school_planning/geospatial files/pu_shape.geojson')\n",
    "pu = pu.to_crs('EPSG:4326')\n",
    "\n",
    "# let's remove planning units in the North from J to make problem simpler\n",
    "not_north = pu[(pu['Region'] != 'North') | (pu['pu_2324_848'] == 56)]\n",
    "\n",
    "# initialize dictionary of planning units with capacity of 1600 for potential site\n",
    "pu_dict = {}\n",
    "for _, row in not_north.iterrows():\n",
    "    pu_dict[row['OBJECTID']] = 1600\n",
    "\n",
    "# find which planning units have existing school\n",
    "school_centroids = schools.geometry.centroid\n",
    "schools['pu'] = None\n",
    "\n",
    "for i, geometry in enumerate(pu['geometry']):\n",
    "    in_geometry = school_centroids.within(geometry)\n",
    "    pu_id = pu.loc[i, 'OBJECTID']\n",
    "    schools.loc[in_geometry, 'pu'] = pu_id\n",
    "\n",
    "# replace capacities of planning units with existing schools\n",
    "pu_dict[56] = 1600\n",
    "pu_dict[282] = 1810\n",
    "pu_dict[591] = 1540\n",
    "pu_dict[682] = 1540\n",
    "pu_dict[779] = 1535\n",
    "\n",
    "J, M = multidict(pu_dict)\n",
    "\n",
    "# define which sites already exist\n",
    "existing_sites = {56, 282, 591, 682, 779}"
   ]
  },
  {
   "cell_type": "code",
   "execution_count": 8,
   "id": "350f9724-36e5-4c67-8ca2-9969b063bc6e",
   "metadata": {},
   "outputs": [
    {
     "name": "stderr",
     "output_type": "stream",
     "text": [
      "/var/folders/ml/wj07z83j0yq4rjs8n_7sv0mw0000gn/T/ipykernel_34824/3496151326.py:4: UserWarning: Geometry is in a geographic CRS. Results from 'centroid' are likely incorrect. Use 'GeoSeries.to_crs()' to re-project geometries to a projected CRS before this operation.\n",
      "\n",
      "  school_centroids = schools.set_index('pu').geometry.centroid #use centroid of schools for distance calculation\n",
      "/var/folders/ml/wj07z83j0yq4rjs8n_7sv0mw0000gn/T/ipykernel_34824/3496151326.py:5: UserWarning: Geometry is in a geographic CRS. Results from 'centroid' are likely incorrect. Use 'GeoSeries.to_crs()' to re-project geometries to a projected CRS before this operation.\n",
      "\n",
      "  pu_centroids = pu.set_index('OBJECTID').geometry.centroid\n"
     ]
    }
   ],
   "source": [
    "# create distance matrix\n",
    "c = {}\n",
    "\n",
    "school_centroids = schools.set_index('pu').geometry.centroid #use centroid of schools for distance calculation\n",
    "pu_centroids = pu.set_index('OBJECTID').geometry.centroid \n",
    "\n",
    "for i in I:\n",
    "    for j in J:\n",
    "        dist = pu_centroids[i].distance(pu_centroids[j])\n",
    "        c[i, j] = dist"
   ]
  },
  {
   "cell_type": "code",
   "execution_count": 9,
   "id": "bd4970da-08bb-419c-ae1e-61b40841e59d",
   "metadata": {},
   "outputs": [
    {
     "name": "stdout",
     "output_type": "stream",
     "text": [
      "presolving:\n",
      "(round 1, fast)       12225 del vars, 12245 del conss, 0 add conss, 61105 chg bounds, 0 chg sides, 611 chg coeffs, 0 upgd conss, 0 impls, 1 clqs\n",
      "(round 2, fast)       12225 del vars, 12650 del conss, 0 add conss, 61105 chg bounds, 0 chg sides, 611 chg coeffs, 0 upgd conss, 0 impls, 1 clqs\n",
      "(round 3, fast)       12305 del vars, 12650 del conss, 0 add conss, 61105 chg bounds, 0 chg sides, 611 chg coeffs, 0 upgd conss, 0 impls, 1 clqs\n",
      "(round 4, fast)       12305 del vars, 12650 del conss, 0 add conss, 61105 chg bounds, 80 chg sides, 611 chg coeffs, 0 upgd conss, 0 impls, 1 clqs\n",
      "(round 5, fast)       33221 del vars, 33438 del conss, 0 add conss, 61105 chg bounds, 80 chg sides, 1217 chg coeffs, 0 upgd conss, 0 impls, 1 clqs\n",
      "(round 6, exhaustive) 33221 del vars, 33438 del conss, 0 add conss, 61105 chg bounds, 80 chg sides, 1217 chg coeffs, 27705 upgd conss, 0 impls, 1 clqs\n",
      "(round 7, exhaustive) 33348 del vars, 33438 del conss, 0 add conss, 61105 chg bounds, 80 chg sides, 1217 chg coeffs, 2770Optimal value= 31.196247852249698\n",
      "Facilities at nodes: [56, 222, 282, 591, 682, 779]\n",
      "Edges: [(19, 56), (23, 56), (24, 56), (51, 56), (52, 56), (55, 56), (58, 56), (59, 56), (60, 56), (61, 56), (64, 56), (85, 56), (86, 56), (16, 222), (17, 222), (18, 222), (25, 222), (26, 222), (27, 222), (42, 222), (43, 222), (44, 222), (74, 222), (75, 222), (76, 222), (77, 222), (78, 222), (79, 222), (87, 222), (88, 222), (89, 222), (90, 222), (4, 282), (20, 282), (37, 282), (83, 282), (84, 282), (2, 591), (8, 591), (9, 591), (10, 591), (11, 591), (12, 591), (28, 591), (29, 591), (30, 591), (32, 591), (33, 591), (34, 591), (46, 591), (47, 591), (65, 591), (71, 591), (80, 591), (91, 591), (3, 682), (5, 682), (21, 682), (38, 682), (67, 682), (70, 682), (72, 682), (73, 682), (92, 682), (93, 682), (94, 682), (95, 682), (96, 682), (6, 779), (7, 779), (14, 779), (39, 779), (40, 779), (41, 779), (48, 779), (49, 779), (97, 779), (98, 779), (99, 779), (100, 779)]\n",
      "5 upgd conss, 27704 impls, 1 clqs\n",
      "   (62.6s) probing cycle finished: starting next cycle\n",
      "   (62.7s) symmetry computation started: requiring (bin +, int +, cont +), (fixed: bin -, int -, cont -)\n",
      "   (62.8s) no symmetry present (symcode time: 0.00)\n",
      "presolving (8 rounds: 8 fast, 3 medium, 3 exhaustive):\n",
      " 33348 deleted vars, 33445 deleted constraints, 0 added constraints, 61105 tightened bounds, 0 added holes, 80 changed sides, 1224 changed coefficients\n",
      " 16784389 implications, 1 cliques\n",
      "presolved problem has 28363 variables (606 bin, 0 int, 0 impl, 27757 cont) and 28372 constraints\n",
      "  27697 constraints of type <varbound>\n",
      "      1 constraints of type <setppc>\n",
      "    674 constraints of type <linear>\n",
      "Presolving Time: 62.69\n",
      "\n",
      " time | node  | left  |LP iter|LP it/n|mem/heur|mdpt |vars |cons |rows |cuts |sepa|confs|strbr|  dualbound   | primalbound  |  gap   | compl. \n",
      "t64.7s|     1 |     0 |     0 |     - | trivial|   0 |  28k|  28k|   0 |   0 |  0 |   0 |   0 |-2.802715e+04 | 1.127743e+02 |    Inf | unknown\n",
      "p64.7s|     1 |     0 |    40 |     - |  clique|   0 |  28k|  28k|  28k|   0 |  0 |   0 |   0 |-2.802715e+04 | 3.455110e+01 |    Inf | unknown\n",
      "p64.8s|     1 |     0 |    98 |     - |   locks|   0 |  28k|  28k|  28k|   0 |  0 |   0 |   0 |-2.802715e+04 | 3.212513e+01 |    Inf | unknown\n",
      "*65.4s|     1 |     0 |  6648 |     - |    LP  |   0 |  28k|  28k|  28k|   0 |  0 |   0 |   0 | 3.119625e+01 | 3.119625e+01 |   0.00%| unknown\n",
      " 65.4s|     1 |     0 |  6648 |     - |  1350M |   0 |  28k|  28k|  28k|   0 |  0 |   0 |   0 | 3.119625e+01 | 3.119625e+01 |   0.00%| unknown\n",
      "\n",
      "SCIP Status        : problem is solved [optimal solution found]\n",
      "Solving Time (sec) : 65.36\n",
      "Solving Nodes      : 1\n",
      "Primal Bound       : +3.11962478522497e+01 (4 solutions)\n",
      "Dual Bound         : +3.11962478522497e+01\n",
      "Gap                : 0.00 %\n"
     ]
    }
   ],
   "source": [
    "'''\n",
    "for testing:\n",
    "I_small = random.sample(I, 100)\n",
    "d_small = {i: d[i] for i in I_small}\n",
    "c_small = {(i,j): c[i,j] for i in I_small for j in J if (i,j) in c}\n",
    "\n",
    "model = flp(I_small, J, d_small, M, c_small, existing_sites=existing_sites)\n",
    "model.optimize()\n",
    "EPS = 1.e-6\n",
    "x,y = model.data\n",
    "edges = [(i,j) for (i,j) in x if model.getVal(x[i,j]) > EPS]\n",
    "facilities = [j for j in y if model.getVal(y[j]) > EPS]\n",
    "print (\"Optimal value=\", model.getObjVal())\n",
    "print (\"Facilities at nodes:\", facilities)\n",
    "print (\"Edges:\", edges)\n",
    "'''"
   ]
  },
  {
   "cell_type": "code",
   "execution_count": null,
   "id": "13455306-62e8-4cc7-a274-594a85149086",
   "metadata": {},
   "outputs": [],
   "source": [
    "model = flp(I, J, d, M, c, existing_sites=existing_sites)\n",
    "model.optimize()\n",
    "EPS = 1.e-6\n",
    "x,y = model.data\n",
    "edges = [(i,j) for (i,j) in x if model.getVal(x[i,j]) > EPS]\n",
    "facilities = [j for j in y if model.getVal(y[j]) > EPS]\n",
    "print (\"Optimal value=\", model.getObjVal())\n",
    "print (\"Facilities at nodes:\", facilities)\n",
    "print (\"Edges:\", edges)"
   ]
  },
  {
   "cell_type": "code",
   "execution_count": null,
   "id": "3ca0cb1f-e5ed-4ede-bded-f8d145c25bfe",
   "metadata": {},
   "outputs": [],
   "source": []
  }
 ],
 "metadata": {
  "kernelspec": {
   "display_name": "Python [conda env:spatialdata]",
   "language": "python",
   "name": "conda-env-spatialdata-py"
  },
  "language_info": {
   "codemirror_mode": {
    "name": "ipython",
    "version": 3
   },
   "file_extension": ".py",
   "mimetype": "text/x-python",
   "name": "python",
   "nbconvert_exporter": "python",
   "pygments_lexer": "ipython3",
   "version": "3.12.7"
  }
 },
 "nbformat": 4,
 "nbformat_minor": 5
}
