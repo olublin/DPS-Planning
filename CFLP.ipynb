{
 "cells": [
  {
   "cell_type": "code",
   "execution_count": 2,
   "id": "1a20c85b-3f50-4476-a50e-0751a35dafe4",
   "metadata": {},
   "outputs": [
    {
     "name": "stdout",
     "output_type": "stream",
     "text": [
      "Requirement already satisfied: pyscipopt in /opt/anaconda3/envs/spatialdata/lib/python3.12/site-packages (5.5.0)\n",
      "Requirement already satisfied: numpy>=1.16.0 in /opt/anaconda3/envs/spatialdata/lib/python3.12/site-packages (from pyscipopt) (1.26.4)\n",
      "Note: you may need to restart the kernel to use updated packages.\n"
     ]
    }
   ],
   "source": [
    "pip install pyscipopt"
   ]
  },
  {
   "cell_type": "code",
   "execution_count": 3,
   "id": "2ce7c6ce-0cb9-4ebf-8eb5-df5b06ea7368",
   "metadata": {},
   "outputs": [],
   "source": [
    "from pyscipopt import Model, quicksum, multidict\n",
    "import numpy as np\n",
    "import pandas as pd\n",
    "import geopandas as gpd"
   ]
  },
  {
   "cell_type": "code",
   "execution_count": 4,
   "id": "230d50b7-58ac-4b41-8867-2147c7a13ab4",
   "metadata": {},
   "outputs": [],
   "source": [
    "# adapted from https://scipbook.readthedocs.io/en/latest/flp.html\n",
    "def flp(I,J,d,M,c,existing_sites=None):\n",
    "    model = Model(\"flp\")\n",
    "    x,y = {},{}\n",
    "    for j in J:\n",
    "        y[j] = model.addVar(vtype=\"B\", name=\"y(%s)\"%j)\n",
    "        for i in I:\n",
    "            x[i,j] = model.addVar(vtype=\"C\", name=\"x(%s,%s)\"%(i,j))\n",
    "    for i in I:\n",
    "        model.addCons(quicksum(x[i,j] for j in J) == d[i], \"Demand(%s)\"%i)\n",
    "    for j in M:\n",
    "        model.addCons(quicksum(x[i,j] for i in I) <= M[j]*y[j], \"Capacity(%s)\"%i)\n",
    "    for (i,j) in x:\n",
    "        model.addCons(x[i,j] <= d[i]*y[j], \"Strong(%s,%s)\"%(i,j))\n",
    "    \n",
    "    if existing_sites:\n",
    "        for j in existing_sites:\n",
    "            model.addCons(y[j] == 1, name=f\"ForceOpen({j})\")\n",
    "\n",
    "    model.addCons(quicksum(y[j] for j in J) <= 6, \"FacilityLimit\") \n",
    "            \n",
    "    model.setObjective(\n",
    "        quicksum(c[i,j]*x[i,j] for i in I for j in J),\n",
    "        \"minimize\")\n",
    "    model.data = x,y\n",
    "    return model"
   ]
  },
  {
   "cell_type": "code",
   "execution_count": 5,
   "id": "6b0f240d-d40e-43d9-9a1d-dd73090bd74d",
   "metadata": {},
   "outputs": [],
   "source": [
    "# for I, d make a dictionary of planning units to number of students\n",
    "pu_data = gpd.read_file('GIS_files/pu_with_proj.geojson').set_index('pu_2324_84')\n",
    "pu_data = pu_data['final_proj'].to_dict()\n",
    "\n",
    "I, d = multidict(pu_data)"
   ]
  },
  {
   "cell_type": "code",
   "execution_count": 6,
   "id": "15350198-5423-4197-a2c5-65ccea2f5b7a",
   "metadata": {},
   "outputs": [
    {
     "name": "stderr",
     "output_type": "stream",
     "text": [
      "/var/folders/ml/wj07z83j0yq4rjs8n_7sv0mw0000gn/T/ipykernel_34824/950143076.py:16: UserWarning: Geometry is in a geographic CRS. Results from 'centroid' are likely incorrect. Use 'GeoSeries.to_crs()' to re-project geometries to a projected CRS before this operation.\n",
      "\n",
      "  school_centroids = schools.geometry.centroid\n"
     ]
    }
   ],
   "source": [
    "# for J, M make a dictionary of sites to capacities\n",
    "schools = gpd.read_file('/Users/leahwallihan/Durham_school_planning/geospatial files/HS_regions')\n",
    "schools = schools.to_crs('EPSG:4326')\n",
    "pu = gpd.read_file('/Users/leahwallihan/Durham_school_planning/geospatial files/pu_shape.geojson')\n",
    "pu = pu.to_crs('EPSG:4326')\n",
    "\n",
    "# let's remove planning units in the North from J to make problem simpler\n",
    "not_north = pu[(pu['Region'] != 'North') | (pu['pu_2324_848'] == 56)]\n",
    "\n",
    "# initialize dictionary of planning units with capacity of 1600 for potential site\n",
    "pu_dict = {}\n",
    "for _, row in not_north.iterrows():\n",
    "    pu_dict[row['OBJECTID']] = 1600\n",
    "\n",
    "# find which planning units have existing school\n",
    "school_centroids = schools.geometry.centroid\n",
    "schools['pu'] = None\n",
    "\n",
    "for i, geometry in enumerate(pu['geometry']):\n",
    "    in_geometry = school_centroids.within(geometry)\n",
    "    pu_id = pu.loc[i, 'OBJECTID']\n",
    "    schools.loc[in_geometry, 'pu'] = pu_id\n",
    "\n",
    "# replace capacities of planning units with existing schools\n",
    "pu_dict[56] = 1600\n",
    "pu_dict[282] = 1810\n",
    "pu_dict[591] = 1540\n",
    "pu_dict[682] = 1540\n",
    "pu_dict[779] = 1535\n",
    "\n",
    "J, M = multidict(pu_dict)\n",
    "\n",
    "# define which sites already exist\n",
    "existing_sites = {56, 282, 591, 682, 779}"
   ]
  },
  {
   "cell_type": "code",
   "execution_count": 8,
   "id": "350f9724-36e5-4c67-8ca2-9969b063bc6e",
   "metadata": {},
   "outputs": [
    {
     "name": "stderr",
     "output_type": "stream",
     "text": [
      "/var/folders/ml/wj07z83j0yq4rjs8n_7sv0mw0000gn/T/ipykernel_34824/3496151326.py:4: UserWarning: Geometry is in a geographic CRS. Results from 'centroid' are likely incorrect. Use 'GeoSeries.to_crs()' to re-project geometries to a projected CRS before this operation.\n",
      "\n",
      "  school_centroids = schools.set_index('pu').geometry.centroid #use centroid of schools for distance calculation\n",
      "/var/folders/ml/wj07z83j0yq4rjs8n_7sv0mw0000gn/T/ipykernel_34824/3496151326.py:5: UserWarning: Geometry is in a geographic CRS. Results from 'centroid' are likely incorrect. Use 'GeoSeries.to_crs()' to re-project geometries to a projected CRS before this operation.\n",
      "\n",
      "  pu_centroids = pu.set_index('OBJECTID').geometry.centroid\n"
     ]
    }
   ],
   "source": [
    "# create distance matrix\n",
    "c = {}\n",
    "\n",
    "school_centroids = schools.set_index('pu').geometry.centroid #use centroid of schools for distance calculation\n",
    "pu_centroids = pu.set_index('OBJECTID').geometry.centroid \n",
    "\n",
    "for i in I:\n",
    "    for j in J:\n",
    "        dist = pu_centroids[i].distance(pu_centroids[j])\n",
    "        c[i, j] = dist"
   ]
  },
  {
   "cell_type": "code",
   "execution_count": 9,
   "id": "bd4970da-08bb-419c-ae1e-61b40841e59d",
   "metadata": {},
   "outputs": [
    {
     "name": "stdout",
     "output_type": "stream",
     "text": [
      "presolving:\n",
      "(round 1, fast)       12225 del vars, 12245 del conss, 0 add conss, 61105 chg bounds, 0 chg sides, 611 chg coeffs, 0 upgd conss, 0 impls, 1 clqs\n",
      "(round 2, fast)       12225 del vars, 12650 del conss, 0 add conss, 61105 chg bounds, 0 chg sides, 611 chg coeffs, 0 upgd conss, 0 impls, 1 clqs\n",
      "(round 3, fast)       12305 del vars, 12650 del conss, 0 add conss, 61105 chg bounds, 0 chg sides, 611 chg coeffs, 0 upgd conss, 0 impls, 1 clqs\n",
      "(round 4, fast)       12305 del vars, 12650 del conss, 0 add conss, 61105 chg bounds, 80 chg sides, 611 chg coeffs, 0 upgd conss, 0 impls, 1 clqs\n",
      "(round 5, fast)       33221 del vars, 33438 del conss, 0 add conss, 61105 chg bounds, 80 chg sides, 1217 chg coeffs, 0 upgd conss, 0 impls, 1 clqs\n",
      "(round 6, exhaustive) 33221 del vars, 33438 del conss, 0 add conss, 61105 chg bounds, 80 chg sides, 1217 chg coeffs, 27705 upgd conss, 0 impls, 1 clqs\n",
      "(round 7, exhaustive) 33348 del vars, 33438 del conss, 0 add conss, 61105 chg bounds, 80 chg sides, 1217 chg coeffs, 2770Optimal value= 31.196247852249698\n",
      "Facilities at nodes: [56, 222, 282, 591, 682, 779]\n",
      "Edges: [(19, 56), (23, 56), (24, 56), (51, 56), (52, 56), (55, 56), (58, 56), (59, 56), (60, 56), (61, 56), (64, 56), (85, 56), (86, 56), (16, 222), (17, 222), (18, 222), (25, 222), (26, 222), (27, 222), (42, 222), (43, 222), (44, 222), (74, 222), (75, 222), (76, 222), (77, 222), (78, 222), (79, 222), (87, 222), (88, 222), (89, 222), (90, 222), (4, 282), (20, 282), (37, 282), (83, 282), (84, 282), (2, 591), (8, 591), (9, 591), (10, 591), (11, 591), (12, 591), (28, 591), (29, 591), (30, 591), (32, 591), (33, 591), (34, 591), (46, 591), (47, 591), (65, 591), (71, 591), (80, 591), (91, 591), (3, 682), (5, 682), (21, 682), (38, 682), (67, 682), (70, 682), (72, 682), (73, 682), (92, 682), (93, 682), (94, 682), (95, 682), (96, 682), (6, 779), (7, 779), (14, 779), (39, 779), (40, 779), (41, 779), (48, 779), (49, 779), (97, 779), (98, 779), (99, 779), (100, 779)]\n",
      "5 upgd conss, 27704 impls, 1 clqs\n",
      "   (62.6s) probing cycle finished: starting next cycle\n",
      "   (62.7s) symmetry computation started: requiring (bin +, int +, cont +), (fixed: bin -, int -, cont -)\n",
      "   (62.8s) no symmetry present (symcode time: 0.00)\n",
      "presolving (8 rounds: 8 fast, 3 medium, 3 exhaustive):\n",
      " 33348 deleted vars, 33445 deleted constraints, 0 added constraints, 61105 tightened bounds, 0 added holes, 80 changed sides, 1224 changed coefficients\n",
      " 16784389 implications, 1 cliques\n",
      "presolved problem has 28363 variables (606 bin, 0 int, 0 impl, 27757 cont) and 28372 constraints\n",
      "  27697 constraints of type <varbound>\n",
      "      1 constraints of type <setppc>\n",
      "    674 constraints of type <linear>\n",
      "Presolving Time: 62.69\n",
      "\n",
      " time | node  | left  |LP iter|LP it/n|mem/heur|mdpt |vars |cons |rows |cuts |sepa|confs|strbr|  dualbound   | primalbound  |  gap   | compl. \n",
      "t64.7s|     1 |     0 |     0 |     - | trivial|   0 |  28k|  28k|   0 |   0 |  0 |   0 |   0 |-2.802715e+04 | 1.127743e+02 |    Inf | unknown\n",
      "p64.7s|     1 |     0 |    40 |     - |  clique|   0 |  28k|  28k|  28k|   0 |  0 |   0 |   0 |-2.802715e+04 | 3.455110e+01 |    Inf | unknown\n",
      "p64.8s|     1 |     0 |    98 |     - |   locks|   0 |  28k|  28k|  28k|   0 |  0 |   0 |   0 |-2.802715e+04 | 3.212513e+01 |    Inf | unknown\n",
      "*65.4s|     1 |     0 |  6648 |     - |    LP  |   0 |  28k|  28k|  28k|   0 |  0 |   0 |   0 | 3.119625e+01 | 3.119625e+01 |   0.00%| unknown\n",
      " 65.4s|     1 |     0 |  6648 |     - |  1350M |   0 |  28k|  28k|  28k|   0 |  0 |   0 |   0 | 3.119625e+01 | 3.119625e+01 |   0.00%| unknown\n",
      "\n",
      "SCIP Status        : problem is solved [optimal solution found]\n",
      "Solving Time (sec) : 65.36\n",
      "Solving Nodes      : 1\n",
      "Primal Bound       : +3.11962478522497e+01 (4 solutions)\n",
      "Dual Bound         : +3.11962478522497e+01\n",
      "Gap                : 0.00 %\n"
     ]
    }
   ],
   "source": [
    "'''\n",
    "for testing:\n",
    "I_small = random.sample(I, 100)\n",
    "d_small = {i: d[i] for i in I_small}\n",
    "c_small = {(i,j): c[i,j] for i in I_small for j in J if (i,j) in c}\n",
    "\n",
    "model = flp(I_small, J, d_small, M, c_small, existing_sites=existing_sites)\n",
    "model.optimize()\n",
    "EPS = 1.e-6\n",
    "x,y = model.data\n",
    "edges = [(i,j) for (i,j) in x if model.getVal(x[i,j]) > EPS]\n",
    "facilities = [j for j in y if model.getVal(y[j]) > EPS]\n",
    "print (\"Optimal value=\", model.getObjVal())\n",
    "print (\"Facilities at nodes:\", facilities)\n",
    "print (\"Edges:\", edges)\n",
    "'''"
   ]
  },
  {
   "cell_type": "code",
   "execution_count": 10,
   "id": "13455306-62e8-4cc7-a274-594a85149086",
   "metadata": {},
   "outputs": [
    {
     "name": "stdout",
     "output_type": "stream",
     "text": [
      "presolving:\n",
      "(round 1, fast)       117317 del vars, 117509 del conss, 0 add conss, 518133 chg bounds, 0 chg sides, 0 chg coeffs, 0 upgd conss, 0 impls, 1 clqs\n",
      "(round 2, fast)       117317 del vars, 120789 del conss, 0 add conss, 518133 chg bounds, 0 chg sides, 0 chg coeffs, 0 upgd conss, 0 impls, 1 clqs\n",
      "(round 3, exhaustive) 117317 del vars, 120789 del conss, 0 add conss, 518133 chg bounds, 0 chg sides, 0 chg coeffs, 397537 upgd conss, 0 impls, 1 clqs\n",
      "   (9565.9s) probing cycle finished: starting next cycle\n",
      "   (9566.8s) symmetry computation started: requiring (bin +, int +, cont +), (fixed: bin -, int -, cont -)\n",
      "   (9567.3s) no symmetry present (symcode time: 0.16)\n",
      "presolving (4 rounds: 4 fast, 2 medium, 2 exhaustive):\n",
      " 117317 deleted vars, 120789 deleted constraints, 0 added constraints, 518133 tightened bounds, 0 added holes, 0 changed sides, 0 changed coefficients\n",
      " 240906816 implications, 1 cliques\n",
      "presolved problem has 401422 variables (606 bin, 0 int, 0 impl, 400816 cont) and 398804 constraints\n",
      " 397536 constraints of type <varbound>\n",
      "      1 constraints of type <setppc>\n",
      "   1267 constraints of type <linear>\n",
      "Presolving Time: 9566.91\n",
      "\n",
      " time | node  | left  |LP iter|LP it/n|mem/heur|mdpt |vars |cons |rows |cuts |sepa|confs|strbr|  dualbound   | primalbound  |  gap   | compl. \n",
      "p9612s|     1 |     0 |   725 |     - |  clique|   0 | 401k| 398k| 398k|   0 |  0 |   0 |   0 | 0.000000e+00 | 2.927423e+02 |    Inf | unknown\n",
      "*9766s|     1 |     0 | 57403 |     - |    LP  |   0 | 401k| 398k| 398k|   0 |  0 |   0 |   0 | 2.534754e+02 | 2.534754e+02 |   0.00%| unknown\n",
      " 9766s|     1 |     0 | 57403 |     - |    15G |   0 | 401k| 398k| 398k|   0 |  0 |   0 |   0 | 2.534754e+02 | 2.534754e+02 |   0.00%| unknown\n",
      "\n",
      "SCIP Status        : problem is solved [optimal solution found]\n",
      "Solving Time (sec) : 9766.34\n",
      "Solving Nodes      : 1\n",
      "Primal Bound       : +2.53475439970966e+02 (2 solutions)\n",
      "Dual Bound         : +2.53475439970966e+02\n",
      "Gap                : 0.00 %\n",
      "Optimal value= 253.4754399709661\n",
      "Facilities at nodes: [56, 282, 591, 682, 779, 817]\n",
      "Edges: [(23, 56), (24, 56), (42, 56), (43, 56), (51, 56), (52, 56), (55, 56), (58, 56), (59, 56), (60, 56), (61, 56), (64, 56), (85, 56), (86, 56), (88, 56), (90, 56), (144, 56), (155, 56), (156, 56), (157, 56), (164, 56), (165, 56), (178, 56), (185, 56), (186, 56), (187, 56), (188, 56), (189, 56), (190, 56), (191, 56), (192, 56), (193, 56), (196, 56), (198, 56), (333, 56), (339, 56), (340, 56), (341, 56), (344, 56), (346, 56), (347, 56), (348, 56), (352, 56), (353, 56), (354, 56), (404, 56), (502, 56), (531, 56), (569, 56), (588, 56), (592, 56), (594, 56), (595, 56), (596, 56), (598, 56), (664, 56), (666, 56), (667, 56), (668, 56), (669, 56), (670, 56), (671, 56), (720, 56), (721, 56), (722, 56), (723, 56), (775, 56), (784, 56), (785, 56), (837, 56), (838, 56), (839, 56), (845, 56), (847, 56), (4, 282), (20, 282), (37, 282), (76, 282), (77, 282), (83, 282), (84, 282), (105, 282), (106, 282), (149, 282), (150, 282), (166, 282), (167, 282), (168, 282), (171, 282), (180, 282), (221, 282), (229, 282), (233, 282), (234, 282), (257, 282), (260, 282), (261, 282), (262, 282), (263, 282), (264, 282), (265, 282), (266, 282), (277, 282), (278, 282), (279, 282), (280, 282), (281, 282), (283, 282), (284, 282), (285, 282), (286, 282), (288, 282), (292, 282), (307, 282), (308, 282), (309, 282), (360, 282), (362, 282), (364, 282), (366, 282), (386, 282), (387, 282), (391, 282), (392, 282), (397, 282), (401, 282), (408, 282), (409, 282), (415, 282), (417, 282), (419, 282), (425, 282), (426, 282), (431, 282), (449, 282), (454, 282), (455, 282), (456, 282), (457, 282), (458, 282), (460, 282), (461, 282), (472, 282), (490, 282), (493, 282), (494, 282), (506, 282), (507, 282), (509, 282), (512, 282), (514, 282), (532, 282), (541, 282), (543, 282), (544, 282), (559, 282), (561, 282), (562, 282), (563, 282), (586, 282), (609, 282), (640, 282), (641, 282), (642, 282), (643, 282), (644, 282), (647, 282), (648, 282), (649, 282), (650, 282), (651, 282), (652, 282), (653, 282), (654, 282), (655, 282), (656, 282), (657, 282), (660, 282), (710, 282), (712, 282), (713, 282), (730, 282), (731, 282), (735, 282), (738, 282), (744, 282), (773, 282), (774, 282), (788, 282), (789, 282), (790, 282), (792, 282), (799, 282), (814, 282), (827, 282), (830, 282), (831, 282), (841, 282), (843, 282), (844, 282), (8, 591), (9, 591), (11, 591), (12, 591), (32, 591), (33, 591), (34, 591), (46, 591), (47, 591), (78, 591), (79, 591), (80, 591), (91, 591), (154, 591), (181, 591), (182, 591), (201, 591), (226, 591), (236, 591), (241, 591), (242, 591), (243, 591), (244, 591), (245, 591), (246, 591), (291, 591), (293, 591), (296, 591), (303, 591), (312, 591), (313, 591), (314, 591), (315, 591), (316, 591), (317, 591), (318, 591), (319, 591), (320, 591), (321, 591), (322, 591), (323, 591), (324, 591), (325, 591), (326, 591), (327, 591), (328, 591), (331, 591), (365, 591), (373, 591), (374, 591), (375, 591), (377, 591), (378, 591), (379, 591), (380, 591), (388, 591), (393, 591), (395, 591), (396, 591), (398, 591), (399, 591), (423, 591), (424, 591), (425, 591), (428, 591), (434, 591), (444, 591), (445, 591), (446, 591), (447, 591), (448, 591), (463, 591), (464, 591), (469, 591), (470, 591), (471, 591), (476, 591), (478, 591), (484, 591), (491, 591), (492, 591), (495, 591), (499, 591), (500, 591), (513, 591), (517, 591), (521, 591), (524, 591), (528, 591), (529, 591), (530, 591), (533, 591), (545, 591), (547, 591), (548, 591), (550, 591), (555, 591), (556, 591), (557, 591), (558, 591), (571, 591), (572, 591), (587, 591), (589, 591), (590, 591), (591, 591), (604, 591), (619, 591), (620, 591), (623, 591), (727, 591), (729, 591), (742, 591), (745, 591), (750, 591), (751, 591), (754, 591), (755, 591), (762, 591), (764, 591), (765, 591), (769, 591), (771, 591), (772, 591), (776, 591), (780, 591), (781, 591), (783, 591), (801, 591), (802, 591), (811, 591), (812, 591), (813, 591), (815, 591), (816, 591), (819, 591), (820, 591), (822, 591), (823, 591), (824, 591), (825, 591), (840, 591), (842, 591), (3, 682), (5, 682), (21, 682), (38, 682), (67, 682), (70, 682), (72, 682), (73, 682), (92, 682), (93, 682), (94, 682), (95, 682), (96, 682), (102, 682), (104, 682), (134, 682), (135, 682), (136, 682), (137, 682), (138, 682), (158, 682), (159, 682), (175, 682), (176, 682), (247, 682), (248, 682), (249, 682), (250, 682), (301, 682), (302, 682), (304, 682), (305, 682), (306, 682), (358, 682), (389, 682), (390, 682), (400, 682), (406, 682), (410, 682), (412, 682), (413, 682), (414, 682), (422, 682), (432, 682), (433, 682), (465, 682), (466, 682), (467, 682), (468, 682), (473, 682), (474, 682), (475, 682), (477, 682), (503, 682), (510, 682), (516, 682), (518, 682), (553, 682), (554, 682), (602, 682), (603, 682), (605, 682), (610, 682), (614, 682), (615, 682), (616, 682), (617, 682), (618, 682), (621, 682), (678, 682), (682, 682), (687, 682), (688, 682), (704, 682), (707, 682), (708, 682), (717, 682), (718, 682), (725, 682), (726, 682), (758, 682), (759, 682), (760, 682), (761, 682), (777, 682), (786, 682), (805, 682), (806, 682), (809, 682), (810, 682), (821, 682), (833, 682), (6, 779), (7, 779), (10, 779), (14, 779), (39, 779), (40, 779), (41, 779), (48, 779), (49, 779), (97, 779), (98, 779), (99, 779), (100, 779), (108, 779), (109, 779), (111, 779), (112, 779), (114, 779), (115, 779), (116, 779), (118, 779), (120, 779), (121, 779), (122, 779), (127, 779), (128, 779), (132, 779), (133, 779), (160, 779), (169, 779), (170, 779), (173, 779), (184, 779), (251, 779), (254, 779), (255, 779), (256, 779), (267, 779), (268, 779), (269, 779), (270, 779), (271, 779), (275, 779), (289, 779), (290, 779), (295, 779), (297, 779), (298, 779), (299, 779), (382, 779), (383, 779), (384, 779), (385, 779), (402, 779), (407, 779), (418, 779), (421, 779), (430, 779), (450, 779), (459, 779), (479, 779), (480, 779), (481, 779), (482, 779), (485, 779), (486, 779), (496, 779), (497, 779), (498, 779), (504, 779), (505, 779), (515, 779), (522, 779), (525, 779), (534, 779), (535, 779), (536, 779), (537, 779), (540, 779), (552, 779), (607, 779), (622, 779), (626, 779), (630, 779), (631, 779), (633, 779), (635, 779), (636, 779), (638, 779), (639, 779), (696, 779), (698, 779), (699, 779), (700, 779), (701, 779), (702, 779), (703, 779), (715, 779), (716, 779), (739, 779), (741, 779), (756, 779), (757, 779), (779, 779), (791, 779), (793, 779), (803, 779), (804, 779), (829, 779), (835, 779), (2, 817), (16, 817), (17, 817), (18, 817), (19, 817), (25, 817), (26, 817), (27, 817), (28, 817), (29, 817), (30, 817), (44, 817), (65, 817), (71, 817), (74, 817), (75, 817), (87, 817), (89, 817), (131, 817), (141, 817), (142, 817), (143, 817), (177, 817), (183, 817), (197, 817), (199, 817), (202, 817), (203, 817), (204, 817), (205, 817), (206, 817), (209, 817), (210, 817), (211, 817), (213, 817), (214, 817), (215, 817), (216, 817), (217, 817), (219, 817), (224, 817), (225, 817), (237, 817), (238, 817), (239, 817), (241, 817), (367, 817), (368, 817), (369, 817), (370, 817), (371, 817), (372, 817), (403, 817), (405, 817), (411, 817), (416, 817), (420, 817), (427, 817), (429, 817), (435, 817), (436, 817), (437, 817), (438, 817), (439, 817), (440, 817), (442, 817), (443, 817), (451, 817), (452, 817), (453, 817), (483, 817), (487, 817), (488, 817), (489, 817), (508, 817), (511, 817), (519, 817), (527, 817), (538, 817), (539, 817), (542, 817), (546, 817), (549, 817), (566, 817), (574, 817), (576, 817), (579, 817), (580, 817), (581, 817), (582, 817), (583, 817), (584, 817), (585, 817), (658, 817), (661, 817), (663, 817), (676, 817), (736, 817), (746, 817), (747, 817), (752, 817), (753, 817), (766, 817), (768, 817), (770, 817), (797, 817), (807, 817), (808, 817), (817, 817), (828, 817), (834, 817), (836, 817), (848, 817)]\n"
     ]
    }
   ],
   "source": [
    "model = flp(I, J, d, M, c, existing_sites=existing_sites)\n",
    "model.optimize()\n",
    "EPS = 1.e-6\n",
    "x,y = model.data\n",
    "edges = [(i,j) for (i,j) in x if model.getVal(x[i,j]) > EPS]\n",
    "facilities = [j for j in y if model.getVal(y[j]) > EPS]\n",
    "print (\"Optimal value=\", model.getObjVal())\n",
    "print (\"Facilities at nodes:\", facilities)\n",
    "print (\"Edges:\", edges)"
   ]
  },
  {
   "cell_type": "code",
   "execution_count": null,
   "id": "3ca0cb1f-e5ed-4ede-bded-f8d145c25bfe",
   "metadata": {},
   "outputs": [],
   "source": []
  }
 ],
 "metadata": {
  "kernelspec": {
   "display_name": "Python [conda env:spatialdata]",
   "language": "python",
   "name": "conda-env-spatialdata-py"
  },
  "language_info": {
   "codemirror_mode": {
    "name": "ipython",
    "version": 3
   },
   "file_extension": ".py",
   "mimetype": "text/x-python",
   "name": "python",
   "nbconvert_exporter": "python",
   "pygments_lexer": "ipython3",
   "version": "3.12.7"
  }
 },
 "nbformat": 4,
 "nbformat_minor": 5
}
