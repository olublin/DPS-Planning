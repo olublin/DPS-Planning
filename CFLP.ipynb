{
 "cells": [
  {
   "cell_type": "code",
   "execution_count": 2,
   "id": "1a20c85b-3f50-4476-a50e-0751a35dafe4",
   "metadata": {},
   "outputs": [
    {
     "name": "stdout",
     "output_type": "stream",
     "text": [
      "Requirement already satisfied: pyscipopt in /opt/anaconda3/envs/spatialdata/lib/python3.12/site-packages (5.5.0)\n",
      "Requirement already satisfied: numpy>=1.16.0 in /opt/anaconda3/envs/spatialdata/lib/python3.12/site-packages (from pyscipopt) (1.26.4)\n",
      "Note: you may need to restart the kernel to use updated packages.\n"
     ]
    }
   ],
   "source": [
    "pip install pyscipopt"
   ]
  },
  {
   "cell_type": "code",
   "execution_count": 3,
   "id": "2ce7c6ce-0cb9-4ebf-8eb5-df5b06ea7368",
   "metadata": {},
   "outputs": [],
   "source": [
    "from pyscipopt import Model, quicksum, multidict\n",
    "import numpy as np\n",
    "import pandas as pd\n",
    "import geopandas as gpd"
   ]
  },
  {
   "cell_type": "code",
   "execution_count": 4,
   "id": "230d50b7-58ac-4b41-8867-2147c7a13ab4",
   "metadata": {},
   "outputs": [],
   "source": [
    "# adapted from https://scipbook.readthedocs.io/en/latest/flp.html\n",
    "def flp(I,J,d,M,c,existing_sites=None):\n",
    "    model = Model(\"flp\")\n",
    "    x,y = {},{}\n",
    "    for j in J:\n",
    "        y[j] = model.addVar(vtype=\"B\", name=\"y(%s)\"%j)\n",
    "        for i in I:\n",
    "            x[i,j] = model.addVar(vtype=\"C\", name=\"x(%s,%s)\"%(i,j))\n",
    "    for i in I:\n",
    "        model.addCons(quicksum(x[i,j] for j in J) == d[i], \"Demand(%s)\"%i)\n",
    "    for j in M:\n",
    "        model.addCons(quicksum(x[i,j] for i in I) <= M[j]*y[j], \"Capacity(%s)\"%i)\n",
    "    for (i,j) in x:\n",
    "        model.addCons(x[i,j] <= d[i]*y[j], \"Strong(%s,%s)\"%(i,j))\n",
    "    \n",
    "    if existing_sites:\n",
    "        for j in existing_sites:\n",
    "            model.addCons(y[j] == 1, name=f\"ForceOpen({j})\")\n",
    "\n",
    "    model.addCons(quicksum(y[j] for j in J) <= 6, \"FacilityLimit\") \n",
    "            \n",
    "    model.setObjective(\n",
    "        quicksum(c[i,j]*x[i,j] for i in I for j in J),\n",
    "        \"minimize\")\n",
    "    model.data = x,y\n",
    "    return model"
   ]
  },
  {
   "cell_type": "code",
   "execution_count": 5,
   "id": "6b0f240d-d40e-43d9-9a1d-dd73090bd74d",
   "metadata": {},
   "outputs": [],
   "source": [
    "# for I, d make a dictionary of planning units to number of students\n",
    "pu_data = gpd.read_file('GIS_files/pu_with_proj.geojson').set_index('pu_2324_84')\n",
    "pu_data = pu_data['final_proj'].to_dict()\n",
    "\n",
    "I, d = multidict(pu_data)"
   ]
  },
  {
   "cell_type": "code",
   "execution_count": 6,
   "id": "26299862-e172-4bfe-8df2-6236a59f6440",
   "metadata": {},
   "outputs": [],
   "source": [
    "# for J, M make a dictionary of sites to capacities\n",
    "schools = gpd.read_file('/Users/leahwallihan/Durham_school_planning/DPS-Planning/dps_hs_locations.geojson')\n",
    "schools = schools.to_crs('EPSG:4326')\n",
    "pu = gpd.read_file('/Users/leahwallihan/Durham_school_planning/geospatial files/pu_shape.geojson')\n",
    "pu = pu.to_crs('EPSG:4326')\n",
    "\n",
    "for i, geometry in enumerate(pu['geometry']):\n",
    "    in_geometry = geometry.contains(schools['geometry'])\n",
    "    pu_id = pu.loc[i, 'OBJECTID']\n",
    "\n",
    "    schools.loc[in_geometry, 'pu'] = pu_id"
   ]
  },
  {
   "cell_type": "code",
   "execution_count": 7,
   "id": "15350198-5423-4197-a2c5-65ccea2f5b7a",
   "metadata": {},
   "outputs": [
    {
     "name": "stderr",
     "output_type": "stream",
     "text": [
      "/var/folders/ml/wj07z83j0yq4rjs8n_7sv0mw0000gn/T/ipykernel_53631/2872351155.py:10: UserWarning: Geometry is in a geographic CRS. Results from 'centroid' are likely incorrect. Use 'GeoSeries.to_crs()' to re-project geometries to a projected CRS before this operation.\n",
      "\n",
      "  school_centroids = schools.geometry.centroid\n"
     ]
    }
   ],
   "source": [
    "# let's remove planning units in the North from J to make problem simpler\n",
    "not_north = pu[(pu['Region'] != 'Central')]\n",
    "\n",
    "# initialize dictionary of planning units with capacity of 1600 for potential site\n",
    "pu_dict = {}\n",
    "for _, row in not_north.iterrows():\n",
    "    pu_dict[row['OBJECTID']] = 1600\n",
    "\n",
    "# find which planning units have existing school\n",
    "schools['pu'] = None\n",
    "\n",
    "for i, geometry in enumerate(pu['geometry']):\n",
    "    in_geometry = school_centroids.within(geometry)\n",
    "    pu_id = pu.loc[i, 'OBJECTID']\n",
    "    schools.loc[in_geometry, 'pu'] = pu_id\n",
    "\n",
    "# replace capacities of planning units with existing schools\n",
    "pu_dict[45] = 1600\n",
    "pu_dict[507] = 1810\n",
    "pu_dict[602] = 1540\n",
    "pu_dict[566] = 1540\n",
    "pu_dict[290] = 1535\n",
    "\n",
    "J, M = multidict(pu_dict)\n",
    "\n",
    "# define which sites already exist\n",
    "existing_sites = {602, 290, 45, 566, 507}"
   ]
  },
  {
   "cell_type": "code",
   "execution_count": 8,
   "id": "350f9724-36e5-4c67-8ca2-9969b063bc6e",
   "metadata": {},
   "outputs": [
    {
     "name": "stderr",
     "output_type": "stream",
     "text": [
      "/var/folders/ml/wj07z83j0yq4rjs8n_7sv0mw0000gn/T/ipykernel_53631/3496151326.py:4: UserWarning: Geometry is in a geographic CRS. Results from 'centroid' are likely incorrect. Use 'GeoSeries.to_crs()' to re-project geometries to a projected CRS before this operation.\n",
      "\n",
      "  school_centroids = schools.set_index('pu').geometry.centroid #use centroid of schools for distance calculation\n",
      "/var/folders/ml/wj07z83j0yq4rjs8n_7sv0mw0000gn/T/ipykernel_53631/3496151326.py:5: UserWarning: Geometry is in a geographic CRS. Results from 'centroid' are likely incorrect. Use 'GeoSeries.to_crs()' to re-project geometries to a projected CRS before this operation.\n",
      "\n",
      "  pu_centroids = pu.set_index('OBJECTID').geometry.centroid\n"
     ]
    }
   ],
   "source": [
    "# create distance matrix\n",
    "c = {}\n",
    "\n",
    "school_centroids = schools.set_index('pu').geometry.centroid #use centroid of schools for distance calculation\n",
    "pu_centroids = pu.set_index('OBJECTID').geometry.centroid \n",
    "\n",
    "for i in I:\n",
    "    for j in J:\n",
    "        dist = pu_centroids[i].distance(pu_centroids[j])\n",
    "        c[i, j] = dist"
   ]
  },
  {
   "cell_type": "code",
   "execution_count": 9,
   "id": "bd4970da-08bb-419c-ae1e-61b40841e59d",
   "metadata": {},
   "outputs": [
    {
     "data": {
      "text/plain": [
       "'\\nfor testing:\\nI_small = random.sample(I, 100)\\nd_small = {i: d[i] for i in I_small}\\nc_small = {(i,j): c[i,j] for i in I_small for j in J if (i,j) in c}\\n\\nmodel = flp(I_small, J, d_small, M, c_small, existing_sites=existing_sites)\\nmodel.optimize()\\nEPS = 1.e-6\\nx,y = model.data\\nedges = [(i,j) for (i,j) in x if model.getVal(x[i,j]) > EPS]\\nfacilities = [j for j in y if model.getVal(y[j]) > EPS]\\nprint (\"Optimal value=\", model.getObjVal())\\nprint (\"Facilities at nodes:\", facilities)\\nprint (\"Edges:\", edges)\\n'"
      ]
     },
     "execution_count": 9,
     "metadata": {},
     "output_type": "execute_result"
    }
   ],
   "source": [
    "'''\n",
    "for testing:\n",
    "I_small = random.sample(I, 100)\n",
    "d_small = {i: d[i] for i in I_small}\n",
    "c_small = {(i,j): c[i,j] for i in I_small for j in J if (i,j) in c}\n",
    "\n",
    "model = flp(I_small, J, d_small, M, c_small, existing_sites=existing_sites)\n",
    "model.optimize()\n",
    "EPS = 1.e-6\n",
    "x,y = model.data\n",
    "edges = [(i,j) for (i,j) in x if model.getVal(x[i,j]) > EPS]\n",
    "facilities = [j for j in y if model.getVal(y[j]) > EPS]\n",
    "print (\"Optimal value=\", model.getObjVal())\n",
    "print (\"Facilities at nodes:\", facilities)\n",
    "print (\"Edges:\", edges)\n",
    "'''"
   ]
  },
  {
   "cell_type": "code",
   "execution_count": 10,
   "id": "13455306-62e8-4cc7-a274-594a85149086",
   "metadata": {},
   "outputs": [
    {
     "name": "stdout",
     "output_type": "stream",
     "text": [
      "presolving:\n",
      "(round 1, fast)       140933 del vars, 141125 del conss, 0 add conss, 622437 chg bounds, 0 chg sides, 0 chg coeffs, 0 upgd conss, 0 impls, 1 clqs\n",
      "(round 2, fast)       140933 del vars, 144405 del conss, 0 add conss, 622437 chg bounds, 0 chg sides, 0 chg coeffs, 0 upgd conss, 0 impls, 1 clqs\n",
      "(round 3, exhaustive) 140933 del vars, 144405 del conss, 0 add conss, 622437 chg bounds, 0 chg sides, 0 chg coeffs, 478225 upgd conss, 0 impls, 1 clqs\n",
      "   (13038.4s) probing cycle finished: starting next cycle\n",
      "   (13039.5s) symmetry computation started: requiring (bin +, int +, cont +), (fixed: bin -, int -, cont -)\n",
      "   (13040.1s) no symmetry present (symcode time: 0.20)\n",
      "presolving (4 rounds: 4 fast, 2 medium, 2 exhaustive):\n",
      " 140933 deleted vars, 144405 deleted constraints, 0 added constraints, 622437 tightened bounds, 0 added holes, 0 changed sides, 0 changed coefficients\n",
      " 348625296 implications, 1 cliques\n",
      "presolved problem has 482233 variables (729 bin, 0 int, 0 impl, 481504 cont) and 479615 constraints\n",
      " 478224 constraints of type <varbound>\n",
      "      1 constraints of type <setppc>\n",
      "   1390 constraints of type <linear>\n",
      "Presolving Time: 13038.97\n",
      "\n",
      " time | node  | left  |LP iter|LP it/n|mem/heur|mdpt |vars |cons |rows |cuts |sepa|confs|strbr|  dualbound   | primalbound  |  gap   | compl. \n",
      "p 219m|     1 |     0 |   697 |     - |  clique|   0 | 482k| 479k| 479k|   0 |  0 |   0 |   0 | 0.000000e+00 | 2.706308e+02 |    Inf | unknown\n",
      "  221m|     1 |     0 | 53787 |     - |    21G |   0 | 482k| 479k| 479k|   0 |  0 |   0 |   0 | 2.409682e+02 | 2.706308e+02 |  12.31%| unknown\n",
      "r 222m|     1 |     0 | 57329 |     - |intshift|   0 | 482k| 479k| 479k|   0 |  1 |   0 |   0 | 2.409682e+02 | 2.429167e+02 |   0.81%| unknown\n",
      "o 222m|     1 |     0 | 62448 |     - |feaspump|   0 | 482k| 479k| 479k|   0 |  1 |   0 |   0 | 2.409682e+02 | 2.412260e+02 |   0.11%| unknown\n",
      "  222m|     1 |     0 | 62448 |     - |    21G |   0 | 482k| 479k| 479k|   0 |  1 |   0 |   0 | 2.409682e+02 | 2.412260e+02 |   0.11%| unknown\n",
      "  695m|     1 |     0 | 62448 |     - |    13G |   0 | 482k| 479k| 479k|   0 |  1 |   0 |   0 | 2.409682e+02 | 2.412260e+02 |   0.11%| unknown\n",
      "  699m|     1 |     0 | 62448 |     - |  9903M |   0 | 482k| 479k|  80k|   0 |  2 |   0 |   0 | 2.409682e+02 | 2.412260e+02 |   0.11%| unknown\n",
      "(run 1, node 1) restarting after 676 global fixings of integer variables\n",
      "\n",
      "presolving:\n",
      "(round 1, fast)       444132 del vars, 0 del conss, 0 add conss, 0 chg bounds, 0 chg sides, 0 chg coeffs, 0 upgd conss, 348625296 impls, 1 clqs\n",
      "presolving (2 rounds: 2 fast, 1 medium, 1 exhaustive):\n",
      " 444132 deleted vars, 0 deleted constraints, 0 added constraints, 0 tightened bounds, 0 added holes, 0 changed sides, 0 changed coefficients\n",
      " 348625296 implications, 1 cliques\n",
      "presolved problem has 38101 variables (53 bin, 0 int, 0 impl, 38048 cont) and 35483 constraints\n",
      "  34768 constraints of type <varbound>\n",
      "      1 constraints of type <setppc>\n",
      "    714 constraints of type <linear>\n",
      "Presolving Time: 13040.10\n",
      "transformed 3/4 original solutions to the transformed problem space\n",
      "\n",
      " time | node  | left  |LP iter|LP it/n|mem/heur|mdpt |vars |cons |rows |cuts |sepa|confs|strbr|  dualbound   | primalbound  |  gap   | compl. \n",
      "  699m|     1 |     0 | 68074 |     - |  9476M |   0 |  38k|  35k|  35k|   0 |  0 |   0 |   0 | 2.409682e+02 | 2.412260e+02 |   0.11%| unknown\n",
      "  699m|     1 |     0 | 68114 |     - |  5022M |   0 |  38k|  35k|  35k|   0 |  1 |1849 |   2 | 2.412260e+02 | 2.412260e+02 |   0.00%| unknown\n",
      "\n",
      "SCIP Status        : problem is solved [optimal solution found]\n",
      "Solving Time (sec) : 41934.24\n",
      "Solving Nodes      : 1 (total of 2 nodes in 2 runs)\n",
      "Primal Bound       : +2.41226006369655e+02 (5 solutions)\n",
      "Dual Bound         : +2.41226006369655e+02\n",
      "Gap                : 0.00 %\n",
      "Optimal value= 241.2260063696555\n",
      "Facilities at nodes: [45, 290, 507, 516, 566, 602]\n",
      "Edges: [(2, 45), (19, 45), (28, 45), (29, 45), (30, 45), (52, 45), (55, 45), (58, 45), (64, 45), (65, 45), (71, 45), (85, 45), (141, 45), (144, 45), (156, 45), (157, 45), (164, 45), (165, 45), (177, 45), (178, 45), (191, 45), (192, 45), (193, 45), (196, 45), (197, 45), (199, 45), (205, 45), (206, 45), (209, 45), (210, 45), (211, 45), (213, 45), (214, 45), (215, 45), (237, 45), (238, 45), (239, 45), (242, 45), (243, 45), (323, 45), (326, 45), (331, 45), (339, 45), (340, 45), (341, 45), (344, 45), (347, 45), (348, 45), (352, 45), (353, 45), (354, 45), (368, 45), (369, 45), (370, 45), (371, 45), (377, 45), (403, 45), (404, 45), (411, 45), (416, 45), (420, 45), (429, 45), (435, 45), (437, 45), (438, 45), (439, 45), (440, 45), (442, 45), (443, 45), (451, 45), (453, 45), (463, 45), (464, 45), (483, 45), (488, 45), (489, 45), (495, 45), (508, 45), (511, 45), (531, 45), (542, 45), (548, 45), (549, 45), (550, 45), (572, 45), (574, 45), (576, 45), (581, 45), (582, 45), (583, 45), (584, 45), (585, 45), (588, 45), (589, 45), (590, 45), (591, 45), (592, 45), (594, 45), (595, 45), (596, 45), (720, 45), (721, 45), (727, 45), (736, 45), (746, 45), (766, 45), (768, 45), (770, 45), (775, 45), (783, 45), (797, 45), (811, 45), (812, 45), (813, 45), (815, 45), (816, 45), (817, 45), (828, 45), (848, 45), (8, 290), (10, 290), (12, 290), (32, 290), (34, 290), (37, 290), (46, 290), (47, 290), (79, 290), (80, 290), (97, 290), (98, 290), (99, 290), (100, 290), (114, 290), (115, 290), (116, 290), (170, 290), (254, 290), (267, 290), (269, 290), (275, 290), (278, 290), (279, 290), (284, 290), (285, 290), (286, 290), (288, 290), (289, 290), (290, 290), (291, 290), (292, 290), (293, 290), (295, 290), (296, 290), (297, 290), (298, 290), (307, 290), (308, 290), (309, 290), (312, 290), (313, 290), (314, 290), (315, 290), (316, 290), (317, 290), (318, 290), (319, 290), (320, 290), (321, 290), (328, 290), (373, 290), (374, 290), (375, 290), (380, 290), (382, 290), (383, 290), (384, 290), (385, 290), (392, 290), (395, 290), (396, 290), (397, 290), (398, 290), (399, 290), (402, 290), (407, 290), (408, 290), (421, 290), (423, 290), (424, 290), (425, 290), (434, 290), (444, 290), (445, 290), (446, 290), (447, 290), (449, 290), (459, 290), (471, 290), (472, 290), (478, 290), (479, 290), (480, 290), (481, 290), (482, 290), (485, 290), (486, 290), (515, 290), (517, 290), (521, 290), (524, 290), (530, 290), (533, 290), (534, 290), (535, 290), (540, 290), (547, 290), (552, 290), (556, 290), (557, 290), (558, 290), (587, 290), (607, 290), (609, 290), (619, 290), (620, 290), (622, 290), (623, 290), (652, 290), (654, 290), (715, 290), (716, 290), (729, 290), (730, 290), (731, 290), (735, 290), (738, 290), (741, 290), (742, 290), (744, 290), (745, 290), (762, 290), (764, 290), (765, 290), (769, 290), (771, 290), (772, 290), (773, 290), (774, 290), (779, 290), (780, 290), (781, 290), (789, 290), (819, 290), (820, 290), (822, 290), (823, 290), (824, 290), (825, 290), (829, 290), (830, 290), (835, 290), (840, 290), (842, 290), (4, 507), (7, 507), (14, 507), (20, 507), (39, 507), (40, 507), (41, 507), (48, 507), (49, 507), (83, 507), (84, 507), (105, 507), (106, 507), (108, 507), (109, 507), (111, 507), (112, 507), (149, 507), (150, 507), (166, 507), (167, 507), (168, 507), (169, 507), (171, 507), (180, 507), (184, 507), (233, 507), (234, 507), (255, 507), (256, 507), (257, 507), (260, 507), (261, 507), (262, 507), (263, 507), (264, 507), (265, 507), (266, 507), (268, 507), (277, 507), (280, 507), (281, 507), (283, 507), (360, 507), (362, 507), (386, 507), (387, 507), (391, 507), (401, 507), (409, 507), (415, 507), (417, 507), (418, 507), (419, 507), (426, 507), (431, 507), (450, 507), (458, 507), (460, 507), (461, 507), (490, 507), (496, 507), (497, 507), (498, 507), (504, 507), (505, 507), (506, 507), (507, 507), (509, 507), (512, 507), (514, 507), (522, 507), (525, 507), (532, 507), (541, 507), (543, 507), (544, 507), (559, 507), (561, 507), (562, 507), (563, 507), (586, 507), (635, 507), (636, 507), (638, 507), (639, 507), (640, 507), (641, 507), (642, 507), (643, 507), (644, 507), (647, 507), (648, 507), (649, 507), (650, 507), (651, 507), (653, 507), (655, 507), (656, 507), (657, 507), (710, 507), (712, 507), (713, 507), (739, 507), (756, 507), (757, 507), (773, 507), (788, 507), (790, 507), (791, 507), (792, 507), (793, 507), (799, 507), (803, 507), (804, 507), (814, 507), (831, 507), (841, 507), (3, 516), (6, 516), (38, 516), (94, 516), (102, 516), (104, 516), (118, 516), (120, 516), (121, 516), (122, 516), (127, 516), (128, 516), (132, 516), (133, 516), (134, 516), (135, 516), (136, 516), (137, 516), (138, 516), (158, 516), (160, 516), (173, 516), (247, 516), (248, 516), (249, 516), (250, 516), (251, 516), (270, 516), (271, 516), (299, 516), (301, 516), (302, 516), (304, 516), (306, 516), (358, 516), (412, 516), (430, 516), (433, 516), (465, 516), (466, 516), (467, 516), (468, 516), (510, 516), (516, 516), (536, 516), (537, 516), (553, 516), (554, 516), (610, 516), (614, 516), (615, 516), (616, 516), (617, 516), (618, 516), (626, 516), (630, 516), (631, 516), (633, 516), (687, 516), (688, 516), (696, 516), (698, 516), (699, 516), (700, 516), (701, 516), (702, 516), (703, 516), (704, 516), (707, 516), (708, 516), (786, 516), (833, 516), (16, 566), (17, 566), (18, 566), (23, 566), (24, 566), (25, 566), (26, 566), (27, 566), (42, 566), (43, 566), (44, 566), (51, 566), (59, 566), (60, 566), (61, 566), (74, 566), (75, 566), (76, 566), (77, 566), (78, 566), (86, 566), (87, 566), (88, 566), (89, 566), (90, 566), (131, 566), (142, 566), (143, 566), (155, 566), (185, 566), (186, 566), (187, 566), (188, 566), (189, 566), (190, 566), (198, 566), (202, 566), (203, 566), (204, 566), (221, 566), (224, 566), (225, 566), (226, 566), (229, 566), (236, 566), (241, 566), (333, 566), (346, 566), (364, 566), (365, 566), (366, 566), (367, 566), (393, 566), (427, 566), (436, 566), (452, 566), (454, 566), (455, 566), (456, 566), (457, 566), (484, 566), (487, 566), (493, 566), (494, 566), (502, 566), (527, 566), (539, 566), (546, 566), (566, 566), (569, 566), (598, 566), (658, 566), (660, 566), (661, 566), (663, 566), (664, 566), (666, 566), (667, 566), (668, 566), (669, 566), (670, 566), (671, 566), (722, 566), (723, 566), (747, 566), (752, 566), (753, 566), (784, 566), (785, 566), (802, 566), (827, 566), (834, 566), (836, 566), (837, 566), (838, 566), (839, 566), (843, 566), (844, 566), (845, 566), (847, 566), (5, 602), (9, 602), (11, 602), (21, 602), (33, 602), (67, 602), (70, 602), (72, 602), (73, 602), (91, 602), (92, 602), (93, 602), (95, 602), (96, 602), (154, 602), (159, 602), (175, 602), (176, 602), (181, 602), (182, 602), (183, 602), (201, 602), (216, 602), (217, 602), (219, 602), (244, 602), (245, 602), (246, 602), (303, 602), (305, 602), (322, 602), (324, 602), (325, 602), (327, 602), (372, 602), (378, 602), (379, 602), (388, 602), (389, 602), (390, 602), (400, 602), (405, 602), (406, 602), (410, 602), (413, 602), (414, 602), (422, 602), (428, 602), (432, 602), (448, 602), (469, 602), (470, 602), (473, 602), (474, 602), (475, 602), (476, 602), (477, 602), (491, 602), (492, 602), (499, 602), (500, 602), (503, 602), (513, 602), (518, 602), (519, 602), (528, 602), (529, 602), (538, 602), (545, 602), (555, 602), (571, 602), (579, 602), (580, 602), (602, 602), (603, 602), (604, 602), (605, 602), (621, 602), (676, 602), (678, 602), (682, 602), (717, 602), (718, 602), (725, 602), (726, 602), (750, 602), (751, 602), (754, 602), (755, 602), (758, 602), (759, 602), (760, 602), (761, 602), (776, 602), (777, 602), (801, 602), (805, 602), (806, 602), (807, 602), (808, 602), (809, 602), (810, 602), (821, 602)]\n"
     ]
    }
   ],
   "source": [
    "model = flp(I, J, d, M, c, existing_sites=existing_sites)\n",
    "model.optimize()\n",
    "EPS = 1.e-6\n",
    "x,y = model.data\n",
    "edges = [(i,j) for (i,j) in x if model.getVal(x[i,j]) > EPS]\n",
    "facilities = [j for j in y if model.getVal(y[j]) > EPS]\n",
    "print (\"Optimal value=\", model.getObjVal())\n",
    "print (\"Facilities at nodes:\", facilities)\n",
    "print (\"Edges:\", edges)"
   ]
  },
  {
   "cell_type": "code",
   "execution_count": 45,
   "id": "f02515e5-dde8-421a-b839-04c50d4daa9c",
   "metadata": {},
   "outputs": [],
   "source": [
    "sol = model.getBestSol()\n",
    "\n",
    "assignments = {}\n",
    "for (i_, j_) in x:\n",
    "    if model.getSolVal(sol, x[i_, j_]) > 0.5:\n",
    "        if j_ not in assignments:\n",
    "            assignments[j_] = []\n",
    "        assignments[j_].append(i_)\n"
   ]
  },
  {
   "cell_type": "code",
   "execution_count": 57,
   "id": "16f0e2bd-550c-480e-b556-eb3968b46904",
   "metadata": {},
   "outputs": [],
   "source": [
    "pu_to_facility = {}\n",
    "for facility, pu_list in assignments.items():\n",
    "    for pu_id in pu_list:\n",
    "        pu_to_facility[pu_id] = facility\n",
    "\n",
    "pu['assignment'] = pu['OBJECTID'].map(pu_to_facility)\n"
   ]
  },
  {
   "cell_type": "code",
   "execution_count": 61,
   "id": "be1895b9-d88d-4407-9e72-7a3e02be36ca",
   "metadata": {},
   "outputs": [],
   "source": [
    "pu.to_file('CFLP_solution.geojson', driver='GeoJSON')"
   ]
  },
  {
   "cell_type": "code",
   "execution_count": null,
   "id": "99a90d11-f790-41ff-85e5-da1d6dde0bac",
   "metadata": {},
   "outputs": [],
   "source": []
  }
 ],
 "metadata": {
  "kernelspec": {
   "display_name": "Python [conda env:spatialdata]",
   "language": "python",
   "name": "conda-env-spatialdata-py"
  },
  "language_info": {
   "codemirror_mode": {
    "name": "ipython",
    "version": 3
   },
   "file_extension": ".py",
   "mimetype": "text/x-python",
   "name": "python",
   "nbconvert_exporter": "python",
   "pygments_lexer": "ipython3",
   "version": "3.12.7"
  }
 },
 "nbformat": 4,
 "nbformat_minor": 5
}
