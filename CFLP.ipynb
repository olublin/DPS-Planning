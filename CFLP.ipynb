{
 "cells": [
  {
   "cell_type": "code",
   "execution_count": 2,
   "id": "1a20c85b-3f50-4476-a50e-0751a35dafe4",
   "metadata": {},
   "outputs": [
    {
     "name": "stdout",
     "output_type": "stream",
     "text": [
      "Requirement already satisfied: pyscipopt in /opt/anaconda3/envs/spatialdata/lib/python3.12/site-packages (5.5.0)\n",
      "Requirement already satisfied: numpy>=1.16.0 in /opt/anaconda3/envs/spatialdata/lib/python3.12/site-packages (from pyscipopt) (1.26.4)\n",
      "Note: you may need to restart the kernel to use updated packages.\n"
     ]
    }
   ],
   "source": [
    "pip install pyscipopt"
   ]
  },
  {
   "cell_type": "code",
   "execution_count": 3,
   "id": "2ce7c6ce-0cb9-4ebf-8eb5-df5b06ea7368",
   "metadata": {},
   "outputs": [],
   "source": [
    "from pyscipopt import Model, quicksum, multidict\n",
    "import numpy as np\n",
    "import pandas as pd\n",
    "import geopandas as gpd"
   ]
  },
  {
   "cell_type": "code",
   "execution_count": 4,
   "id": "230d50b7-58ac-4b41-8867-2147c7a13ab4",
   "metadata": {},
   "outputs": [],
   "source": [
    "# adapted from https://scipbook.readthedocs.io/en/latest/flp.html\n",
    "def flp(I,J,d,M,c,existing_sites=None):\n",
    "    model = Model(\"flp\")\n",
    "    x,y = {},{}\n",
    "    for j in J:\n",
    "        y[j] = model.addVar(vtype=\"B\", name=\"y(%s)\"%j)\n",
    "        for i in I:\n",
    "            x[i,j] = model.addVar(vtype=\"C\", name=\"x(%s,%s)\"%(i,j))\n",
    "    for i in I:\n",
    "        model.addCons(quicksum(x[i,j] for j in J) == d[i], \"Demand(%s)\"%i)\n",
    "    for j in M:\n",
    "        model.addCons(quicksum(x[i,j] for i in I) <= M[j]*y[j], \"Capacity(%s)\"%i)\n",
    "    for (i,j) in x:\n",
    "        model.addCons(x[i,j] <= d[i]*y[j], \"Strong(%s,%s)\"%(i,j))\n",
    "    \n",
    "    if existing_sites:\n",
    "        for j in existing_sites:\n",
    "            model.addCons(y[j] == 1, name=f\"ForceOpen({j})\")\n",
    "\n",
    "    model.addCons(quicksum(y[j] for j in J) <= 6, \"FacilityLimit\") \n",
    "            \n",
    "    model.setObjective(\n",
    "        quicksum(c[i,j]*x[i,j] for i in I for j in J),\n",
    "        \"minimize\")\n",
    "    model.data = x,y\n",
    "    return model"
   ]
  },
  {
   "cell_type": "code",
   "execution_count": 5,
   "id": "6b0f240d-d40e-43d9-9a1d-dd73090bd74d",
   "metadata": {},
   "outputs": [],
   "source": [
    "# for I, d make a dictionary of planning units to number of students\n",
    "pu_data = gpd.read_file('GIS_files/pu_with_proj.geojson').set_index('pu_2324_84')\n",
    "pu_data = pu_data['final_proj'].to_dict()\n",
    "\n",
    "I, d = multidict(pu_data)"
   ]
  },
  {
   "cell_type": "code",
   "execution_count": 6,
   "id": "26299862-e172-4bfe-8df2-6236a59f6440",
   "metadata": {},
   "outputs": [],
   "source": [
    "# for J, M make a dictionary of sites to capacities\n",
    "schools = gpd.read_file('/Users/leahwallihan/Durham_school_planning/DPS-Planning/dps_hs_locations.geojson')\n",
    "schools = schools.to_crs('EPSG:4326')\n",
    "pu = gpd.read_file('/Users/leahwallihan/Durham_school_planning/geospatial files/pu_shape.geojson')\n",
    "pu = pu.to_crs('EPSG:4326')\n",
    "\n",
    "for i, geometry in enumerate(pu['geometry']):\n",
    "    in_geometry = geometry.contains(schools['geometry'])\n",
    "    pu_id = pu.loc[i, 'OBJECTID']\n",
    "\n",
    "    schools.loc[in_geometry, 'pu'] = pu_id"
   ]
  },
  {
   "cell_type": "code",
   "execution_count": 7,
   "id": "15350198-5423-4197-a2c5-65ccea2f5b7a",
   "metadata": {},
   "outputs": [
    {
     "name": "stderr",
     "output_type": "stream",
     "text": [
      "/var/folders/ml/wj07z83j0yq4rjs8n_7sv0mw0000gn/T/ipykernel_53631/2872351155.py:10: UserWarning: Geometry is in a geographic CRS. Results from 'centroid' are likely incorrect. Use 'GeoSeries.to_crs()' to re-project geometries to a projected CRS before this operation.\n",
      "\n",
      "  school_centroids = schools.geometry.centroid\n"
     ]
    }
   ],
   "source": [
    "# let's remove planning units in the North from J to make problem simpler\n",
    "not_north = pu[(pu['Region'] != 'Central')]\n",
    "\n",
    "# initialize dictionary of planning units with capacity of 1600 for potential site\n",
    "pu_dict = {}\n",
    "for _, row in not_north.iterrows():\n",
    "    pu_dict[row['OBJECTID']] = 1600\n",
    "\n",
    "# find which planning units have existing school\n",
    "schools['pu'] = None\n",
    "\n",
    "for i, geometry in enumerate(pu['geometry']):\n",
    "    in_geometry = school_centroids.within(geometry)\n",
    "    pu_id = pu.loc[i, 'OBJECTID']\n",
    "    schools.loc[in_geometry, 'pu'] = pu_id\n",
    "\n",
    "# replace capacities of planning units with existing schools\n",
    "pu_dict[45] = 1600\n",
    "pu_dict[507] = 1810\n",
    "pu_dict[602] = 1540\n",
    "pu_dict[566] = 1540\n",
    "pu_dict[290] = 1535\n",
    "\n",
    "J, M = multidict(pu_dict)\n",
    "\n",
    "# define which sites already exist\n",
    "existing_sites = {602, 290, 45, 566, 507}"
   ]
  },
  {
   "cell_type": "code",
   "execution_count": 8,
   "id": "350f9724-36e5-4c67-8ca2-9969b063bc6e",
   "metadata": {},
   "outputs": [
    {
     "name": "stderr",
     "output_type": "stream",
     "text": [
      "/var/folders/ml/wj07z83j0yq4rjs8n_7sv0mw0000gn/T/ipykernel_53631/3496151326.py:4: UserWarning: Geometry is in a geographic CRS. Results from 'centroid' are likely incorrect. Use 'GeoSeries.to_crs()' to re-project geometries to a projected CRS before this operation.\n",
      "\n",
      "  school_centroids = schools.set_index('pu').geometry.centroid #use centroid of schools for distance calculation\n",
      "/var/folders/ml/wj07z83j0yq4rjs8n_7sv0mw0000gn/T/ipykernel_53631/3496151326.py:5: UserWarning: Geometry is in a geographic CRS. Results from 'centroid' are likely incorrect. Use 'GeoSeries.to_crs()' to re-project geometries to a projected CRS before this operation.\n",
      "\n",
      "  pu_centroids = pu.set_index('OBJECTID').geometry.centroid\n"
     ]
    }
   ],
   "source": [
    "# create distance matrix\n",
    "c = {}\n",
    "\n",
    "school_centroids = schools.set_index('pu').geometry.centroid #use centroid of schools for distance calculation\n",
    "pu_centroids = pu.set_index('OBJECTID').geometry.centroid \n",
    "\n",
    "for i in I:\n",
    "    for j in J:\n",
    "        dist = pu_centroids[i].distance(pu_centroids[j])\n",
    "        c[i, j] = dist"
   ]
  },
  {
   "cell_type": "code",
   "execution_count": 9,
   "id": "bd4970da-08bb-419c-ae1e-61b40841e59d",
   "metadata": {},
   "outputs": [
    {
     "data": {
      "text/plain": [
       "'\\nfor testing:\\nI_small = random.sample(I, 100)\\nd_small = {i: d[i] for i in I_small}\\nc_small = {(i,j): c[i,j] for i in I_small for j in J if (i,j) in c}\\n\\nmodel = flp(I_small, J, d_small, M, c_small, existing_sites=existing_sites)\\nmodel.optimize()\\nEPS = 1.e-6\\nx,y = model.data\\nedges = [(i,j) for (i,j) in x if model.getVal(x[i,j]) > EPS]\\nfacilities = [j for j in y if model.getVal(y[j]) > EPS]\\nprint (\"Optimal value=\", model.getObjVal())\\nprint (\"Facilities at nodes:\", facilities)\\nprint (\"Edges:\", edges)\\n'"
      ]
     },
     "execution_count": 9,
     "metadata": {},
     "output_type": "execute_result"
    }
   ],
   "source": [
    "'''\n",
    "for testing:\n",
    "I_small = random.sample(I, 100)\n",
    "d_small = {i: d[i] for i in I_small}\n",
    "c_small = {(i,j): c[i,j] for i in I_small for j in J if (i,j) in c}\n",
    "\n",
    "model = flp(I_small, J, d_small, M, c_small, existing_sites=existing_sites)\n",
    "model.optimize()\n",
    "EPS = 1.e-6\n",
    "x,y = model.data\n",
    "edges = [(i,j) for (i,j) in x if model.getVal(x[i,j]) > EPS]\n",
    "facilities = [j for j in y if model.getVal(y[j]) > EPS]\n",
    "print (\"Optimal value=\", model.getObjVal())\n",
    "print (\"Facilities at nodes:\", facilities)\n",
    "print (\"Edges:\", edges)\n",
    "'''"
   ]
  },
  {
   "cell_type": "code",
   "execution_count": null,
   "id": "13455306-62e8-4cc7-a274-594a85149086",
   "metadata": {},
   "outputs": [],
   "source": [
    "model = flp(I, J, d, M, c, existing_sites=existing_sites)\n",
    "model.setParam('limits/solutions', 7)\n",
    "model.optimize()\n",
    "EPS = 1.e-6\n",
    "x,y = model.data\n",
    "edges = [(i,j) for (i,j) in x if model.getVal(x[i,j]) > EPS]\n",
    "facilities = [j for j in y if model.getVal(y[j]) > EPS]\n",
    "print (\"Optimal value=\", model.getObjVal())\n",
    "print (\"Facilities at nodes:\", facilities)\n",
    "print (\"Edges:\", edges)"
   ]
  },
  {
   "cell_type": "code",
   "execution_count": 45,
   "id": "f02515e5-dde8-421a-b839-04c50d4daa9c",
   "metadata": {},
   "outputs": [],
   "source": [
    "sol = model.getBestSol()\n",
    "\n",
    "assignments = {}\n",
    "for (i_, j_) in x:\n",
    "    if model.getSolVal(sol, x[i_, j_]) > 0.5:\n",
    "        if j_ not in assignments:\n",
    "            assignments[j_] = []\n",
    "        assignments[j_].append(i_)\n"
   ]
  },
  {
   "cell_type": "code",
   "execution_count": 57,
   "id": "16f0e2bd-550c-480e-b556-eb3968b46904",
   "metadata": {},
   "outputs": [],
   "source": [
    "pu_to_facility = {}\n",
    "for facility, pu_list in assignments.items():\n",
    "    for pu_id in pu_list:\n",
    "        pu_to_facility[pu_id] = facility\n",
    "\n",
    "pu['assignment'] = pu['OBJECTID'].map(pu_to_facility)\n"
   ]
  },
  {
   "cell_type": "code",
   "execution_count": 61,
   "id": "be1895b9-d88d-4407-9e72-7a3e02be36ca",
   "metadata": {},
   "outputs": [],
   "source": [
    "pu.to_file('CFLP_solution.geojson', driver='GeoJSON')"
   ]
  },
  {
   "cell_type": "code",
   "execution_count": null,
   "id": "99a90d11-f790-41ff-85e5-da1d6dde0bac",
   "metadata": {},
   "outputs": [],
   "source": []
  }
 ],
 "metadata": {
  "kernelspec": {
   "display_name": "Python [conda env:spatialdata]",
   "language": "python",
   "name": "conda-env-spatialdata-py"
  },
  "language_info": {
   "codemirror_mode": {
    "name": "ipython",
    "version": 3
   },
   "file_extension": ".py",
   "mimetype": "text/x-python",
   "name": "python",
   "nbconvert_exporter": "python",
   "pygments_lexer": "ipython3",
   "version": "3.12.7"
  }
 },
 "nbformat": 4,
 "nbformat_minor": 5
}
