{
 "cells": [
  {
   "cell_type": "code",
   "execution_count": 34,
   "id": "4521a647-39a0-42d7-9a2a-dcdf0a851f7c",
   "metadata": {},
   "outputs": [],
   "source": [
    "import numpy as np\n",
    "import pandas as pd\n",
    "import geopandas as gpd"
   ]
  },
  {
   "cell_type": "code",
   "execution_count": 36,
   "id": "f426a531-a51f-434c-afc3-4ae21114dc63",
   "metadata": {},
   "outputs": [],
   "source": [
    "shape_file = gpd.read_file('/Users/leahwallihan/Durham_school_planning/nc_censustract_shape')\n",
    "pop_data = pd.read_csv('/Users/leahwallihan/Durham_school_planning/censustract_pop_data.csv')"
   ]
  },
  {
   "cell_type": "code",
   "execution_count": 38,
   "id": "bf14ced3-634f-4080-94aa-d0be646eb1d2",
   "metadata": {},
   "outputs": [],
   "source": [
    "durham_shape = shape_file[shape_file['COUNTYFP'] == '063']"
   ]
  },
  {
   "cell_type": "code",
   "execution_count": 40,
   "id": "6686e613-9ced-4eec-bab5-8db6a1c9ddd8",
   "metadata": {},
   "outputs": [],
   "source": [
    "def extract_censustract(namelsad):\n",
    "    tract_num = namelsad.split(' ')[2]\n",
    "    return int(pop_data[f'Census Tract {tract_num}; Durham County; North Carolina!!Total!!Estimate'].iloc[0].replace(',', ''))"
   ]
  },
  {
   "cell_type": "code",
   "execution_count": 44,
   "id": "cae80e74-e657-4ba9-9c67-75d4bc2d4c8e",
   "metadata": {},
   "outputs": [],
   "source": [
    "durham_shape = durham_shape.copy()\n",
    "durham_shape['total_pop'] = durham_shape['NAMELSAD'].apply(extract_censustract)"
   ]
  },
  {
   "cell_type": "code",
   "execution_count": 46,
   "id": "38cc50ed-1bd7-472a-b660-75ffe6a1a1f9",
   "metadata": {},
   "outputs": [],
   "source": [
    "durham_shape['pop_density'] = durham_shape['total_pop'] / durham_shape['ALAND']"
   ]
  },
  {
   "cell_type": "code",
   "execution_count": 50,
   "id": "c9055f84-1c7e-4cb1-9533-ce7f468dfd65",
   "metadata": {},
   "outputs": [],
   "source": [
    "durham_shape.to_file('censustract_pop.geojson', driver='GeoJSON')"
   ]
  },
  {
   "cell_type": "code",
   "execution_count": null,
   "id": "46daa6b8-d2a3-4614-b3e1-29f5f5d308c7",
   "metadata": {},
   "outputs": [],
   "source": []
  }
 ],
 "metadata": {
  "kernelspec": {
   "display_name": "Python [conda env:spatialdata]",
   "language": "python",
   "name": "conda-env-spatialdata-py"
  },
  "language_info": {
   "codemirror_mode": {
    "name": "ipython",
    "version": 3
   },
   "file_extension": ".py",
   "mimetype": "text/x-python",
   "name": "python",
   "nbconvert_exporter": "python",
   "pygments_lexer": "ipython3",
   "version": "3.12.7"
  }
 },
 "nbformat": 4,
 "nbformat_minor": 5
}
